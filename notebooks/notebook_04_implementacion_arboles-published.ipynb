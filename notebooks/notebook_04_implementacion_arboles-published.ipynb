{
  "cells": [
    {
      "cell_type": "markdown",
      "metadata": {
        "id": "view-in-github",
        "colab_type": "text"
      },
      "source": [
        "<a href=\"https://colab.research.google.com/github/AzulBarr/Aprendizaje-Automatico/blob/main/notebooks/notebook_04_implementacion_arboles-published.ipynb\" target=\"_parent\"><img src=\"https://colab.research.google.com/assets/colab-badge.svg\" alt=\"Open In Colab\"/></a>"
      ]
    },
    {
      "cell_type": "markdown",
      "metadata": {
        "id": "3PGNXySry0K4"
      },
      "source": [
        "[![Open In Colab](https://colab.research.google.com/assets/colab-badge.svg)](https://colab.research.google.com/github/aprendizaje-automatico-dc-uba-ar/material/blob/main/notebooks/notebook_04_implementacion_arboles-published.ipynb)\n",
        "\n",
        "## Árboles de decisión\n",
        "\n",
        "### Metiendonos debajo del capot\n",
        "\n",
        "En esta notebook exploraremos el funcionamiento de un árbol de decisión construido aquí mismo.\n",
        "\n",
        "Para eso contaremos con algunas partes de código resueltas y otras que se deberán completar.\n",
        "\n",
        "El objetivo será comprender la esencia de cómo se comportan los árboles a medida que le vamos agregando funcionalidad (o introduciendo _bugs_) para entender mejor su funcionamiento."
      ]
    },
    {
      "cell_type": "code",
      "execution_count": null,
      "metadata": {
        "id": "rndfh-8ty0K7"
      },
      "outputs": [],
      "source": [
        "# Puede ser necesario instalar graphviz\n",
        "#!pip install graphviz"
      ]
    },
    {
      "cell_type": "code",
      "execution_count": 1,
      "metadata": {
        "id": "KrYL9cdFy0K9"
      },
      "outputs": [],
      "source": [
        "# Cargamos bibliotecas necesarias\n",
        "import numpy as np\n",
        "import pandas as pd\n",
        "\n",
        "from collections import Counter\n",
        "import operator # Trae los operadores de Python como funciones y no infix\n",
        "from IPython.display import Image, display\n",
        "\n",
        "from graphviz import Digraph\n",
        "import pydotplus"
      ]
    },
    {
      "cell_type": "markdown",
      "metadata": {
        "id": "wDV2eNDmy0K9"
      },
      "source": [
        "A lo largo de esta notebook usaremos objetos de distintos tipos de datos. Por simplicidad diremos que en todos los casos asumiremos que los parámetros pasados para cada función serán de los siguientes tipos:\n",
        "\n",
        "   - el parámetro `instancias` será un `DataFrame` de `pandas`\n",
        "   - el parámetro `etiquetas` será un `array` de `numpy` con valores `'Si'`, `'No'` (mismo para `etiquetas_rama_izquierda` y `etiquetas_rama_derecha`)\n",
        "   - el parámetro `pregunta` será un objeto de la clase `Decision` que es definida en este mismo archivo\n",
        "\n",
        "\n",
        "La clase Árbol que definiremos a continuación, consta de:\n",
        "\n",
        "   - un constructor\n",
        "   - el método `fit` para entrenarlo (a modo de sklearn)\n",
        "   - el método `predict` para dada una instancia predecir su etiqueta\n",
        "   - el método `score` no se encuentra implementar aún\n",
        "   - métodos para visualizar y explorar el árbol\n",
        "\n"
      ]
    },
    {
      "cell_type": "code",
      "execution_count": 2,
      "metadata": {
        "id": "yE9W1gkgy0K-"
      },
      "outputs": [],
      "source": [
        "# Definición de la clase árbol\n",
        "from typing import Optional, Tuple\n",
        "\n",
        "\n",
        "class Tree:\n",
        "    def __init__(\n",
        "        self,\n",
        "        decision=None,  # Esto va a tener tipo Decision, una clase que vamos a definir más adelante\n",
        "        left: Optional[\"Tree\"] = None,\n",
        "        right: Optional[\"Tree\"] = None,\n",
        "        labels: Optional[np.ndarray] = None,\n",
        "    ):\n",
        "        self.decision = decision\n",
        "        self.left = left\n",
        "        self.right = right\n",
        "\n",
        "        self.data = Counter(labels) if labels is not None else None\n",
        "\n",
        "    def fit(self, instancias: pd.DataFrame, etiquetas: np.ndarray):\n",
        "        # ALGORITMO RECURSIVO para construcción de un árbol de decisión binario.\n",
        "\n",
        "        # Suponemos que estamos parados en la raiz del árbol y tenemos que decidir cómo construirlo.\n",
        "        gain, decision = encontrar_mejor_atributo_y_corte(instancias, etiquetas)\n",
        "\n",
        "        # Criterio de corte: ¿Hay ganancia?\n",
        "        if gain <= 0:\n",
        "            #  Si no hay ganancia en separar, no separamos.\n",
        "            self.data = Counter(etiquetas)\n",
        "        else:\n",
        "            # Si hay ganancia en partir el conjunto en 2\n",
        "            (\n",
        "                instancias_cumplen,\n",
        "                etiquetas_cumplen,\n",
        "                instancias_no_cumplen,\n",
        "                etiquetas_no_cumplen,\n",
        "            ) = partir_segun(decision, instancias, etiquetas)\n",
        "            # partir devuelve instancias y etiquetas que caen en cada rama (izquierda y derecha)\n",
        "\n",
        "            # Paso recursivo (consultar con el computadorX más cercano)\n",
        "            sub_arbol_izquierdo = Tree()\n",
        "            sub_arbol_izquierdo.fit(instancias_cumplen, etiquetas_cumplen)\n",
        "            sub_arbol_derecho = Tree()\n",
        "            sub_arbol_derecho.fit(instancias_no_cumplen, etiquetas_no_cumplen)\n",
        "            # los pasos anteriores crean todo lo que necesitemos de sub-árbol izquierdo y sub-árbol derecho\n",
        "\n",
        "            self.decision = decision\n",
        "            self.left = sub_arbol_izquierdo\n",
        "            self.right = sub_arbol_derecho\n",
        "            self.data = Counter(etiquetas)\n",
        "\n",
        "    def predict(self, x_t: pd.Series) -> str:\n",
        "        if self.decision is None:\n",
        "            if self.data[\"positive\"] > self.data[\"negative\"]:\n",
        "                return \"positive\"\n",
        "            else:\n",
        "                return \"negative\"\n",
        "        else:\n",
        "            if self.decision.test(x_t):\n",
        "                return self.left.predict(x_t)\n",
        "            else:\n",
        "                return self.right.predict(x_t)\n",
        "\n",
        "    def score(self, X_test: pd.DataFrame, y_test: np.ndarray) -> float:\n",
        "        # COMPLETAR\n",
        "        pass\n",
        "\n",
        "    def __repr__(self) -> str:\n",
        "        return self._imprimir_arbol()\n",
        "\n",
        "    def _imprimir_arbol(self, spacing: str = \"\") -> str:\n",
        "        res = []\n",
        "        if self.decision is None:\n",
        "            res.append(spacing + f\"Hoja: {dict(self.data)}\")\n",
        "        else:\n",
        "            res.append(spacing + f\"{str(self.decision)} - {dict(self.data)}\")\n",
        "\n",
        "        if self.left is not None:\n",
        "            res.append(spacing + \"--> True:\")\n",
        "            res.append(self.left._imprimir_arbol(spacing + \"  \"))\n",
        "\n",
        "        if self.right is not None:\n",
        "            res.append(spacing + \"--> False:\")\n",
        "            res.append(self.right._imprimir_arbol(spacing + \"  \"))\n",
        "\n",
        "        return \"\\n\".join(res)\n",
        "\n",
        "    def render(self) -> Digraph:\n",
        "        dot = Digraph()\n",
        "\n",
        "        self.dot_tree_aux(self, dot, prefix=\"\")\n",
        "\n",
        "        return dot\n",
        "\n",
        "    def dot_tree_aux(self, subtree: \"Tree\", dot: Digraph, prefix: str):\n",
        "        label = [\n",
        "            (\n",
        "                f\"{subtree.decision.feature}: {subtree.decision.value}\"\n",
        "                if subtree.decision is not None\n",
        "                else \"\"\n",
        "            ),\n",
        "            f\"n={sum(subtree.data.values())}\",\n",
        "            str(dict(subtree.data)),\n",
        "        ]\n",
        "        label = \"\\n\".join(label)\n",
        "        col = \"#029E3980\" if subtree.data.most_common(1)[0][0] == \"Si\" else \"#EA080080\"\n",
        "        dot.node(prefix + \"n\", label=label, shape=\"box\", fillcolor=col, style=\"filled\")\n",
        "\n",
        "        if subtree.left:\n",
        "            self.dot_tree_aux(subtree.left, dot, prefix + \"l\")\n",
        "            dot.edge(prefix + \"n\", prefix + \"ln\", label=\"True\")\n",
        "\n",
        "        if subtree.right:\n",
        "            self.dot_tree_aux(subtree.right, dot, prefix + \"r\")\n",
        "            dot.edge(prefix + \"n\", prefix + \"rn\", label=\"False\")"
      ]
    },
    {
      "cell_type": "markdown",
      "metadata": {
        "id": "EO_mfcI1y0K-"
      },
      "source": [
        "Para la decisiones en cada nodo tendremos la siguiente clase. Actualmente funciona comparando por igualdad, pero podría ser extendida en el futuro."
      ]
    },
    {
      "cell_type": "code",
      "execution_count": 3,
      "metadata": {
        "id": "7SvKc5S6y0K_"
      },
      "outputs": [],
      "source": [
        "from typing import Any\n",
        "\n",
        "class Decision:\n",
        "    def __init__(self, feature: str, value: Any, test_function=operator.eq):\n",
        "        self.feature = feature\n",
        "        self.value = value\n",
        "        self.test_function = test_function\n",
        "\n",
        "    def test(self, x: pd.Series) -> bool:\n",
        "        # Devuelve verdadero si la instancia cumple con la pregunta\n",
        "        return self.test_function(self.value, x[self.feature])\n",
        "\n",
        "    def __repr__(self):\n",
        "        return \"¿Es el valor para {} igual a {}?\".format(self.feature, self.value)"
      ]
    },
    {
      "cell_type": "markdown",
      "metadata": {
        "id": "uj1MLAH1y0K_"
      },
      "source": [
        "## Funciones a completar\n",
        "\n",
        "Primero definir la función `gini`, que dado unas etiquetas dan el grado de impureza (ver definición en la teórica), se espera que devuelva un `float`."
      ]
    },
    {
      "cell_type": "code",
      "execution_count": 4,
      "metadata": {
        "id": "8bywajLTy0LA"
      },
      "outputs": [],
      "source": [
        "def gini(etiquetas: np.ndarray) -> float:\n",
        "    # COMPLETAR\n",
        "    impureza = 0\n",
        "    _, counts = np.unique(etiquetas, return_counts=True)\n",
        "\n",
        "    # calcular proporciones\n",
        "    probs = counts / counts.sum()\n",
        "\n",
        "    # aplicar fórmula de gini\n",
        "    impureza = 1 - np.sum(probs ** 2)\n",
        "\n",
        "    return impureza"
      ]
    },
    {
      "cell_type": "markdown",
      "metadata": {
        "id": "WirCSGbRy0LA"
      },
      "source": [
        "Definir la función `ganancia_gini` que dadas ciertas instancias y una posible separación entre dos ramas nos de la mejora que obtendremos al separar de esta manera. Devuelve un `float`."
      ]
    },
    {
      "cell_type": "code",
      "execution_count": 6,
      "metadata": {
        "id": "2VpWzBf2y0LA"
      },
      "outputs": [],
      "source": [
        "def ganancia_gini(etiquetas_rama_izquierda: np.ndarray, etiquetas_rama_derecha: np.ndarray) -> float:\n",
        "    # COMPLETAR\n",
        "    etiquetas = np.concatenate([etiquetas_rama_izquierda, etiquetas_rama_derecha])\n",
        "    gini_total = gini(etiquetas)\n",
        "    gini_rama_izquierda = gini(etiquetas_rama_izquierda)\n",
        "    gini_rama_derecha = gini(etiquetas_rama_derecha)\n",
        "    proporcion_rama_izquierda = len(etiquetas_rama_izquierda) / len(etiquetas)\n",
        "    proporcion_rama_derecha = len(etiquetas_rama_derecha) / len(etiquetas)\n",
        "    ganancia_gini = gini_total - (gini_rama_izquierda * proporcion_rama_izquierda + gini_rama_derecha * proporcion_rama_derecha)\n",
        "    return ganancia_gini"
      ]
    },
    {
      "cell_type": "markdown",
      "metadata": {
        "id": "rweC0vH5y0LB"
      },
      "source": [
        "Definir `partir_segun` que debe separar instancias y etiquetas según si cada instancia cumple o no con condición (ver método `test` de la clase `Decision`).\n",
        "\n",
        "Para este punto se recomienda la utilizacion de máscaras de pandas (ver Notebook 01 - Herramientas).\n",
        "\n",
        "Siguiendo con lo mencionado al inicio del NoteBook, la función debe devolver:\n",
        "\n",
        "   - 2 `DataFrame` de `pandas` con las instancias que cumplen (`instancias_cumplen`) y las que no `instancias_no_cumplen`\n",
        "   - 2 `array` de `numpy` con valores `'Si'`, `'No'`, uno con el valor de la etiqueta para las intancias que cumplen con la pregunta (`etiquetas_cumplen`) y otro con las etiquetas de las que no cumple (`etiquetas_cumplen`)\n"
      ]
    },
    {
      "cell_type": "code",
      "execution_count": 8,
      "metadata": {
        "id": "ERftpOlry0LB"
      },
      "outputs": [],
      "source": [
        "def partir_segun(\n",
        "    pregunta: Decision,\n",
        "    instancias: pd.DataFrame,\n",
        "    etiquetas: np.ndarray\n",
        ") -> Tuple[pd.DataFrame, np.ndarray, pd.DataFrame, np.ndarray]:\n",
        "    # Esta función debe separar instancias y etiquetas según si cada instancia cumple o no\n",
        "    # COMPLETAR\n",
        "    (instancias_cumplen,\n",
        "         etiquetas_cumplen,\n",
        "         instancias_no_cumplen,\n",
        "         etiquetas_no_cumplen) = (instancias[pregunta.test(instancias)],\n",
        "                                   etiquetas[pregunta.test(instancias)],\n",
        "                                   instancias[~pregunta.test(instancias)],\n",
        "                                   etiquetas[~pregunta.test(instancias)])\n",
        "\n",
        "    return instancias_cumplen, etiquetas_cumplen, instancias_no_cumplen, etiquetas_no_cumplen"
      ]
    },
    {
      "cell_type": "markdown",
      "metadata": {
        "id": "s-Ya4hv6y0LB"
      },
      "source": [
        "A continuación se propone una implementación para poder encontrar el mejor atributo y corte posible. Esta función devuelve un `float` y una `Decision` correspondientes al mejor atributo y corte."
      ]
    },
    {
      "cell_type": "code",
      "execution_count": 9,
      "metadata": {
        "id": "QDWjvaRiy0LC"
      },
      "outputs": [],
      "source": [
        "def encontrar_mejor_atributo_y_corte(\n",
        "    instancias: pd.DataFrame, etiquetas: np.ndarray\n",
        ") -> Tuple[float, Decision]:\n",
        "    # Implementación Gini Gain.\n",
        "    max_ganancia = 0\n",
        "    mejor_pregunta = None\n",
        "    for columna in instancias.columns:\n",
        "        for valor in set(instancias[columna]):\n",
        "            # Probando corte para atributo y valor\n",
        "            pregunta = Decision(columna, valor)\n",
        "            _, etiquetas_rama_izquierda, _, etiquetas_rama_derecha = partir_segun(\n",
        "                pregunta, instancias, etiquetas\n",
        "            )\n",
        "            if len(etiquetas_rama_izquierda) == 0 or len(etiquetas_rama_derecha) == 0:\n",
        "                continue\n",
        "\n",
        "            ganancia = ganancia_gini(etiquetas_rama_izquierda, etiquetas_rama_derecha)\n",
        "\n",
        "            if ganancia > max_ganancia:\n",
        "                max_ganancia = ganancia\n",
        "                mejor_pregunta = pregunta\n",
        "\n",
        "    return max_ganancia, mejor_pregunta"
      ]
    },
    {
      "cell_type": "markdown",
      "metadata": {
        "id": "hiAIHSvIy0LC"
      },
      "source": [
        "Dado el siguiente dataset:"
      ]
    },
    {
      "cell_type": "code",
      "execution_count": 10,
      "metadata": {
        "id": "MchALsGdy0LC"
      },
      "outputs": [],
      "source": [
        "from sklearn.datasets import fetch_openml\n",
        "import sklearn.model_selection\n",
        "\n",
        "tictactoe = fetch_openml(name='tic-tac-toe', version=1, as_frame=True)\n",
        "X_train, X_test, y_train, y_test = sklearn.model_selection.train_test_split(\n",
        "                    tictactoe['data'],\n",
        "                    tictactoe['target'],\n",
        "                    random_state=4,\n",
        "                    test_size=0.1)"
      ]
    },
    {
      "cell_type": "markdown",
      "metadata": {
        "id": "XZY7mJC_y0LD"
      },
      "source": [
        "Completar las funciones previas, entrenar y visualizar un Árbol de Decisión."
      ]
    },
    {
      "cell_type": "code",
      "execution_count": 11,
      "metadata": {
        "id": "36yZG9uVy0LD",
        "outputId": "5042f1b5-66a6-4e22-bd7d-bde88f6131b9",
        "colab": {
          "base_uri": "https://localhost:8080/",
          "height": 1000
        }
      },
      "outputs": [
        {
          "output_type": "stream",
          "name": "stdout",
          "text": [
            "¿Es el valor para middle-middle-square igual a o? - {'negative': 295, 'positive': 567}\n",
            "--> True:\n",
            "  ¿Es el valor para top-left-square igual a x? - {'negative': 172, 'positive': 134}\n",
            "  --> True:\n",
            "    ¿Es el valor para top-right-square igual a x? - {'negative': 68, 'positive': 79}\n",
            "    --> True:\n",
            "      ¿Es el valor para top-middle-square igual a x? - {'negative': 21, 'positive': 45}\n",
            "      --> True:\n",
            "        Hoja: {'positive': 37}\n",
            "      --> False:\n",
            "        ¿Es el valor para bottom-middle-square igual a b? - {'negative': 21, 'positive': 8}\n",
            "        --> True:\n",
            "          ¿Es el valor para middle-left-square igual a o? - {'negative': 3, 'positive': 4}\n",
            "          --> True:\n",
            "            ¿Es el valor para middle-right-square igual a o? - {'negative': 3, 'positive': 1}\n",
            "            --> True:\n",
            "              Hoja: {'negative': 3}\n",
            "            --> False:\n",
            "              Hoja: {'positive': 1}\n",
            "          --> False:\n",
            "            Hoja: {'positive': 3}\n",
            "        --> False:\n",
            "          ¿Es el valor para top-middle-square igual a o? - {'negative': 18, 'positive': 4}\n",
            "          --> True:\n",
            "            ¿Es el valor para bottom-left-square igual a o? - {'negative': 13, 'positive': 1}\n",
            "            --> True:\n",
            "              ¿Es el valor para middle-left-square igual a o? - {'negative': 3, 'positive': 1}\n",
            "              --> True:\n",
            "                Hoja: {'positive': 1}\n",
            "              --> False:\n",
            "                Hoja: {'negative': 3}\n",
            "            --> False:\n",
            "              Hoja: {'negative': 10}\n",
            "          --> False:\n",
            "            ¿Es el valor para bottom-middle-square igual a o? - {'positive': 3, 'negative': 5}\n",
            "            --> True:\n",
            "              ¿Es el valor para bottom-right-square igual a o? - {'positive': 3, 'negative': 2}\n",
            "              --> True:\n",
            "                Hoja: {'negative': 1}\n",
            "              --> False:\n",
            "                ¿Es el valor para middle-left-square igual a o? - {'positive': 3, 'negative': 1}\n",
            "                --> True:\n",
            "                  ¿Es el valor para middle-right-square igual a o? - {'negative': 1, 'positive': 1}\n",
            "                  --> True:\n",
            "                    Hoja: {'negative': 1}\n",
            "                  --> False:\n",
            "                    Hoja: {'positive': 1}\n",
            "                --> False:\n",
            "                  Hoja: {'positive': 2}\n",
            "            --> False:\n",
            "              Hoja: {'negative': 3}\n",
            "    --> False:\n",
            "      ¿Es el valor para bottom-left-square igual a x? - {'negative': 47, 'positive': 34}\n",
            "      --> True:\n",
            "        ¿Es el valor para middle-left-square igual a x? - {'negative': 12, 'positive': 34}\n",
            "        --> True:\n",
            "          Hoja: {'positive': 28}\n",
            "        --> False:\n",
            "          ¿Es el valor para middle-right-square igual a b? - {'negative': 12, 'positive': 6}\n",
            "          --> True:\n",
            "            Hoja: {'positive': 3}\n",
            "          --> False:\n",
            "            ¿Es el valor para bottom-middle-square igual a x? - {'negative': 12, 'positive': 3}\n",
            "            --> True:\n",
            "              ¿Es el valor para bottom-right-square igual a x? - {'negative': 4, 'positive': 3}\n",
            "              --> True:\n",
            "                Hoja: {'positive': 3}\n",
            "              --> False:\n",
            "                Hoja: {'negative': 4}\n",
            "            --> False:\n",
            "              Hoja: {'negative': 8}\n",
            "      --> False:\n",
            "        Hoja: {'negative': 35}\n",
            "  --> False:\n",
            "    ¿Es el valor para bottom-right-square igual a x? - {'negative': 104, 'positive': 55}\n",
            "    --> True:\n",
            "      ¿Es el valor para top-middle-square igual a x? - {'positive': 55, 'negative': 35}\n",
            "      --> True:\n",
            "        ¿Es el valor para bottom-left-square igual a o? - {'positive': 12, 'negative': 19}\n",
            "        --> True:\n",
            "          ¿Es el valor para top-right-square igual a o? - {'negative': 12, 'positive': 2}\n",
            "          --> True:\n",
            "            Hoja: {'negative': 9}\n",
            "          --> False:\n",
            "            ¿Es el valor para middle-right-square igual a x? - {'negative': 3, 'positive': 2}\n",
            "            --> True:\n",
            "              Hoja: {'positive': 2}\n",
            "            --> False:\n",
            "              Hoja: {'negative': 3}\n",
            "        --> False:\n",
            "          ¿Es el valor para middle-right-square igual a o? - {'positive': 10, 'negative': 7}\n",
            "          --> True:\n",
            "            ¿Es el valor para top-right-square igual a x? - {'negative': 6, 'positive': 3}\n",
            "            --> True:\n",
            "              Hoja: {'negative': 5}\n",
            "            --> False:\n",
            "              ¿Es el valor para middle-left-square igual a o? - {'positive': 3, 'negative': 1}\n",
            "              --> True:\n",
            "                Hoja: {'negative': 1}\n",
            "              --> False:\n",
            "                Hoja: {'positive': 3}\n",
            "          --> False:\n",
            "            ¿Es el valor para middle-left-square igual a x? - {'positive': 7, 'negative': 1}\n",
            "            --> True:\n",
            "              Hoja: {'negative': 1}\n",
            "            --> False:\n",
            "              Hoja: {'positive': 7}\n",
            "      --> False:\n",
            "        ¿Es el valor para bottom-middle-square igual a o? - {'positive': 43, 'negative': 16}\n",
            "        --> True:\n",
            "          ¿Es el valor para top-middle-square igual a o? - {'positive': 5, 'negative': 8}\n",
            "          --> True:\n",
            "            Hoja: {'negative': 8}\n",
            "          --> False:\n",
            "            Hoja: {'positive': 5}\n",
            "        --> False:\n",
            "          ¿Es el valor para top-right-square igual a o? - {'positive': 38, 'negative': 8}\n",
            "          --> True:\n",
            "            ¿Es el valor para bottom-left-square igual a x? - {'positive': 7, 'negative': 6}\n",
            "            --> True:\n",
            "              ¿Es el valor para bottom-middle-square igual a b? - {'positive': 7, 'negative': 1}\n",
            "              --> True:\n",
            "                Hoja: {'negative': 1}\n",
            "              --> False:\n",
            "                Hoja: {'positive': 7}\n",
            "            --> False:\n",
            "              Hoja: {'negative': 5}\n",
            "          --> False:\n",
            "            ¿Es el valor para middle-right-square igual a o? - {'positive': 31, 'negative': 2}\n",
            "            --> True:\n",
            "              ¿Es el valor para middle-left-square igual a o? - {'positive': 5, 'negative': 2}\n",
            "              --> True:\n",
            "                Hoja: {'negative': 2}\n",
            "              --> False:\n",
            "                Hoja: {'positive': 5}\n",
            "            --> False:\n",
            "              Hoja: {'positive': 26}\n",
            "    --> False:\n",
            "      Hoja: {'negative': 69}\n",
            "--> False:\n",
            "  ¿Es el valor para bottom-left-square igual a o? - {'positive': 433, 'negative': 123}\n",
            "  --> True:\n",
            "    ¿Es el valor para top-left-square igual a o? - {'positive': 137, 'negative': 70}\n",
            "    --> True:\n",
            "      ¿Es el valor para middle-left-square igual a o? - {'negative': 39, 'positive': 32}\n",
            "      --> True:\n",
            "        Hoja: {'negative': 31}\n",
            "      --> False:\n",
            "        ¿Es el valor para bottom-right-square igual a b? - {'positive': 32, 'negative': 8}\n",
            "        --> True:\n",
            "          Hoja: {'positive': 12}\n",
            "        --> False:\n",
            "          ¿Es el valor para top-right-square igual a b? - {'positive': 20, 'negative': 8}\n",
            "          --> True:\n",
            "            Hoja: {'positive': 6}\n",
            "          --> False:\n",
            "            ¿Es el valor para top-middle-square igual a b? - {'negative': 8, 'positive': 14}\n",
            "            --> True:\n",
            "              Hoja: {'positive': 3}\n",
            "            --> False:\n",
            "              ¿Es el valor para bottom-middle-square igual a o? - {'negative': 8, 'positive': 11}\n",
            "              --> True:\n",
            "                ¿Es el valor para bottom-right-square igual a o? - {'negative': 4, 'positive': 3}\n",
            "                --> True:\n",
            "                  Hoja: {'negative': 3}\n",
            "                --> False:\n",
            "                  ¿Es el valor para middle-right-square igual a o? - {'positive': 3, 'negative': 1}\n",
            "                  --> True:\n",
            "                    Hoja: {'negative': 1}\n",
            "                  --> False:\n",
            "                    Hoja: {'positive': 3}\n",
            "              --> False:\n",
            "                ¿Es el valor para top-middle-square igual a o? - {'positive': 8, 'negative': 4}\n",
            "                --> True:\n",
            "                  ¿Es el valor para top-right-square igual a o? - {'positive': 3, 'negative': 4}\n",
            "                  --> True:\n",
            "                    Hoja: {'negative': 3}\n",
            "                  --> False:\n",
            "                    ¿Es el valor para middle-right-square igual a o? - {'positive': 3, 'negative': 1}\n",
            "                    --> True:\n",
            "                      Hoja: {'negative': 1}\n",
            "                    --> False:\n",
            "                      Hoja: {'positive': 3}\n",
            "                --> False:\n",
            "                  Hoja: {'positive': 5}\n",
            "    --> False:\n",
            "      ¿Es el valor para bottom-right-square igual a o? - {'positive': 105, 'negative': 31}\n",
            "      --> True:\n",
            "        ¿Es el valor para bottom-middle-square igual a o? - {'positive': 23, 'negative': 31}\n",
            "        --> True:\n",
            "          Hoja: {'negative': 26}\n",
            "        --> False:\n",
            "          ¿Es el valor para middle-right-square igual a o? - {'positive': 23, 'negative': 5}\n",
            "          --> True:\n",
            "            ¿Es el valor para top-right-square igual a o? - {'positive': 6, 'negative': 4}\n",
            "            --> True:\n",
            "              Hoja: {'negative': 3}\n",
            "            --> False:\n",
            "              ¿Es el valor para top-middle-square igual a o? - {'positive': 6, 'negative': 1}\n",
            "              --> True:\n",
            "                Hoja: {'negative': 1}\n",
            "              --> False:\n",
            "                Hoja: {'positive': 6}\n",
            "          --> False:\n",
            "            ¿Es el valor para top-middle-square igual a o? - {'positive': 17, 'negative': 1}\n",
            "            --> True:\n",
            "              ¿Es el valor para middle-left-square igual a o? - {'positive': 4, 'negative': 1}\n",
            "              --> True:\n",
            "                Hoja: {'negative': 1}\n",
            "              --> False:\n",
            "                Hoja: {'positive': 4}\n",
            "            --> False:\n",
            "              Hoja: {'positive': 13}\n",
            "      --> False:\n",
            "        Hoja: {'positive': 82}\n",
            "  --> False:\n",
            "    ¿Es el valor para top-right-square igual a o? - {'positive': 296, 'negative': 53}\n",
            "    --> True:\n",
            "      ¿Es el valor para top-left-square igual a o? - {'negative': 53, 'positive': 92}\n",
            "      --> True:\n",
            "        ¿Es el valor para top-middle-square igual a o? - {'negative': 32, 'positive': 23}\n",
            "        --> True:\n",
            "          Hoja: {'negative': 27}\n",
            "        --> False:\n",
            "          ¿Es el valor para middle-right-square igual a o? - {'positive': 23, 'negative': 5}\n",
            "          --> True:\n",
            "            ¿Es el valor para bottom-right-square igual a o? - {'positive': 7, 'negative': 4}\n",
            "            --> True:\n",
            "              Hoja: {'negative': 3}\n",
            "            --> False:\n",
            "              ¿Es el valor para bottom-middle-square igual a o? - {'positive': 7, 'negative': 1}\n",
            "              --> True:\n",
            "                Hoja: {'negative': 1}\n",
            "              --> False:\n",
            "                Hoja: {'positive': 7}\n",
            "          --> False:\n",
            "            ¿Es el valor para bottom-middle-square igual a o? - {'positive': 16, 'negative': 1}\n",
            "            --> True:\n",
            "              ¿Es el valor para middle-left-square igual a o? - {'positive': 4, 'negative': 1}\n",
            "              --> True:\n",
            "                Hoja: {'negative': 1}\n",
            "              --> False:\n",
            "                Hoja: {'positive': 4}\n",
            "            --> False:\n",
            "              Hoja: {'positive': 12}\n",
            "      --> False:\n",
            "        ¿Es el valor para bottom-right-square igual a o? - {'positive': 69, 'negative': 21}\n",
            "        --> True:\n",
            "          ¿Es el valor para middle-right-square igual a o? - {'positive': 16, 'negative': 21}\n",
            "          --> True:\n",
            "            Hoja: {'negative': 20}\n",
            "          --> False:\n",
            "            ¿Es el valor para middle-left-square igual a o? - {'positive': 16, 'negative': 1}\n",
            "            --> True:\n",
            "              ¿Es el valor para bottom-middle-square igual a o? - {'negative': 1, 'positive': 3}\n",
            "              --> True:\n",
            "                Hoja: {'negative': 1}\n",
            "              --> False:\n",
            "                Hoja: {'positive': 3}\n",
            "            --> False:\n",
            "              Hoja: {'positive': 13}\n",
            "        --> False:\n",
            "          Hoja: {'positive': 53}\n",
            "    --> False:\n",
            "      Hoja: {'positive': 204}\n"
          ]
        },
        {
          "output_type": "execute_result",
          "data": {
            "image/svg+xml": "<?xml version=\"1.0\" encoding=\"UTF-8\" standalone=\"no\"?>\n<!DOCTYPE svg PUBLIC \"-//W3C//DTD SVG 1.1//EN\"\n \"http://www.w3.org/Graphics/SVG/1.1/DTD/svg11.dtd\">\n<!-- Generated by graphviz version 2.43.0 (0)\n -->\n<!-- Title: %3 Pages: 1 -->\n<svg width=\"4234pt\" height=\"1214pt\"\n viewBox=\"0.00 0.00 4233.50 1214.00\" xmlns=\"http://www.w3.org/2000/svg\" xmlns:xlink=\"http://www.w3.org/1999/xlink\">\n<g id=\"graph0\" class=\"graph\" transform=\"scale(1 1) rotate(0) translate(4 1210)\">\n<title>%3</title>\n<polygon fill=\"white\" stroke=\"transparent\" points=\"-4,4 -4,-1210 4229.5,-1210 4229.5,4 -4,4\"/>\n<!-- n -->\n<g id=\"node1\" class=\"node\">\n<title>n</title>\n<polygon fill=\"#ea0800\" fill-opacity=\"0.501961\" stroke=\"black\" points=\"2345,-1206 2154,-1206 2154,-1153 2345,-1153 2345,-1206\"/>\n<text text-anchor=\"middle\" x=\"2249.5\" y=\"-1190.8\" font-family=\"Times,serif\" font-size=\"14.00\">middle&#45;middle&#45;square: o</text>\n<text text-anchor=\"middle\" x=\"2249.5\" y=\"-1175.8\" font-family=\"Times,serif\" font-size=\"14.00\">n=862</text>\n<text text-anchor=\"middle\" x=\"2249.5\" y=\"-1160.8\" font-family=\"Times,serif\" font-size=\"14.00\">{&#39;negative&#39;: 295, &#39;positive&#39;: 567}</text>\n</g>\n<!-- ln -->\n<g id=\"node2\" class=\"node\">\n<title>ln</title>\n<polygon fill=\"#ea0800\" fill-opacity=\"0.501961\" stroke=\"black\" points=\"1971,-1102 1780,-1102 1780,-1049 1971,-1049 1971,-1102\"/>\n<text text-anchor=\"middle\" x=\"1875.5\" y=\"-1086.8\" font-family=\"Times,serif\" font-size=\"14.00\">top&#45;left&#45;square: x</text>\n<text text-anchor=\"middle\" x=\"1875.5\" y=\"-1071.8\" font-family=\"Times,serif\" font-size=\"14.00\">n=306</text>\n<text text-anchor=\"middle\" x=\"1875.5\" y=\"-1056.8\" font-family=\"Times,serif\" font-size=\"14.00\">{&#39;negative&#39;: 172, &#39;positive&#39;: 134}</text>\n</g>\n<!-- n&#45;&gt;ln -->\n<g id=\"edge69\" class=\"edge\">\n<title>n&#45;&gt;ln</title>\n<path fill=\"none\" stroke=\"black\" d=\"M2155.61,-1152.89C2101.82,-1138.22 2034.24,-1119.79 1978.93,-1104.71\"/>\n<polygon fill=\"black\" stroke=\"black\" points=\"1979.68,-1101.28 1969.11,-1102.03 1977.83,-1108.04 1979.68,-1101.28\"/>\n<text text-anchor=\"middle\" x=\"2098.5\" y=\"-1123.8\" font-family=\"Times,serif\" font-size=\"14.00\">True</text>\n</g>\n<!-- rn -->\n<g id=\"node71\" class=\"node\">\n<title>rn</title>\n<polygon fill=\"#ea0800\" fill-opacity=\"0.501961\" stroke=\"black\" points=\"2809,-1102 2618,-1102 2618,-1049 2809,-1049 2809,-1102\"/>\n<text text-anchor=\"middle\" x=\"2713.5\" y=\"-1086.8\" font-family=\"Times,serif\" font-size=\"14.00\">bottom&#45;left&#45;square: o</text>\n<text text-anchor=\"middle\" x=\"2713.5\" y=\"-1071.8\" font-family=\"Times,serif\" font-size=\"14.00\">n=556</text>\n<text text-anchor=\"middle\" x=\"2713.5\" y=\"-1056.8\" font-family=\"Times,serif\" font-size=\"14.00\">{&#39;positive&#39;: 433, &#39;negative&#39;: 123}</text>\n</g>\n<!-- n&#45;&gt;rn -->\n<g id=\"edge132\" class=\"edge\">\n<title>n&#45;&gt;rn</title>\n<path fill=\"none\" stroke=\"black\" d=\"M2345.08,-1157.49C2421.53,-1140.68 2528.63,-1117.14 2607.67,-1099.77\"/>\n<polygon fill=\"black\" stroke=\"black\" points=\"2608.63,-1103.14 2617.65,-1097.57 2607.13,-1096.3 2608.63,-1103.14\"/>\n<text text-anchor=\"middle\" x=\"2524\" y=\"-1123.8\" font-family=\"Times,serif\" font-size=\"14.00\">False</text>\n</g>\n<!-- lln -->\n<g id=\"node3\" class=\"node\">\n<title>lln</title>\n<polygon fill=\"#ea0800\" fill-opacity=\"0.501961\" stroke=\"black\" points=\"987,-998 810,-998 810,-945 987,-945 987,-998\"/>\n<text text-anchor=\"middle\" x=\"898.5\" y=\"-982.8\" font-family=\"Times,serif\" font-size=\"14.00\">top&#45;right&#45;square: x</text>\n<text text-anchor=\"middle\" x=\"898.5\" y=\"-967.8\" font-family=\"Times,serif\" font-size=\"14.00\">n=147</text>\n<text text-anchor=\"middle\" x=\"898.5\" y=\"-952.8\" font-family=\"Times,serif\" font-size=\"14.00\">{&#39;negative&#39;: 68, &#39;positive&#39;: 79}</text>\n</g>\n<!-- ln&#45;&gt;lln -->\n<g id=\"edge35\" class=\"edge\">\n<title>ln&#45;&gt;lln</title>\n<path fill=\"none\" stroke=\"black\" d=\"M1779.6,-1064.49C1593.59,-1045.07 1185.6,-1002.47 997.31,-982.82\"/>\n<polygon fill=\"black\" stroke=\"black\" points=\"997.45,-979.31 987.14,-981.75 996.73,-986.27 997.45,-979.31\"/>\n<text text-anchor=\"middle\" x=\"1458.5\" y=\"-1019.8\" font-family=\"Times,serif\" font-size=\"14.00\">True</text>\n</g>\n<!-- lrn -->\n<g id=\"node38\" class=\"node\">\n<title>lrn</title>\n<polygon fill=\"#ea0800\" fill-opacity=\"0.501961\" stroke=\"black\" points=\"1967.5,-998 1783.5,-998 1783.5,-945 1967.5,-945 1967.5,-998\"/>\n<text text-anchor=\"middle\" x=\"1875.5\" y=\"-982.8\" font-family=\"Times,serif\" font-size=\"14.00\">bottom&#45;right&#45;square: x</text>\n<text text-anchor=\"middle\" x=\"1875.5\" y=\"-967.8\" font-family=\"Times,serif\" font-size=\"14.00\">n=159</text>\n<text text-anchor=\"middle\" x=\"1875.5\" y=\"-952.8\" font-family=\"Times,serif\" font-size=\"14.00\">{&#39;negative&#39;: 104, &#39;positive&#39;: 55}</text>\n</g>\n<!-- ln&#45;&gt;lrn -->\n<g id=\"edge68\" class=\"edge\">\n<title>ln&#45;&gt;lrn</title>\n<path fill=\"none\" stroke=\"black\" d=\"M1875.5,-1048.76C1875.5,-1036.56 1875.5,-1021.78 1875.5,-1008.49\"/>\n<polygon fill=\"black\" stroke=\"black\" points=\"1879,-1008.23 1875.5,-998.23 1872,-1008.23 1879,-1008.23\"/>\n<text text-anchor=\"middle\" x=\"1890\" y=\"-1019.8\" font-family=\"Times,serif\" font-size=\"14.00\">False</text>\n</g>\n<!-- llln -->\n<g id=\"node4\" class=\"node\">\n<title>llln</title>\n<polygon fill=\"#ea0800\" fill-opacity=\"0.501961\" stroke=\"black\" points=\"657,-893.5 480,-893.5 480,-840.5 657,-840.5 657,-893.5\"/>\n<text text-anchor=\"middle\" x=\"568.5\" y=\"-878.3\" font-family=\"Times,serif\" font-size=\"14.00\">top&#45;middle&#45;square: x</text>\n<text text-anchor=\"middle\" x=\"568.5\" y=\"-863.3\" font-family=\"Times,serif\" font-size=\"14.00\">n=66</text>\n<text text-anchor=\"middle\" x=\"568.5\" y=\"-848.3\" font-family=\"Times,serif\" font-size=\"14.00\">{&#39;negative&#39;: 21, &#39;positive&#39;: 45}</text>\n</g>\n<!-- lln&#45;&gt;llln -->\n<g id=\"edge23\" class=\"edge\">\n<title>lln&#45;&gt;llln</title>\n<path fill=\"none\" stroke=\"black\" d=\"M816.08,-944.9C768.74,-930.2 709.18,-911.7 660.35,-896.53\"/>\n<polygon fill=\"black\" stroke=\"black\" points=\"661.32,-893.16 650.73,-893.54 659.24,-899.85 661.32,-893.16\"/>\n<text text-anchor=\"middle\" x=\"766.5\" y=\"-915.8\" font-family=\"Times,serif\" font-size=\"14.00\">True</text>\n</g>\n<!-- llrn -->\n<g id=\"node27\" class=\"node\">\n<title>llrn</title>\n<polygon fill=\"#ea0800\" fill-opacity=\"0.501961\" stroke=\"black\" points=\"987,-893.5 810,-893.5 810,-840.5 987,-840.5 987,-893.5\"/>\n<text text-anchor=\"middle\" x=\"898.5\" y=\"-878.3\" font-family=\"Times,serif\" font-size=\"14.00\">bottom&#45;left&#45;square: x</text>\n<text text-anchor=\"middle\" x=\"898.5\" y=\"-863.3\" font-family=\"Times,serif\" font-size=\"14.00\">n=81</text>\n<text text-anchor=\"middle\" x=\"898.5\" y=\"-848.3\" font-family=\"Times,serif\" font-size=\"14.00\">{&#39;negative&#39;: 47, &#39;positive&#39;: 34}</text>\n</g>\n<!-- lln&#45;&gt;llrn -->\n<g id=\"edge34\" class=\"edge\">\n<title>lln&#45;&gt;llrn</title>\n<path fill=\"none\" stroke=\"black\" d=\"M898.5,-944.9C898.5,-932.42 898.5,-917.22 898.5,-903.63\"/>\n<polygon fill=\"black\" stroke=\"black\" points=\"902,-903.63 898.5,-893.63 895,-903.63 902,-903.63\"/>\n<text text-anchor=\"middle\" x=\"913\" y=\"-915.8\" font-family=\"Times,serif\" font-size=\"14.00\">False</text>\n</g>\n<!-- lllln -->\n<g id=\"node5\" class=\"node\">\n<title>lllln</title>\n<polygon fill=\"#ea0800\" fill-opacity=\"0.501961\" stroke=\"black\" points=\"465.5,-789 367.5,-789 367.5,-735 465.5,-735 465.5,-789\"/>\n<text text-anchor=\"middle\" x=\"416.5\" y=\"-757.8\" font-family=\"Times,serif\" font-size=\"14.00\">n=37</text>\n<text text-anchor=\"middle\" x=\"416.5\" y=\"-742.8\" font-family=\"Times,serif\" font-size=\"14.00\">{&#39;positive&#39;: 37}</text>\n</g>\n<!-- llln&#45;&gt;lllln -->\n<g id=\"edge1\" class=\"edge\">\n<title>llln&#45;&gt;lllln</title>\n<path fill=\"none\" stroke=\"black\" d=\"M530.54,-840.27C510.2,-826.49 484.96,-809.39 463.41,-794.78\"/>\n<polygon fill=\"black\" stroke=\"black\" points=\"465.28,-791.83 455.04,-789.11 461.35,-797.62 465.28,-791.83\"/>\n<text text-anchor=\"middle\" x=\"515.5\" y=\"-810.8\" font-family=\"Times,serif\" font-size=\"14.00\">True</text>\n</g>\n<!-- lllrn -->\n<g id=\"node6\" class=\"node\">\n<title>lllrn</title>\n<polygon fill=\"#ea0800\" fill-opacity=\"0.501961\" stroke=\"black\" points=\"653.5,-788.5 483.5,-788.5 483.5,-735.5 653.5,-735.5 653.5,-788.5\"/>\n<text text-anchor=\"middle\" x=\"568.5\" y=\"-773.3\" font-family=\"Times,serif\" font-size=\"14.00\">bottom&#45;middle&#45;square: b</text>\n<text text-anchor=\"middle\" x=\"568.5\" y=\"-758.3\" font-family=\"Times,serif\" font-size=\"14.00\">n=29</text>\n<text text-anchor=\"middle\" x=\"568.5\" y=\"-743.3\" font-family=\"Times,serif\" font-size=\"14.00\">{&#39;negative&#39;: 21, &#39;positive&#39;: 8}</text>\n</g>\n<!-- llln&#45;&gt;lllrn -->\n<g id=\"edge22\" class=\"edge\">\n<title>llln&#45;&gt;lllrn</title>\n<path fill=\"none\" stroke=\"black\" d=\"M568.5,-840.27C568.5,-827.74 568.5,-812.46 568.5,-798.81\"/>\n<polygon fill=\"black\" stroke=\"black\" points=\"572,-798.75 568.5,-788.75 565,-798.75 572,-798.75\"/>\n<text text-anchor=\"middle\" x=\"583\" y=\"-810.8\" font-family=\"Times,serif\" font-size=\"14.00\">False</text>\n</g>\n<!-- lllrln -->\n<g id=\"node7\" class=\"node\">\n<title>lllrln</title>\n<polygon fill=\"#ea0800\" fill-opacity=\"0.501961\" stroke=\"black\" points=\"388.5,-683.5 224.5,-683.5 224.5,-630.5 388.5,-630.5 388.5,-683.5\"/>\n<text text-anchor=\"middle\" x=\"306.5\" y=\"-668.3\" font-family=\"Times,serif\" font-size=\"14.00\">middle&#45;left&#45;square: o</text>\n<text text-anchor=\"middle\" x=\"306.5\" y=\"-653.3\" font-family=\"Times,serif\" font-size=\"14.00\">n=7</text>\n<text text-anchor=\"middle\" x=\"306.5\" y=\"-638.3\" font-family=\"Times,serif\" font-size=\"14.00\">{&#39;negative&#39;: 3, &#39;positive&#39;: 4}</text>\n</g>\n<!-- lllrn&#45;&gt;lllrln -->\n<g id=\"edge6\" class=\"edge\">\n<title>lllrn&#45;&gt;lllrln</title>\n<path fill=\"none\" stroke=\"black\" d=\"M503.4,-735.41C466.38,-720.85 419.86,-702.56 381.33,-687.42\"/>\n<polygon fill=\"black\" stroke=\"black\" points=\"382.31,-684.04 371.72,-683.64 379.75,-690.56 382.31,-684.04\"/>\n<text text-anchor=\"middle\" x=\"466.5\" y=\"-705.8\" font-family=\"Times,serif\" font-size=\"14.00\">True</text>\n</g>\n<!-- lllrrn -->\n<g id=\"node12\" class=\"node\">\n<title>lllrrn</title>\n<polygon fill=\"#ea0800\" fill-opacity=\"0.501961\" stroke=\"black\" points=\"653.5,-683.5 483.5,-683.5 483.5,-630.5 653.5,-630.5 653.5,-683.5\"/>\n<text text-anchor=\"middle\" x=\"568.5\" y=\"-668.3\" font-family=\"Times,serif\" font-size=\"14.00\">top&#45;middle&#45;square: o</text>\n<text text-anchor=\"middle\" x=\"568.5\" y=\"-653.3\" font-family=\"Times,serif\" font-size=\"14.00\">n=22</text>\n<text text-anchor=\"middle\" x=\"568.5\" y=\"-638.3\" font-family=\"Times,serif\" font-size=\"14.00\">{&#39;negative&#39;: 18, &#39;positive&#39;: 4}</text>\n</g>\n<!-- lllrn&#45;&gt;lllrrn -->\n<g id=\"edge21\" class=\"edge\">\n<title>lllrn&#45;&gt;lllrrn</title>\n<path fill=\"none\" stroke=\"black\" d=\"M568.5,-735.27C568.5,-722.74 568.5,-707.46 568.5,-693.81\"/>\n<polygon fill=\"black\" stroke=\"black\" points=\"572,-693.75 568.5,-683.75 565,-693.75 572,-693.75\"/>\n<text text-anchor=\"middle\" x=\"583\" y=\"-705.8\" font-family=\"Times,serif\" font-size=\"14.00\">False</text>\n</g>\n<!-- lllrlln -->\n<g id=\"node8\" class=\"node\">\n<title>lllrlln</title>\n<polygon fill=\"#ea0800\" fill-opacity=\"0.501961\" stroke=\"black\" points=\"241.5,-578.5 77.5,-578.5 77.5,-525.5 241.5,-525.5 241.5,-578.5\"/>\n<text text-anchor=\"middle\" x=\"159.5\" y=\"-563.3\" font-family=\"Times,serif\" font-size=\"14.00\">middle&#45;right&#45;square: o</text>\n<text text-anchor=\"middle\" x=\"159.5\" y=\"-548.3\" font-family=\"Times,serif\" font-size=\"14.00\">n=4</text>\n<text text-anchor=\"middle\" x=\"159.5\" y=\"-533.3\" font-family=\"Times,serif\" font-size=\"14.00\">{&#39;negative&#39;: 3, &#39;positive&#39;: 1}</text>\n</g>\n<!-- lllrln&#45;&gt;lllrlln -->\n<g id=\"edge4\" class=\"edge\">\n<title>lllrln&#45;&gt;lllrlln</title>\n<path fill=\"none\" stroke=\"black\" d=\"M269.78,-630.27C249.98,-616.4 225.37,-599.15 204.43,-584.48\"/>\n<polygon fill=\"black\" stroke=\"black\" points=\"206.2,-581.45 196,-578.58 202.18,-587.18 206.2,-581.45\"/>\n<text text-anchor=\"middle\" x=\"255.5\" y=\"-600.8\" font-family=\"Times,serif\" font-size=\"14.00\">True</text>\n</g>\n<!-- lllrlrn -->\n<g id=\"node11\" class=\"node\">\n<title>lllrlrn</title>\n<polygon fill=\"#ea0800\" fill-opacity=\"0.501961\" stroke=\"black\" points=\"352.5,-579 260.5,-579 260.5,-525 352.5,-525 352.5,-579\"/>\n<text text-anchor=\"middle\" x=\"306.5\" y=\"-547.8\" font-family=\"Times,serif\" font-size=\"14.00\">n=3</text>\n<text text-anchor=\"middle\" x=\"306.5\" y=\"-532.8\" font-family=\"Times,serif\" font-size=\"14.00\">{&#39;positive&#39;: 3}</text>\n</g>\n<!-- lllrln&#45;&gt;lllrlrn -->\n<g id=\"edge5\" class=\"edge\">\n<title>lllrln&#45;&gt;lllrlrn</title>\n<path fill=\"none\" stroke=\"black\" d=\"M306.5,-630.27C306.5,-617.83 306.5,-602.69 306.5,-589.12\"/>\n<polygon fill=\"black\" stroke=\"black\" points=\"310,-589.11 306.5,-579.11 303,-589.11 310,-589.11\"/>\n<text text-anchor=\"middle\" x=\"321\" y=\"-600.8\" font-family=\"Times,serif\" font-size=\"14.00\">False</text>\n</g>\n<!-- lllrllln -->\n<g id=\"node9\" class=\"node\">\n<title>lllrllln</title>\n<polygon fill=\"#ea0800\" fill-opacity=\"0.501961\" stroke=\"black\" points=\"95,-474 0,-474 0,-420 95,-420 95,-474\"/>\n<text text-anchor=\"middle\" x=\"47.5\" y=\"-442.8\" font-family=\"Times,serif\" font-size=\"14.00\">n=3</text>\n<text text-anchor=\"middle\" x=\"47.5\" y=\"-427.8\" font-family=\"Times,serif\" font-size=\"14.00\">{&#39;negative&#39;: 3}</text>\n</g>\n<!-- lllrlln&#45;&gt;lllrllln -->\n<g id=\"edge2\" class=\"edge\">\n<title>lllrlln&#45;&gt;lllrllln</title>\n<path fill=\"none\" stroke=\"black\" d=\"M131.53,-525.27C116.94,-511.86 98.93,-495.3 83.33,-480.95\"/>\n<polygon fill=\"black\" stroke=\"black\" points=\"85.62,-478.31 75.89,-474.11 80.89,-483.46 85.62,-478.31\"/>\n<text text-anchor=\"middle\" x=\"123.5\" y=\"-495.8\" font-family=\"Times,serif\" font-size=\"14.00\">True</text>\n</g>\n<!-- lllrllrn -->\n<g id=\"node10\" class=\"node\">\n<title>lllrllrn</title>\n<polygon fill=\"#ea0800\" fill-opacity=\"0.501961\" stroke=\"black\" points=\"205.5,-474 113.5,-474 113.5,-420 205.5,-420 205.5,-474\"/>\n<text text-anchor=\"middle\" x=\"159.5\" y=\"-442.8\" font-family=\"Times,serif\" font-size=\"14.00\">n=1</text>\n<text text-anchor=\"middle\" x=\"159.5\" y=\"-427.8\" font-family=\"Times,serif\" font-size=\"14.00\">{&#39;positive&#39;: 1}</text>\n</g>\n<!-- lllrlln&#45;&gt;lllrllrn -->\n<g id=\"edge3\" class=\"edge\">\n<title>lllrlln&#45;&gt;lllrllrn</title>\n<path fill=\"none\" stroke=\"black\" d=\"M159.5,-525.27C159.5,-512.83 159.5,-497.69 159.5,-484.12\"/>\n<polygon fill=\"black\" stroke=\"black\" points=\"163,-484.11 159.5,-474.11 156,-484.11 163,-484.11\"/>\n<text text-anchor=\"middle\" x=\"174\" y=\"-495.8\" font-family=\"Times,serif\" font-size=\"14.00\">False</text>\n</g>\n<!-- lllrrln -->\n<g id=\"node13\" class=\"node\">\n<title>lllrrln</title>\n<polygon fill=\"#ea0800\" fill-opacity=\"0.501961\" stroke=\"black\" points=\"541.5,-578.5 371.5,-578.5 371.5,-525.5 541.5,-525.5 541.5,-578.5\"/>\n<text text-anchor=\"middle\" x=\"456.5\" y=\"-563.3\" font-family=\"Times,serif\" font-size=\"14.00\">bottom&#45;left&#45;square: o</text>\n<text text-anchor=\"middle\" x=\"456.5\" y=\"-548.3\" font-family=\"Times,serif\" font-size=\"14.00\">n=14</text>\n<text text-anchor=\"middle\" x=\"456.5\" y=\"-533.3\" font-family=\"Times,serif\" font-size=\"14.00\">{&#39;negative&#39;: 13, &#39;positive&#39;: 1}</text>\n</g>\n<!-- lllrrn&#45;&gt;lllrrln -->\n<g id=\"edge11\" class=\"edge\">\n<title>lllrrn&#45;&gt;lllrrln</title>\n<path fill=\"none\" stroke=\"black\" d=\"M540.53,-630.27C525.83,-616.76 507.66,-600.05 491.98,-585.63\"/>\n<polygon fill=\"black\" stroke=\"black\" points=\"494.23,-582.95 484.5,-578.75 489.5,-588.1 494.23,-582.95\"/>\n<text text-anchor=\"middle\" x=\"532.5\" y=\"-600.8\" font-family=\"Times,serif\" font-size=\"14.00\">True</text>\n</g>\n<!-- lllrrrn -->\n<g id=\"node18\" class=\"node\">\n<title>lllrrrn</title>\n<polygon fill=\"#ea0800\" fill-opacity=\"0.501961\" stroke=\"black\" points=\"723.5,-578.5 559.5,-578.5 559.5,-525.5 723.5,-525.5 723.5,-578.5\"/>\n<text text-anchor=\"middle\" x=\"641.5\" y=\"-563.3\" font-family=\"Times,serif\" font-size=\"14.00\">bottom&#45;middle&#45;square: o</text>\n<text text-anchor=\"middle\" x=\"641.5\" y=\"-548.3\" font-family=\"Times,serif\" font-size=\"14.00\">n=8</text>\n<text text-anchor=\"middle\" x=\"641.5\" y=\"-533.3\" font-family=\"Times,serif\" font-size=\"14.00\">{&#39;positive&#39;: 3, &#39;negative&#39;: 5}</text>\n</g>\n<!-- lllrrn&#45;&gt;lllrrrn -->\n<g id=\"edge20\" class=\"edge\">\n<title>lllrrn&#45;&gt;lllrrrn</title>\n<path fill=\"none\" stroke=\"black\" d=\"M586.73,-630.27C595.97,-617.25 607.3,-601.26 617.26,-587.21\"/>\n<polygon fill=\"black\" stroke=\"black\" points=\"620.32,-588.94 623.25,-578.75 614.61,-584.89 620.32,-588.94\"/>\n<text text-anchor=\"middle\" x=\"624\" y=\"-600.8\" font-family=\"Times,serif\" font-size=\"14.00\">False</text>\n</g>\n<!-- lllrrlln -->\n<g id=\"node14\" class=\"node\">\n<title>lllrrlln</title>\n<polygon fill=\"#ea0800\" fill-opacity=\"0.501961\" stroke=\"black\" points=\"387.5,-473.5 223.5,-473.5 223.5,-420.5 387.5,-420.5 387.5,-473.5\"/>\n<text text-anchor=\"middle\" x=\"305.5\" y=\"-458.3\" font-family=\"Times,serif\" font-size=\"14.00\">middle&#45;left&#45;square: o</text>\n<text text-anchor=\"middle\" x=\"305.5\" y=\"-443.3\" font-family=\"Times,serif\" font-size=\"14.00\">n=4</text>\n<text text-anchor=\"middle\" x=\"305.5\" y=\"-428.3\" font-family=\"Times,serif\" font-size=\"14.00\">{&#39;negative&#39;: 3, &#39;positive&#39;: 1}</text>\n</g>\n<!-- lllrrln&#45;&gt;lllrrlln -->\n<g id=\"edge9\" class=\"edge\">\n<title>lllrrln&#45;&gt;lllrrlln</title>\n<path fill=\"none\" stroke=\"black\" d=\"M418.79,-525.27C398.35,-511.33 372.94,-494 351.36,-479.28\"/>\n<polygon fill=\"black\" stroke=\"black\" points=\"353.23,-476.32 342.99,-473.58 349.28,-482.1 353.23,-476.32\"/>\n<text text-anchor=\"middle\" x=\"403.5\" y=\"-495.8\" font-family=\"Times,serif\" font-size=\"14.00\">True</text>\n</g>\n<!-- lllrrlrn -->\n<g id=\"node17\" class=\"node\">\n<title>lllrrlrn</title>\n<polygon fill=\"#ea0800\" fill-opacity=\"0.501961\" stroke=\"black\" points=\"507,-474 406,-474 406,-420 507,-420 507,-474\"/>\n<text text-anchor=\"middle\" x=\"456.5\" y=\"-442.8\" font-family=\"Times,serif\" font-size=\"14.00\">n=10</text>\n<text text-anchor=\"middle\" x=\"456.5\" y=\"-427.8\" font-family=\"Times,serif\" font-size=\"14.00\">{&#39;negative&#39;: 10}</text>\n</g>\n<!-- lllrrln&#45;&gt;lllrrlrn -->\n<g id=\"edge10\" class=\"edge\">\n<title>lllrrln&#45;&gt;lllrrlrn</title>\n<path fill=\"none\" stroke=\"black\" d=\"M456.5,-525.27C456.5,-512.83 456.5,-497.69 456.5,-484.12\"/>\n<polygon fill=\"black\" stroke=\"black\" points=\"460,-484.11 456.5,-474.11 453,-484.11 460,-484.11\"/>\n<text text-anchor=\"middle\" x=\"471\" y=\"-495.8\" font-family=\"Times,serif\" font-size=\"14.00\">False</text>\n</g>\n<!-- lllrrllln -->\n<g id=\"node15\" class=\"node\">\n<title>lllrrllln</title>\n<polygon fill=\"#ea0800\" fill-opacity=\"0.501961\" stroke=\"black\" points=\"295.5,-369 203.5,-369 203.5,-315 295.5,-315 295.5,-369\"/>\n<text text-anchor=\"middle\" x=\"249.5\" y=\"-337.8\" font-family=\"Times,serif\" font-size=\"14.00\">n=1</text>\n<text text-anchor=\"middle\" x=\"249.5\" y=\"-322.8\" font-family=\"Times,serif\" font-size=\"14.00\">{&#39;positive&#39;: 1}</text>\n</g>\n<!-- lllrrlln&#45;&gt;lllrrllln -->\n<g id=\"edge7\" class=\"edge\">\n<title>lllrrlln&#45;&gt;lllrrllln</title>\n<path fill=\"none\" stroke=\"black\" d=\"M291.51,-420.27C284.55,-407.47 276.03,-391.8 268.49,-377.92\"/>\n<polygon fill=\"black\" stroke=\"black\" points=\"271.55,-376.23 263.7,-369.11 265.4,-379.57 271.55,-376.23\"/>\n<text text-anchor=\"middle\" x=\"294.5\" y=\"-390.8\" font-family=\"Times,serif\" font-size=\"14.00\">True</text>\n</g>\n<!-- lllrrllrn -->\n<g id=\"node16\" class=\"node\">\n<title>lllrrllrn</title>\n<polygon fill=\"#ea0800\" fill-opacity=\"0.501961\" stroke=\"black\" points=\"409,-369 314,-369 314,-315 409,-315 409,-369\"/>\n<text text-anchor=\"middle\" x=\"361.5\" y=\"-337.8\" font-family=\"Times,serif\" font-size=\"14.00\">n=3</text>\n<text text-anchor=\"middle\" x=\"361.5\" y=\"-322.8\" font-family=\"Times,serif\" font-size=\"14.00\">{&#39;negative&#39;: 3}</text>\n</g>\n<!-- lllrrlln&#45;&gt;lllrrllrn -->\n<g id=\"edge8\" class=\"edge\">\n<title>lllrrlln&#45;&gt;lllrrllrn</title>\n<path fill=\"none\" stroke=\"black\" d=\"M319.49,-420.27C326.45,-407.47 334.97,-391.8 342.51,-377.92\"/>\n<polygon fill=\"black\" stroke=\"black\" points=\"345.6,-379.57 347.3,-369.11 339.45,-376.23 345.6,-379.57\"/>\n<text text-anchor=\"middle\" x=\"352\" y=\"-390.8\" font-family=\"Times,serif\" font-size=\"14.00\">False</text>\n</g>\n<!-- lllrrrln -->\n<g id=\"node19\" class=\"node\">\n<title>lllrrrln</title>\n<polygon fill=\"#ea0800\" fill-opacity=\"0.501961\" stroke=\"black\" points=\"689.5,-473.5 525.5,-473.5 525.5,-420.5 689.5,-420.5 689.5,-473.5\"/>\n<text text-anchor=\"middle\" x=\"607.5\" y=\"-458.3\" font-family=\"Times,serif\" font-size=\"14.00\">bottom&#45;right&#45;square: o</text>\n<text text-anchor=\"middle\" x=\"607.5\" y=\"-443.3\" font-family=\"Times,serif\" font-size=\"14.00\">n=5</text>\n<text text-anchor=\"middle\" x=\"607.5\" y=\"-428.3\" font-family=\"Times,serif\" font-size=\"14.00\">{&#39;positive&#39;: 3, &#39;negative&#39;: 2}</text>\n</g>\n<!-- lllrrrn&#45;&gt;lllrrrln -->\n<g id=\"edge18\" class=\"edge\">\n<title>lllrrrn&#45;&gt;lllrrrln</title>\n<path fill=\"none\" stroke=\"black\" d=\"M633.01,-525.27C628.83,-512.62 623.73,-497.16 619.19,-483.4\"/>\n<polygon fill=\"black\" stroke=\"black\" points=\"622.46,-482.15 616,-473.75 615.81,-484.35 622.46,-482.15\"/>\n<text text-anchor=\"middle\" x=\"640.5\" y=\"-495.8\" font-family=\"Times,serif\" font-size=\"14.00\">True</text>\n</g>\n<!-- lllrrrrn -->\n<g id=\"node26\" class=\"node\">\n<title>lllrrrrn</title>\n<polygon fill=\"#ea0800\" fill-opacity=\"0.501961\" stroke=\"black\" points=\"803,-474 708,-474 708,-420 803,-420 803,-474\"/>\n<text text-anchor=\"middle\" x=\"755.5\" y=\"-442.8\" font-family=\"Times,serif\" font-size=\"14.00\">n=3</text>\n<text text-anchor=\"middle\" x=\"755.5\" y=\"-427.8\" font-family=\"Times,serif\" font-size=\"14.00\">{&#39;negative&#39;: 3}</text>\n</g>\n<!-- lllrrrn&#45;&gt;lllrrrrn -->\n<g id=\"edge19\" class=\"edge\">\n<title>lllrrrn&#45;&gt;lllrrrrn</title>\n<path fill=\"none\" stroke=\"black\" d=\"M669.97,-525.27C684.82,-511.86 703.15,-495.3 719.03,-480.95\"/>\n<polygon fill=\"black\" stroke=\"black\" points=\"721.52,-483.41 726.6,-474.11 716.83,-478.22 721.52,-483.41\"/>\n<text text-anchor=\"middle\" x=\"720\" y=\"-495.8\" font-family=\"Times,serif\" font-size=\"14.00\">False</text>\n</g>\n<!-- lllrrrlln -->\n<g id=\"node20\" class=\"node\">\n<title>lllrrrlln</title>\n<polygon fill=\"#ea0800\" fill-opacity=\"0.501961\" stroke=\"black\" points=\"581,-369 486,-369 486,-315 581,-315 581,-369\"/>\n<text text-anchor=\"middle\" x=\"533.5\" y=\"-337.8\" font-family=\"Times,serif\" font-size=\"14.00\">n=1</text>\n<text text-anchor=\"middle\" x=\"533.5\" y=\"-322.8\" font-family=\"Times,serif\" font-size=\"14.00\">{&#39;negative&#39;: 1}</text>\n</g>\n<!-- lllrrrln&#45;&gt;lllrrrlln -->\n<g id=\"edge12\" class=\"edge\">\n<title>lllrrrln&#45;&gt;lllrrrlln</title>\n<path fill=\"none\" stroke=\"black\" d=\"M589.02,-420.27C579.73,-407.35 568.34,-391.5 558.31,-377.53\"/>\n<polygon fill=\"black\" stroke=\"black\" points=\"560.94,-375.19 552.26,-369.11 555.25,-379.28 560.94,-375.19\"/>\n<text text-anchor=\"middle\" x=\"588.5\" y=\"-390.8\" font-family=\"Times,serif\" font-size=\"14.00\">True</text>\n</g>\n<!-- lllrrrlrn -->\n<g id=\"node21\" class=\"node\">\n<title>lllrrrlrn</title>\n<polygon fill=\"#ea0800\" fill-opacity=\"0.501961\" stroke=\"black\" points=\"763.5,-368.5 599.5,-368.5 599.5,-315.5 763.5,-315.5 763.5,-368.5\"/>\n<text text-anchor=\"middle\" x=\"681.5\" y=\"-353.3\" font-family=\"Times,serif\" font-size=\"14.00\">middle&#45;left&#45;square: o</text>\n<text text-anchor=\"middle\" x=\"681.5\" y=\"-338.3\" font-family=\"Times,serif\" font-size=\"14.00\">n=4</text>\n<text text-anchor=\"middle\" x=\"681.5\" y=\"-323.3\" font-family=\"Times,serif\" font-size=\"14.00\">{&#39;positive&#39;: 3, &#39;negative&#39;: 1}</text>\n</g>\n<!-- lllrrrln&#45;&gt;lllrrrlrn -->\n<g id=\"edge17\" class=\"edge\">\n<title>lllrrrln&#45;&gt;lllrrrlrn</title>\n<path fill=\"none\" stroke=\"black\" d=\"M625.98,-420.27C635.34,-407.25 646.83,-391.26 656.92,-377.21\"/>\n<polygon fill=\"black\" stroke=\"black\" points=\"660,-378.92 663,-368.75 654.32,-374.83 660,-378.92\"/>\n<text text-anchor=\"middle\" x=\"664\" y=\"-390.8\" font-family=\"Times,serif\" font-size=\"14.00\">False</text>\n</g>\n<!-- lllrrrlrln -->\n<g id=\"node22\" class=\"node\">\n<title>lllrrrlrln</title>\n<polygon fill=\"#ea0800\" fill-opacity=\"0.501961\" stroke=\"black\" points=\"666.5,-263.5 502.5,-263.5 502.5,-210.5 666.5,-210.5 666.5,-263.5\"/>\n<text text-anchor=\"middle\" x=\"584.5\" y=\"-248.3\" font-family=\"Times,serif\" font-size=\"14.00\">middle&#45;right&#45;square: o</text>\n<text text-anchor=\"middle\" x=\"584.5\" y=\"-233.3\" font-family=\"Times,serif\" font-size=\"14.00\">n=2</text>\n<text text-anchor=\"middle\" x=\"584.5\" y=\"-218.3\" font-family=\"Times,serif\" font-size=\"14.00\">{&#39;negative&#39;: 1, &#39;positive&#39;: 1}</text>\n</g>\n<!-- lllrrrlrn&#45;&gt;lllrrrlrln -->\n<g id=\"edge15\" class=\"edge\">\n<title>lllrrrlrn&#45;&gt;lllrrrlrln</title>\n<path fill=\"none\" stroke=\"black\" d=\"M657.27,-315.27C644.77,-302 629.38,-285.65 615.97,-271.41\"/>\n<polygon fill=\"black\" stroke=\"black\" points=\"618.16,-268.63 608.75,-263.75 613.06,-273.43 618.16,-268.63\"/>\n<text text-anchor=\"middle\" x=\"652.5\" y=\"-285.8\" font-family=\"Times,serif\" font-size=\"14.00\">True</text>\n</g>\n<!-- lllrrrlrrn -->\n<g id=\"node25\" class=\"node\">\n<title>lllrrrlrrn</title>\n<polygon fill=\"#ea0800\" fill-opacity=\"0.501961\" stroke=\"black\" points=\"776.5,-264 684.5,-264 684.5,-210 776.5,-210 776.5,-264\"/>\n<text text-anchor=\"middle\" x=\"730.5\" y=\"-232.8\" font-family=\"Times,serif\" font-size=\"14.00\">n=2</text>\n<text text-anchor=\"middle\" x=\"730.5\" y=\"-217.8\" font-family=\"Times,serif\" font-size=\"14.00\">{&#39;positive&#39;: 2}</text>\n</g>\n<!-- lllrrrlrn&#45;&gt;lllrrrlrrn -->\n<g id=\"edge16\" class=\"edge\">\n<title>lllrrrlrn&#45;&gt;lllrrrlrrn</title>\n<path fill=\"none\" stroke=\"black\" d=\"M693.74,-315.27C699.77,-302.59 707.14,-287.1 713.7,-273.32\"/>\n<polygon fill=\"black\" stroke=\"black\" points=\"716.94,-274.65 718.08,-264.11 710.62,-271.64 716.94,-274.65\"/>\n<text text-anchor=\"middle\" x=\"724\" y=\"-285.8\" font-family=\"Times,serif\" font-size=\"14.00\">False</text>\n</g>\n<!-- lllrrrlrlln -->\n<g id=\"node23\" class=\"node\">\n<title>lllrrrlrlln</title>\n<polygon fill=\"#ea0800\" fill-opacity=\"0.501961\" stroke=\"black\" points=\"576,-159 481,-159 481,-105 576,-105 576,-159\"/>\n<text text-anchor=\"middle\" x=\"528.5\" y=\"-127.8\" font-family=\"Times,serif\" font-size=\"14.00\">n=1</text>\n<text text-anchor=\"middle\" x=\"528.5\" y=\"-112.8\" font-family=\"Times,serif\" font-size=\"14.00\">{&#39;negative&#39;: 1}</text>\n</g>\n<!-- lllrrrlrln&#45;&gt;lllrrrlrlln -->\n<g id=\"edge13\" class=\"edge\">\n<title>lllrrrlrln&#45;&gt;lllrrrlrlln</title>\n<path fill=\"none\" stroke=\"black\" d=\"M570.51,-210.27C563.55,-197.47 555.03,-181.8 547.49,-167.92\"/>\n<polygon fill=\"black\" stroke=\"black\" points=\"550.55,-166.23 542.7,-159.11 544.4,-169.57 550.55,-166.23\"/>\n<text text-anchor=\"middle\" x=\"573.5\" y=\"-180.8\" font-family=\"Times,serif\" font-size=\"14.00\">True</text>\n</g>\n<!-- lllrrrlrlrn -->\n<g id=\"node24\" class=\"node\">\n<title>lllrrrlrlrn</title>\n<polygon fill=\"#ea0800\" fill-opacity=\"0.501961\" stroke=\"black\" points=\"686.5,-159 594.5,-159 594.5,-105 686.5,-105 686.5,-159\"/>\n<text text-anchor=\"middle\" x=\"640.5\" y=\"-127.8\" font-family=\"Times,serif\" font-size=\"14.00\">n=1</text>\n<text text-anchor=\"middle\" x=\"640.5\" y=\"-112.8\" font-family=\"Times,serif\" font-size=\"14.00\">{&#39;positive&#39;: 1}</text>\n</g>\n<!-- lllrrrlrln&#45;&gt;lllrrrlrlrn -->\n<g id=\"edge14\" class=\"edge\">\n<title>lllrrrlrln&#45;&gt;lllrrrlrlrn</title>\n<path fill=\"none\" stroke=\"black\" d=\"M598.49,-210.27C605.45,-197.47 613.97,-181.8 621.51,-167.92\"/>\n<polygon fill=\"black\" stroke=\"black\" points=\"624.6,-169.57 626.3,-159.11 618.45,-166.23 624.6,-169.57\"/>\n<text text-anchor=\"middle\" x=\"631\" y=\"-180.8\" font-family=\"Times,serif\" font-size=\"14.00\">False</text>\n</g>\n<!-- llrln -->\n<g id=\"node28\" class=\"node\">\n<title>llrln</title>\n<polygon fill=\"#ea0800\" fill-opacity=\"0.501961\" stroke=\"black\" points=\"881,-788.5 704,-788.5 704,-735.5 881,-735.5 881,-788.5\"/>\n<text text-anchor=\"middle\" x=\"792.5\" y=\"-773.3\" font-family=\"Times,serif\" font-size=\"14.00\">middle&#45;left&#45;square: x</text>\n<text text-anchor=\"middle\" x=\"792.5\" y=\"-758.3\" font-family=\"Times,serif\" font-size=\"14.00\">n=46</text>\n<text text-anchor=\"middle\" x=\"792.5\" y=\"-743.3\" font-family=\"Times,serif\" font-size=\"14.00\">{&#39;negative&#39;: 12, &#39;positive&#39;: 34}</text>\n</g>\n<!-- llrn&#45;&gt;llrln -->\n<g id=\"edge32\" class=\"edge\">\n<title>llrn&#45;&gt;llrln</title>\n<path fill=\"none\" stroke=\"black\" d=\"M872.03,-840.27C858.24,-826.88 841.23,-810.35 826.48,-796.02\"/>\n<polygon fill=\"black\" stroke=\"black\" points=\"828.62,-793.21 819,-788.75 823.74,-798.23 828.62,-793.21\"/>\n<text text-anchor=\"middle\" x=\"865.5\" y=\"-810.8\" font-family=\"Times,serif\" font-size=\"14.00\">True</text>\n</g>\n<!-- llrrn -->\n<g id=\"node37\" class=\"node\">\n<title>llrrn</title>\n<polygon fill=\"#ea0800\" fill-opacity=\"0.501961\" stroke=\"black\" points=\"1000,-789 899,-789 899,-735 1000,-735 1000,-789\"/>\n<text text-anchor=\"middle\" x=\"949.5\" y=\"-757.8\" font-family=\"Times,serif\" font-size=\"14.00\">n=35</text>\n<text text-anchor=\"middle\" x=\"949.5\" y=\"-742.8\" font-family=\"Times,serif\" font-size=\"14.00\">{&#39;negative&#39;: 35}</text>\n</g>\n<!-- llrn&#45;&gt;llrrn -->\n<g id=\"edge33\" class=\"edge\">\n<title>llrn&#45;&gt;llrrn</title>\n<path fill=\"none\" stroke=\"black\" d=\"M911.24,-840.27C917.52,-827.59 925.19,-812.1 932.01,-798.32\"/>\n<polygon fill=\"black\" stroke=\"black\" points=\"935.27,-799.63 936.57,-789.11 929,-796.52 935.27,-799.63\"/>\n<text text-anchor=\"middle\" x=\"942\" y=\"-810.8\" font-family=\"Times,serif\" font-size=\"14.00\">False</text>\n</g>\n<!-- llrlln -->\n<g id=\"node29\" class=\"node\">\n<title>llrlln</title>\n<polygon fill=\"#ea0800\" fill-opacity=\"0.501961\" stroke=\"black\" points=\"784.5,-684 686.5,-684 686.5,-630 784.5,-630 784.5,-684\"/>\n<text text-anchor=\"middle\" x=\"735.5\" y=\"-652.8\" font-family=\"Times,serif\" font-size=\"14.00\">n=28</text>\n<text text-anchor=\"middle\" x=\"735.5\" y=\"-637.8\" font-family=\"Times,serif\" font-size=\"14.00\">{&#39;positive&#39;: 28}</text>\n</g>\n<!-- llrln&#45;&gt;llrlln -->\n<g id=\"edge24\" class=\"edge\">\n<title>llrln&#45;&gt;llrlln</title>\n<path fill=\"none\" stroke=\"black\" d=\"M778.26,-735.27C771.18,-722.47 762.5,-706.8 754.83,-692.92\"/>\n<polygon fill=\"black\" stroke=\"black\" points=\"757.86,-691.17 749.95,-684.11 751.73,-694.56 757.86,-691.17\"/>\n<text text-anchor=\"middle\" x=\"780.5\" y=\"-705.8\" font-family=\"Times,serif\" font-size=\"14.00\">True</text>\n</g>\n<!-- llrlrn -->\n<g id=\"node30\" class=\"node\">\n<title>llrlrn</title>\n<polygon fill=\"#ea0800\" fill-opacity=\"0.501961\" stroke=\"black\" points=\"972.5,-683.5 802.5,-683.5 802.5,-630.5 972.5,-630.5 972.5,-683.5\"/>\n<text text-anchor=\"middle\" x=\"887.5\" y=\"-668.3\" font-family=\"Times,serif\" font-size=\"14.00\">middle&#45;right&#45;square: b</text>\n<text text-anchor=\"middle\" x=\"887.5\" y=\"-653.3\" font-family=\"Times,serif\" font-size=\"14.00\">n=18</text>\n<text text-anchor=\"middle\" x=\"887.5\" y=\"-638.3\" font-family=\"Times,serif\" font-size=\"14.00\">{&#39;negative&#39;: 12, &#39;positive&#39;: 6}</text>\n</g>\n<!-- llrln&#45;&gt;llrlrn -->\n<g id=\"edge31\" class=\"edge\">\n<title>llrln&#45;&gt;llrlrn</title>\n<path fill=\"none\" stroke=\"black\" d=\"M816.23,-735.27C828.47,-722 843.55,-705.65 856.68,-691.41\"/>\n<polygon fill=\"black\" stroke=\"black\" points=\"859.54,-693.48 863.75,-683.75 854.39,-688.73 859.54,-693.48\"/>\n<text text-anchor=\"middle\" x=\"861\" y=\"-705.8\" font-family=\"Times,serif\" font-size=\"14.00\">False</text>\n</g>\n<!-- llrlrln -->\n<g id=\"node31\" class=\"node\">\n<title>llrlrln</title>\n<polygon fill=\"#ea0800\" fill-opacity=\"0.501961\" stroke=\"black\" points=\"853.5,-579 761.5,-579 761.5,-525 853.5,-525 853.5,-579\"/>\n<text text-anchor=\"middle\" x=\"807.5\" y=\"-547.8\" font-family=\"Times,serif\" font-size=\"14.00\">n=3</text>\n<text text-anchor=\"middle\" x=\"807.5\" y=\"-532.8\" font-family=\"Times,serif\" font-size=\"14.00\">{&#39;positive&#39;: 3}</text>\n</g>\n<!-- llrlrn&#45;&gt;llrlrln -->\n<g id=\"edge25\" class=\"edge\">\n<title>llrlrn&#45;&gt;llrlrln</title>\n<path fill=\"none\" stroke=\"black\" d=\"M867.52,-630.27C857.38,-617.22 844.94,-601.2 834.01,-587.13\"/>\n<polygon fill=\"black\" stroke=\"black\" points=\"836.68,-584.86 827.78,-579.11 831.15,-589.16 836.68,-584.86\"/>\n<text text-anchor=\"middle\" x=\"865.5\" y=\"-600.8\" font-family=\"Times,serif\" font-size=\"14.00\">True</text>\n</g>\n<!-- llrlrrn -->\n<g id=\"node32\" class=\"node\">\n<title>llrlrrn</title>\n<polygon fill=\"#ea0800\" fill-opacity=\"0.501961\" stroke=\"black\" points=\"1041.5,-578.5 871.5,-578.5 871.5,-525.5 1041.5,-525.5 1041.5,-578.5\"/>\n<text text-anchor=\"middle\" x=\"956.5\" y=\"-563.3\" font-family=\"Times,serif\" font-size=\"14.00\">bottom&#45;middle&#45;square: x</text>\n<text text-anchor=\"middle\" x=\"956.5\" y=\"-548.3\" font-family=\"Times,serif\" font-size=\"14.00\">n=15</text>\n<text text-anchor=\"middle\" x=\"956.5\" y=\"-533.3\" font-family=\"Times,serif\" font-size=\"14.00\">{&#39;negative&#39;: 12, &#39;positive&#39;: 3}</text>\n</g>\n<!-- llrlrn&#45;&gt;llrlrrn -->\n<g id=\"edge30\" class=\"edge\">\n<title>llrlrn&#45;&gt;llrlrrn</title>\n<path fill=\"none\" stroke=\"black\" d=\"M904.73,-630.27C913.46,-617.25 924.17,-601.26 933.58,-587.21\"/>\n<polygon fill=\"black\" stroke=\"black\" points=\"936.59,-589.01 939.25,-578.75 930.77,-585.11 936.59,-589.01\"/>\n<text text-anchor=\"middle\" x=\"941\" y=\"-600.8\" font-family=\"Times,serif\" font-size=\"14.00\">False</text>\n</g>\n<!-- llrlrrln -->\n<g id=\"node33\" class=\"node\">\n<title>llrlrrln</title>\n<polygon fill=\"#ea0800\" fill-opacity=\"0.501961\" stroke=\"black\" points=\"985.5,-473.5 821.5,-473.5 821.5,-420.5 985.5,-420.5 985.5,-473.5\"/>\n<text text-anchor=\"middle\" x=\"903.5\" y=\"-458.3\" font-family=\"Times,serif\" font-size=\"14.00\">bottom&#45;right&#45;square: x</text>\n<text text-anchor=\"middle\" x=\"903.5\" y=\"-443.3\" font-family=\"Times,serif\" font-size=\"14.00\">n=7</text>\n<text text-anchor=\"middle\" x=\"903.5\" y=\"-428.3\" font-family=\"Times,serif\" font-size=\"14.00\">{&#39;negative&#39;: 4, &#39;positive&#39;: 3}</text>\n</g>\n<!-- llrlrrn&#45;&gt;llrlrrln -->\n<g id=\"edge28\" class=\"edge\">\n<title>llrlrrn&#45;&gt;llrlrrln</title>\n<path fill=\"none\" stroke=\"black\" d=\"M943.26,-525.27C936.69,-512.49 928.64,-496.86 921.51,-483\"/>\n<polygon fill=\"black\" stroke=\"black\" points=\"924.44,-481.05 916.75,-473.75 918.22,-484.25 924.44,-481.05\"/>\n<text text-anchor=\"middle\" x=\"946.5\" y=\"-495.8\" font-family=\"Times,serif\" font-size=\"14.00\">True</text>\n</g>\n<!-- llrlrrrn -->\n<g id=\"node36\" class=\"node\">\n<title>llrlrrrn</title>\n<polygon fill=\"#ea0800\" fill-opacity=\"0.501961\" stroke=\"black\" points=\"1099,-474 1004,-474 1004,-420 1099,-420 1099,-474\"/>\n<text text-anchor=\"middle\" x=\"1051.5\" y=\"-442.8\" font-family=\"Times,serif\" font-size=\"14.00\">n=8</text>\n<text text-anchor=\"middle\" x=\"1051.5\" y=\"-427.8\" font-family=\"Times,serif\" font-size=\"14.00\">{&#39;negative&#39;: 8}</text>\n</g>\n<!-- llrlrrn&#45;&gt;llrlrrrn -->\n<g id=\"edge29\" class=\"edge\">\n<title>llrlrrn&#45;&gt;llrlrrrn</title>\n<path fill=\"none\" stroke=\"black\" d=\"M980.23,-525.27C992.38,-512.1 1007.32,-495.9 1020.38,-481.74\"/>\n<polygon fill=\"black\" stroke=\"black\" points=\"1023.21,-483.84 1027.42,-474.11 1018.06,-479.09 1023.21,-483.84\"/>\n<text text-anchor=\"middle\" x=\"1025\" y=\"-495.8\" font-family=\"Times,serif\" font-size=\"14.00\">False</text>\n</g>\n<!-- llrlrrlln -->\n<g id=\"node34\" class=\"node\">\n<title>llrlrrlln</title>\n<polygon fill=\"#ea0800\" fill-opacity=\"0.501961\" stroke=\"black\" points=\"911.5,-369 819.5,-369 819.5,-315 911.5,-315 911.5,-369\"/>\n<text text-anchor=\"middle\" x=\"865.5\" y=\"-337.8\" font-family=\"Times,serif\" font-size=\"14.00\">n=3</text>\n<text text-anchor=\"middle\" x=\"865.5\" y=\"-322.8\" font-family=\"Times,serif\" font-size=\"14.00\">{&#39;positive&#39;: 3}</text>\n</g>\n<!-- llrlrrln&#45;&gt;llrlrrlln -->\n<g id=\"edge26\" class=\"edge\">\n<title>llrlrrln&#45;&gt;llrlrrlln</title>\n<path fill=\"none\" stroke=\"black\" d=\"M894.01,-420.27C889.37,-407.71 883.72,-392.39 878.68,-378.72\"/>\n<polygon fill=\"black\" stroke=\"black\" points=\"881.88,-377.28 875.13,-369.11 875.31,-379.71 881.88,-377.28\"/>\n<text text-anchor=\"middle\" x=\"900.5\" y=\"-390.8\" font-family=\"Times,serif\" font-size=\"14.00\">True</text>\n</g>\n<!-- llrlrrlrn -->\n<g id=\"node35\" class=\"node\">\n<title>llrlrrlrn</title>\n<polygon fill=\"#ea0800\" fill-opacity=\"0.501961\" stroke=\"black\" points=\"1025,-369 930,-369 930,-315 1025,-315 1025,-369\"/>\n<text text-anchor=\"middle\" x=\"977.5\" y=\"-337.8\" font-family=\"Times,serif\" font-size=\"14.00\">n=4</text>\n<text text-anchor=\"middle\" x=\"977.5\" y=\"-322.8\" font-family=\"Times,serif\" font-size=\"14.00\">{&#39;negative&#39;: 4}</text>\n</g>\n<!-- llrlrrln&#45;&gt;llrlrrlrn -->\n<g id=\"edge27\" class=\"edge\">\n<title>llrlrrln&#45;&gt;llrlrrlrn</title>\n<path fill=\"none\" stroke=\"black\" d=\"M921.98,-420.27C931.27,-407.35 942.66,-391.5 952.69,-377.53\"/>\n<polygon fill=\"black\" stroke=\"black\" points=\"955.75,-379.28 958.74,-369.11 950.06,-375.19 955.75,-379.28\"/>\n<text text-anchor=\"middle\" x=\"960\" y=\"-390.8\" font-family=\"Times,serif\" font-size=\"14.00\">False</text>\n</g>\n<!-- lrln -->\n<g id=\"node39\" class=\"node\">\n<title>lrln</title>\n<polygon fill=\"#ea0800\" fill-opacity=\"0.501961\" stroke=\"black\" points=\"1847,-893.5 1670,-893.5 1670,-840.5 1847,-840.5 1847,-893.5\"/>\n<text text-anchor=\"middle\" x=\"1758.5\" y=\"-878.3\" font-family=\"Times,serif\" font-size=\"14.00\">top&#45;middle&#45;square: x</text>\n<text text-anchor=\"middle\" x=\"1758.5\" y=\"-863.3\" font-family=\"Times,serif\" font-size=\"14.00\">n=90</text>\n<text text-anchor=\"middle\" x=\"1758.5\" y=\"-848.3\" font-family=\"Times,serif\" font-size=\"14.00\">{&#39;positive&#39;: 55, &#39;negative&#39;: 35}</text>\n</g>\n<!-- lrn&#45;&gt;lrln -->\n<g id=\"edge66\" class=\"edge\">\n<title>lrn&#45;&gt;lrln</title>\n<path fill=\"none\" stroke=\"black\" d=\"M1846.28,-944.9C1830.92,-931.45 1811.94,-914.82 1795.56,-900.47\"/>\n<polygon fill=\"black\" stroke=\"black\" points=\"1797.58,-897.59 1787.76,-893.63 1792.97,-902.85 1797.58,-897.59\"/>\n<text text-anchor=\"middle\" x=\"1837.5\" y=\"-915.8\" font-family=\"Times,serif\" font-size=\"14.00\">True</text>\n</g>\n<!-- lrrn -->\n<g id=\"node70\" class=\"node\">\n<title>lrrn</title>\n<polygon fill=\"#ea0800\" fill-opacity=\"0.501961\" stroke=\"black\" points=\"1966,-894 1865,-894 1865,-840 1966,-840 1966,-894\"/>\n<text text-anchor=\"middle\" x=\"1915.5\" y=\"-862.8\" font-family=\"Times,serif\" font-size=\"14.00\">n=69</text>\n<text text-anchor=\"middle\" x=\"1915.5\" y=\"-847.8\" font-family=\"Times,serif\" font-size=\"14.00\">{&#39;negative&#39;: 69}</text>\n</g>\n<!-- lrn&#45;&gt;lrrn -->\n<g id=\"edge67\" class=\"edge\">\n<title>lrn&#45;&gt;lrrn</title>\n<path fill=\"none\" stroke=\"black\" d=\"M1885.49,-944.9C1890.33,-932.49 1896.23,-917.39 1901.51,-903.86\"/>\n<polygon fill=\"black\" stroke=\"black\" points=\"1904.84,-904.93 1905.22,-894.34 1898.32,-902.39 1904.84,-904.93\"/>\n<text text-anchor=\"middle\" x=\"1913\" y=\"-915.8\" font-family=\"Times,serif\" font-size=\"14.00\">False</text>\n</g>\n<!-- lrlln -->\n<g id=\"node40\" class=\"node\">\n<title>lrlln</title>\n<polygon fill=\"#ea0800\" fill-opacity=\"0.501961\" stroke=\"black\" points=\"1681,-788.5 1504,-788.5 1504,-735.5 1681,-735.5 1681,-788.5\"/>\n<text text-anchor=\"middle\" x=\"1592.5\" y=\"-773.3\" font-family=\"Times,serif\" font-size=\"14.00\">bottom&#45;left&#45;square: o</text>\n<text text-anchor=\"middle\" x=\"1592.5\" y=\"-758.3\" font-family=\"Times,serif\" font-size=\"14.00\">n=31</text>\n<text text-anchor=\"middle\" x=\"1592.5\" y=\"-743.3\" font-family=\"Times,serif\" font-size=\"14.00\">{&#39;positive&#39;: 12, &#39;negative&#39;: 19}</text>\n</g>\n<!-- lrln&#45;&gt;lrlln -->\n<g id=\"edge50\" class=\"edge\">\n<title>lrln&#45;&gt;lrlln</title>\n<path fill=\"none\" stroke=\"black\" d=\"M1717.04,-840.27C1694.37,-826.21 1666.14,-808.69 1642.29,-793.89\"/>\n<polygon fill=\"black\" stroke=\"black\" points=\"1644.06,-790.87 1633.72,-788.58 1640.37,-796.82 1644.06,-790.87\"/>\n<text text-anchor=\"middle\" x=\"1698.5\" y=\"-810.8\" font-family=\"Times,serif\" font-size=\"14.00\">True</text>\n</g>\n<!-- lrlrn -->\n<g id=\"node55\" class=\"node\">\n<title>lrlrn</title>\n<polygon fill=\"#ea0800\" fill-opacity=\"0.501961\" stroke=\"black\" points=\"1957,-788.5 1780,-788.5 1780,-735.5 1957,-735.5 1957,-788.5\"/>\n<text text-anchor=\"middle\" x=\"1868.5\" y=\"-773.3\" font-family=\"Times,serif\" font-size=\"14.00\">bottom&#45;middle&#45;square: o</text>\n<text text-anchor=\"middle\" x=\"1868.5\" y=\"-758.3\" font-family=\"Times,serif\" font-size=\"14.00\">n=59</text>\n<text text-anchor=\"middle\" x=\"1868.5\" y=\"-743.3\" font-family=\"Times,serif\" font-size=\"14.00\">{&#39;positive&#39;: 43, &#39;negative&#39;: 16}</text>\n</g>\n<!-- lrln&#45;&gt;lrlrn -->\n<g id=\"edge65\" class=\"edge\">\n<title>lrln&#45;&gt;lrlrn</title>\n<path fill=\"none\" stroke=\"black\" d=\"M1785.97,-840.27C1800.41,-826.76 1818.26,-810.05 1833.66,-795.63\"/>\n<polygon fill=\"black\" stroke=\"black\" points=\"1836.09,-798.14 1841,-788.75 1831.3,-793.03 1836.09,-798.14\"/>\n<text text-anchor=\"middle\" x=\"1835\" y=\"-810.8\" font-family=\"Times,serif\" font-size=\"14.00\">False</text>\n</g>\n<!-- lrllln -->\n<g id=\"node41\" class=\"node\">\n<title>lrllln</title>\n<polygon fill=\"#ea0800\" fill-opacity=\"0.501961\" stroke=\"black\" points=\"1360.5,-683.5 1190.5,-683.5 1190.5,-630.5 1360.5,-630.5 1360.5,-683.5\"/>\n<text text-anchor=\"middle\" x=\"1275.5\" y=\"-668.3\" font-family=\"Times,serif\" font-size=\"14.00\">top&#45;right&#45;square: o</text>\n<text text-anchor=\"middle\" x=\"1275.5\" y=\"-653.3\" font-family=\"Times,serif\" font-size=\"14.00\">n=14</text>\n<text text-anchor=\"middle\" x=\"1275.5\" y=\"-638.3\" font-family=\"Times,serif\" font-size=\"14.00\">{&#39;negative&#39;: 12, &#39;positive&#39;: 2}</text>\n</g>\n<!-- lrlln&#45;&gt;lrllln -->\n<g id=\"edge40\" class=\"edge\">\n<title>lrlln&#45;&gt;lrllln</title>\n<path fill=\"none\" stroke=\"black\" d=\"M1513.73,-735.41C1468.19,-720.61 1410.76,-701.95 1363.71,-686.66\"/>\n<polygon fill=\"black\" stroke=\"black\" points=\"1364.73,-683.31 1354.14,-683.55 1362.56,-689.97 1364.73,-683.31\"/>\n<text text-anchor=\"middle\" x=\"1466.5\" y=\"-705.8\" font-family=\"Times,serif\" font-size=\"14.00\">True</text>\n</g>\n<!-- lrllrn -->\n<g id=\"node46\" class=\"node\">\n<title>lrllrn</title>\n<polygon fill=\"#ea0800\" fill-opacity=\"0.501961\" stroke=\"black\" points=\"1677.5,-683.5 1507.5,-683.5 1507.5,-630.5 1677.5,-630.5 1677.5,-683.5\"/>\n<text text-anchor=\"middle\" x=\"1592.5\" y=\"-668.3\" font-family=\"Times,serif\" font-size=\"14.00\">middle&#45;right&#45;square: o</text>\n<text text-anchor=\"middle\" x=\"1592.5\" y=\"-653.3\" font-family=\"Times,serif\" font-size=\"14.00\">n=17</text>\n<text text-anchor=\"middle\" x=\"1592.5\" y=\"-638.3\" font-family=\"Times,serif\" font-size=\"14.00\">{&#39;positive&#39;: 10, &#39;negative&#39;: 7}</text>\n</g>\n<!-- lrlln&#45;&gt;lrllrn -->\n<g id=\"edge49\" class=\"edge\">\n<title>lrlln&#45;&gt;lrllrn</title>\n<path fill=\"none\" stroke=\"black\" d=\"M1592.5,-735.27C1592.5,-722.74 1592.5,-707.46 1592.5,-693.81\"/>\n<polygon fill=\"black\" stroke=\"black\" points=\"1596,-693.75 1592.5,-683.75 1589,-693.75 1596,-693.75\"/>\n<text text-anchor=\"middle\" x=\"1607\" y=\"-705.8\" font-family=\"Times,serif\" font-size=\"14.00\">False</text>\n</g>\n<!-- lrlllln -->\n<g id=\"node42\" class=\"node\">\n<title>lrlllln</title>\n<polygon fill=\"#ea0800\" fill-opacity=\"0.501961\" stroke=\"black\" points=\"1175,-579 1080,-579 1080,-525 1175,-525 1175,-579\"/>\n<text text-anchor=\"middle\" x=\"1127.5\" y=\"-547.8\" font-family=\"Times,serif\" font-size=\"14.00\">n=9</text>\n<text text-anchor=\"middle\" x=\"1127.5\" y=\"-532.8\" font-family=\"Times,serif\" font-size=\"14.00\">{&#39;negative&#39;: 9}</text>\n</g>\n<!-- lrllln&#45;&gt;lrlllln -->\n<g id=\"edge36\" class=\"edge\">\n<title>lrllln&#45;&gt;lrlllln</title>\n<path fill=\"none\" stroke=\"black\" d=\"M1238.54,-630.27C1218.82,-616.55 1194.38,-599.54 1173.45,-584.98\"/>\n<polygon fill=\"black\" stroke=\"black\" points=\"1175.23,-581.95 1165.02,-579.11 1171.23,-587.7 1175.23,-581.95\"/>\n<text text-anchor=\"middle\" x=\"1223.5\" y=\"-600.8\" font-family=\"Times,serif\" font-size=\"14.00\">True</text>\n</g>\n<!-- lrlllrn -->\n<g id=\"node43\" class=\"node\">\n<title>lrlllrn</title>\n<polygon fill=\"#ea0800\" fill-opacity=\"0.501961\" stroke=\"black\" points=\"1357.5,-578.5 1193.5,-578.5 1193.5,-525.5 1357.5,-525.5 1357.5,-578.5\"/>\n<text text-anchor=\"middle\" x=\"1275.5\" y=\"-563.3\" font-family=\"Times,serif\" font-size=\"14.00\">middle&#45;right&#45;square: x</text>\n<text text-anchor=\"middle\" x=\"1275.5\" y=\"-548.3\" font-family=\"Times,serif\" font-size=\"14.00\">n=5</text>\n<text text-anchor=\"middle\" x=\"1275.5\" y=\"-533.3\" font-family=\"Times,serif\" font-size=\"14.00\">{&#39;negative&#39;: 3, &#39;positive&#39;: 2}</text>\n</g>\n<!-- lrllln&#45;&gt;lrlllrn -->\n<g id=\"edge39\" class=\"edge\">\n<title>lrllln&#45;&gt;lrlllrn</title>\n<path fill=\"none\" stroke=\"black\" d=\"M1275.5,-630.27C1275.5,-617.74 1275.5,-602.46 1275.5,-588.81\"/>\n<polygon fill=\"black\" stroke=\"black\" points=\"1279,-588.75 1275.5,-578.75 1272,-588.75 1279,-588.75\"/>\n<text text-anchor=\"middle\" x=\"1290\" y=\"-600.8\" font-family=\"Times,serif\" font-size=\"14.00\">False</text>\n</g>\n<!-- lrlllrln -->\n<g id=\"node44\" class=\"node\">\n<title>lrlllrln</title>\n<polygon fill=\"#ea0800\" fill-opacity=\"0.501961\" stroke=\"black\" points=\"1209.5,-474 1117.5,-474 1117.5,-420 1209.5,-420 1209.5,-474\"/>\n<text text-anchor=\"middle\" x=\"1163.5\" y=\"-442.8\" font-family=\"Times,serif\" font-size=\"14.00\">n=2</text>\n<text text-anchor=\"middle\" x=\"1163.5\" y=\"-427.8\" font-family=\"Times,serif\" font-size=\"14.00\">{&#39;positive&#39;: 2}</text>\n</g>\n<!-- lrlllrn&#45;&gt;lrlllrln -->\n<g id=\"edge37\" class=\"edge\">\n<title>lrlllrn&#45;&gt;lrlllrln</title>\n<path fill=\"none\" stroke=\"black\" d=\"M1247.53,-525.27C1232.94,-511.86 1214.93,-495.3 1199.33,-480.95\"/>\n<polygon fill=\"black\" stroke=\"black\" points=\"1201.62,-478.31 1191.89,-474.11 1196.89,-483.46 1201.62,-478.31\"/>\n<text text-anchor=\"middle\" x=\"1239.5\" y=\"-495.8\" font-family=\"Times,serif\" font-size=\"14.00\">True</text>\n</g>\n<!-- lrlllrrn -->\n<g id=\"node45\" class=\"node\">\n<title>lrlllrrn</title>\n<polygon fill=\"#ea0800\" fill-opacity=\"0.501961\" stroke=\"black\" points=\"1323,-474 1228,-474 1228,-420 1323,-420 1323,-474\"/>\n<text text-anchor=\"middle\" x=\"1275.5\" y=\"-442.8\" font-family=\"Times,serif\" font-size=\"14.00\">n=3</text>\n<text text-anchor=\"middle\" x=\"1275.5\" y=\"-427.8\" font-family=\"Times,serif\" font-size=\"14.00\">{&#39;negative&#39;: 3}</text>\n</g>\n<!-- lrlllrn&#45;&gt;lrlllrrn -->\n<g id=\"edge38\" class=\"edge\">\n<title>lrlllrn&#45;&gt;lrlllrrn</title>\n<path fill=\"none\" stroke=\"black\" d=\"M1275.5,-525.27C1275.5,-512.83 1275.5,-497.69 1275.5,-484.12\"/>\n<polygon fill=\"black\" stroke=\"black\" points=\"1279,-484.11 1275.5,-474.11 1272,-484.11 1279,-484.11\"/>\n<text text-anchor=\"middle\" x=\"1290\" y=\"-495.8\" font-family=\"Times,serif\" font-size=\"14.00\">False</text>\n</g>\n<!-- lrllrln -->\n<g id=\"node47\" class=\"node\">\n<title>lrllrln</title>\n<polygon fill=\"#ea0800\" fill-opacity=\"0.501961\" stroke=\"black\" points=\"1584.5,-578.5 1420.5,-578.5 1420.5,-525.5 1584.5,-525.5 1584.5,-578.5\"/>\n<text text-anchor=\"middle\" x=\"1502.5\" y=\"-563.3\" font-family=\"Times,serif\" font-size=\"14.00\">top&#45;right&#45;square: x</text>\n<text text-anchor=\"middle\" x=\"1502.5\" y=\"-548.3\" font-family=\"Times,serif\" font-size=\"14.00\">n=9</text>\n<text text-anchor=\"middle\" x=\"1502.5\" y=\"-533.3\" font-family=\"Times,serif\" font-size=\"14.00\">{&#39;negative&#39;: 6, &#39;positive&#39;: 3}</text>\n</g>\n<!-- lrllrn&#45;&gt;lrllrln -->\n<g id=\"edge45\" class=\"edge\">\n<title>lrllrn&#45;&gt;lrllrln</title>\n<path fill=\"none\" stroke=\"black\" d=\"M1570.02,-630.27C1558.42,-617 1544.14,-600.65 1531.7,-586.41\"/>\n<polygon fill=\"black\" stroke=\"black\" points=\"1534.22,-583.98 1525,-578.75 1528.95,-588.59 1534.22,-583.98\"/>\n<text text-anchor=\"middle\" x=\"1566.5\" y=\"-600.8\" font-family=\"Times,serif\" font-size=\"14.00\">True</text>\n</g>\n<!-- lrllrrn -->\n<g id=\"node52\" class=\"node\">\n<title>lrllrrn</title>\n<polygon fill=\"#ea0800\" fill-opacity=\"0.501961\" stroke=\"black\" points=\"1766.5,-578.5 1602.5,-578.5 1602.5,-525.5 1766.5,-525.5 1766.5,-578.5\"/>\n<text text-anchor=\"middle\" x=\"1684.5\" y=\"-563.3\" font-family=\"Times,serif\" font-size=\"14.00\">middle&#45;left&#45;square: x</text>\n<text text-anchor=\"middle\" x=\"1684.5\" y=\"-548.3\" font-family=\"Times,serif\" font-size=\"14.00\">n=8</text>\n<text text-anchor=\"middle\" x=\"1684.5\" y=\"-533.3\" font-family=\"Times,serif\" font-size=\"14.00\">{&#39;positive&#39;: 7, &#39;negative&#39;: 1}</text>\n</g>\n<!-- lrllrn&#45;&gt;lrllrrn -->\n<g id=\"edge48\" class=\"edge\">\n<title>lrllrn&#45;&gt;lrllrrn</title>\n<path fill=\"none\" stroke=\"black\" d=\"M1615.48,-630.27C1627.33,-617 1641.94,-600.65 1654.65,-586.41\"/>\n<polygon fill=\"black\" stroke=\"black\" points=\"1657.44,-588.54 1661.5,-578.75 1652.22,-583.88 1657.44,-588.54\"/>\n<text text-anchor=\"middle\" x=\"1659\" y=\"-600.8\" font-family=\"Times,serif\" font-size=\"14.00\">False</text>\n</g>\n<!-- lrllrlln -->\n<g id=\"node48\" class=\"node\">\n<title>lrllrlln</title>\n<polygon fill=\"#ea0800\" fill-opacity=\"0.501961\" stroke=\"black\" points=\"1436,-474 1341,-474 1341,-420 1436,-420 1436,-474\"/>\n<text text-anchor=\"middle\" x=\"1388.5\" y=\"-442.8\" font-family=\"Times,serif\" font-size=\"14.00\">n=5</text>\n<text text-anchor=\"middle\" x=\"1388.5\" y=\"-427.8\" font-family=\"Times,serif\" font-size=\"14.00\">{&#39;negative&#39;: 5}</text>\n</g>\n<!-- lrllrln&#45;&gt;lrllrlln -->\n<g id=\"edge41\" class=\"edge\">\n<title>lrllrln&#45;&gt;lrllrlln</title>\n<path fill=\"none\" stroke=\"black\" d=\"M1474.03,-525.27C1459.18,-511.86 1440.85,-495.3 1424.97,-480.95\"/>\n<polygon fill=\"black\" stroke=\"black\" points=\"1427.17,-478.22 1417.4,-474.11 1422.48,-483.41 1427.17,-478.22\"/>\n<text text-anchor=\"middle\" x=\"1465.5\" y=\"-495.8\" font-family=\"Times,serif\" font-size=\"14.00\">True</text>\n</g>\n<!-- lrllrlrn -->\n<g id=\"node49\" class=\"node\">\n<title>lrllrlrn</title>\n<polygon fill=\"#ea0800\" fill-opacity=\"0.501961\" stroke=\"black\" points=\"1618.5,-473.5 1454.5,-473.5 1454.5,-420.5 1618.5,-420.5 1618.5,-473.5\"/>\n<text text-anchor=\"middle\" x=\"1536.5\" y=\"-458.3\" font-family=\"Times,serif\" font-size=\"14.00\">middle&#45;left&#45;square: o</text>\n<text text-anchor=\"middle\" x=\"1536.5\" y=\"-443.3\" font-family=\"Times,serif\" font-size=\"14.00\">n=4</text>\n<text text-anchor=\"middle\" x=\"1536.5\" y=\"-428.3\" font-family=\"Times,serif\" font-size=\"14.00\">{&#39;positive&#39;: 3, &#39;negative&#39;: 1}</text>\n</g>\n<!-- lrllrln&#45;&gt;lrllrlrn -->\n<g id=\"edge44\" class=\"edge\">\n<title>lrllrln&#45;&gt;lrllrlrn</title>\n<path fill=\"none\" stroke=\"black\" d=\"M1510.99,-525.27C1515.17,-512.62 1520.27,-497.16 1524.81,-483.4\"/>\n<polygon fill=\"black\" stroke=\"black\" points=\"1528.19,-484.35 1528,-473.75 1521.54,-482.15 1528.19,-484.35\"/>\n<text text-anchor=\"middle\" x=\"1537\" y=\"-495.8\" font-family=\"Times,serif\" font-size=\"14.00\">False</text>\n</g>\n<!-- lrllrlrln -->\n<g id=\"node50\" class=\"node\">\n<title>lrllrlrln</title>\n<polygon fill=\"#ea0800\" fill-opacity=\"0.501961\" stroke=\"black\" points=\"1528,-369 1433,-369 1433,-315 1528,-315 1528,-369\"/>\n<text text-anchor=\"middle\" x=\"1480.5\" y=\"-337.8\" font-family=\"Times,serif\" font-size=\"14.00\">n=1</text>\n<text text-anchor=\"middle\" x=\"1480.5\" y=\"-322.8\" font-family=\"Times,serif\" font-size=\"14.00\">{&#39;negative&#39;: 1}</text>\n</g>\n<!-- lrllrlrn&#45;&gt;lrllrlrln -->\n<g id=\"edge42\" class=\"edge\">\n<title>lrllrlrn&#45;&gt;lrllrlrln</title>\n<path fill=\"none\" stroke=\"black\" d=\"M1522.51,-420.27C1515.55,-407.47 1507.03,-391.8 1499.49,-377.92\"/>\n<polygon fill=\"black\" stroke=\"black\" points=\"1502.55,-376.23 1494.7,-369.11 1496.4,-379.57 1502.55,-376.23\"/>\n<text text-anchor=\"middle\" x=\"1525.5\" y=\"-390.8\" font-family=\"Times,serif\" font-size=\"14.00\">True</text>\n</g>\n<!-- lrllrlrrn -->\n<g id=\"node51\" class=\"node\">\n<title>lrllrlrrn</title>\n<polygon fill=\"#ea0800\" fill-opacity=\"0.501961\" stroke=\"black\" points=\"1638.5,-369 1546.5,-369 1546.5,-315 1638.5,-315 1638.5,-369\"/>\n<text text-anchor=\"middle\" x=\"1592.5\" y=\"-337.8\" font-family=\"Times,serif\" font-size=\"14.00\">n=3</text>\n<text text-anchor=\"middle\" x=\"1592.5\" y=\"-322.8\" font-family=\"Times,serif\" font-size=\"14.00\">{&#39;positive&#39;: 3}</text>\n</g>\n<!-- lrllrlrn&#45;&gt;lrllrlrrn -->\n<g id=\"edge43\" class=\"edge\">\n<title>lrllrlrn&#45;&gt;lrllrlrrn</title>\n<path fill=\"none\" stroke=\"black\" d=\"M1550.49,-420.27C1557.45,-407.47 1565.97,-391.8 1573.51,-377.92\"/>\n<polygon fill=\"black\" stroke=\"black\" points=\"1576.6,-379.57 1578.3,-369.11 1570.45,-376.23 1576.6,-379.57\"/>\n<text text-anchor=\"middle\" x=\"1583\" y=\"-390.8\" font-family=\"Times,serif\" font-size=\"14.00\">False</text>\n</g>\n<!-- lrllrrln -->\n<g id=\"node53\" class=\"node\">\n<title>lrllrrln</title>\n<polygon fill=\"#ea0800\" fill-opacity=\"0.501961\" stroke=\"black\" points=\"1732,-474 1637,-474 1637,-420 1732,-420 1732,-474\"/>\n<text text-anchor=\"middle\" x=\"1684.5\" y=\"-442.8\" font-family=\"Times,serif\" font-size=\"14.00\">n=1</text>\n<text text-anchor=\"middle\" x=\"1684.5\" y=\"-427.8\" font-family=\"Times,serif\" font-size=\"14.00\">{&#39;negative&#39;: 1}</text>\n</g>\n<!-- lrllrrn&#45;&gt;lrllrrln -->\n<g id=\"edge46\" class=\"edge\">\n<title>lrllrrn&#45;&gt;lrllrrln</title>\n<path fill=\"none\" stroke=\"black\" d=\"M1684.5,-525.27C1684.5,-512.83 1684.5,-497.69 1684.5,-484.12\"/>\n<polygon fill=\"black\" stroke=\"black\" points=\"1688,-484.11 1684.5,-474.11 1681,-484.11 1688,-484.11\"/>\n<text text-anchor=\"middle\" x=\"1697.5\" y=\"-495.8\" font-family=\"Times,serif\" font-size=\"14.00\">True</text>\n</g>\n<!-- lrllrrrn -->\n<g id=\"node54\" class=\"node\">\n<title>lrllrrrn</title>\n<polygon fill=\"#ea0800\" fill-opacity=\"0.501961\" stroke=\"black\" points=\"1842.5,-474 1750.5,-474 1750.5,-420 1842.5,-420 1842.5,-474\"/>\n<text text-anchor=\"middle\" x=\"1796.5\" y=\"-442.8\" font-family=\"Times,serif\" font-size=\"14.00\">n=7</text>\n<text text-anchor=\"middle\" x=\"1796.5\" y=\"-427.8\" font-family=\"Times,serif\" font-size=\"14.00\">{&#39;positive&#39;: 7}</text>\n</g>\n<!-- lrllrrn&#45;&gt;lrllrrrn -->\n<g id=\"edge47\" class=\"edge\">\n<title>lrllrrn&#45;&gt;lrllrrrn</title>\n<path fill=\"none\" stroke=\"black\" d=\"M1712.47,-525.27C1727.06,-511.86 1745.07,-495.3 1760.67,-480.95\"/>\n<polygon fill=\"black\" stroke=\"black\" points=\"1763.11,-483.46 1768.11,-474.11 1758.38,-478.31 1763.11,-483.46\"/>\n<text text-anchor=\"middle\" x=\"1762\" y=\"-495.8\" font-family=\"Times,serif\" font-size=\"14.00\">False</text>\n</g>\n<!-- lrlrln -->\n<g id=\"node56\" class=\"node\">\n<title>lrlrln</title>\n<polygon fill=\"#ea0800\" fill-opacity=\"0.501961\" stroke=\"black\" points=\"1950.5,-683.5 1786.5,-683.5 1786.5,-630.5 1950.5,-630.5 1950.5,-683.5\"/>\n<text text-anchor=\"middle\" x=\"1868.5\" y=\"-668.3\" font-family=\"Times,serif\" font-size=\"14.00\">top&#45;middle&#45;square: o</text>\n<text text-anchor=\"middle\" x=\"1868.5\" y=\"-653.3\" font-family=\"Times,serif\" font-size=\"14.00\">n=13</text>\n<text text-anchor=\"middle\" x=\"1868.5\" y=\"-638.3\" font-family=\"Times,serif\" font-size=\"14.00\">{&#39;positive&#39;: 5, &#39;negative&#39;: 8}</text>\n</g>\n<!-- lrlrn&#45;&gt;lrlrln -->\n<g id=\"edge53\" class=\"edge\">\n<title>lrlrn&#45;&gt;lrlrln</title>\n<path fill=\"none\" stroke=\"black\" d=\"M1868.5,-735.27C1868.5,-722.74 1868.5,-707.46 1868.5,-693.81\"/>\n<polygon fill=\"black\" stroke=\"black\" points=\"1872,-693.75 1868.5,-683.75 1865,-693.75 1872,-693.75\"/>\n<text text-anchor=\"middle\" x=\"1881.5\" y=\"-705.8\" font-family=\"Times,serif\" font-size=\"14.00\">True</text>\n</g>\n<!-- lrlrrn -->\n<g id=\"node59\" class=\"node\">\n<title>lrlrrn</title>\n<polygon fill=\"#ea0800\" fill-opacity=\"0.501961\" stroke=\"black\" points=\"2175.5,-683.5 2005.5,-683.5 2005.5,-630.5 2175.5,-630.5 2175.5,-683.5\"/>\n<text text-anchor=\"middle\" x=\"2090.5\" y=\"-668.3\" font-family=\"Times,serif\" font-size=\"14.00\">top&#45;right&#45;square: o</text>\n<text text-anchor=\"middle\" x=\"2090.5\" y=\"-653.3\" font-family=\"Times,serif\" font-size=\"14.00\">n=46</text>\n<text text-anchor=\"middle\" x=\"2090.5\" y=\"-638.3\" font-family=\"Times,serif\" font-size=\"14.00\">{&#39;positive&#39;: 38, &#39;negative&#39;: 8}</text>\n</g>\n<!-- lrlrn&#45;&gt;lrlrrn -->\n<g id=\"edge64\" class=\"edge\">\n<title>lrlrn&#45;&gt;lrlrrn</title>\n<path fill=\"none\" stroke=\"black\" d=\"M1923.66,-735.41C1954.63,-721.04 1993.45,-703.03 2025.85,-688\"/>\n<polygon fill=\"black\" stroke=\"black\" points=\"2027.64,-691.02 2035.24,-683.64 2024.69,-684.67 2027.64,-691.02\"/>\n<text text-anchor=\"middle\" x=\"2008\" y=\"-705.8\" font-family=\"Times,serif\" font-size=\"14.00\">False</text>\n</g>\n<!-- lrlrlln -->\n<g id=\"node57\" class=\"node\">\n<title>lrlrlln</title>\n<polygon fill=\"#ea0800\" fill-opacity=\"0.501961\" stroke=\"black\" points=\"1880,-579 1785,-579 1785,-525 1880,-525 1880,-579\"/>\n<text text-anchor=\"middle\" x=\"1832.5\" y=\"-547.8\" font-family=\"Times,serif\" font-size=\"14.00\">n=8</text>\n<text text-anchor=\"middle\" x=\"1832.5\" y=\"-532.8\" font-family=\"Times,serif\" font-size=\"14.00\">{&#39;negative&#39;: 8}</text>\n</g>\n<!-- lrlrln&#45;&gt;lrlrlln -->\n<g id=\"edge51\" class=\"edge\">\n<title>lrlrln&#45;&gt;lrlrlln</title>\n<path fill=\"none\" stroke=\"black\" d=\"M1859.51,-630.27C1855.12,-617.71 1849.76,-602.39 1844.98,-588.72\"/>\n<polygon fill=\"black\" stroke=\"black\" points=\"1848.23,-587.4 1841.63,-579.11 1841.62,-589.71 1848.23,-587.4\"/>\n<text text-anchor=\"middle\" x=\"1866.5\" y=\"-600.8\" font-family=\"Times,serif\" font-size=\"14.00\">True</text>\n</g>\n<!-- lrlrlrn -->\n<g id=\"node58\" class=\"node\">\n<title>lrlrlrn</title>\n<polygon fill=\"#ea0800\" fill-opacity=\"0.501961\" stroke=\"black\" points=\"1990.5,-579 1898.5,-579 1898.5,-525 1990.5,-525 1990.5,-579\"/>\n<text text-anchor=\"middle\" x=\"1944.5\" y=\"-547.8\" font-family=\"Times,serif\" font-size=\"14.00\">n=5</text>\n<text text-anchor=\"middle\" x=\"1944.5\" y=\"-532.8\" font-family=\"Times,serif\" font-size=\"14.00\">{&#39;positive&#39;: 5}</text>\n</g>\n<!-- lrlrln&#45;&gt;lrlrlrn -->\n<g id=\"edge52\" class=\"edge\">\n<title>lrlrln&#45;&gt;lrlrlrn</title>\n<path fill=\"none\" stroke=\"black\" d=\"M1887.48,-630.27C1897.02,-617.35 1908.71,-601.5 1919.02,-587.53\"/>\n<polygon fill=\"black\" stroke=\"black\" points=\"1922.11,-589.24 1925.23,-579.11 1916.48,-585.08 1922.11,-589.24\"/>\n<text text-anchor=\"middle\" x=\"1926\" y=\"-600.8\" font-family=\"Times,serif\" font-size=\"14.00\">False</text>\n</g>\n<!-- lrlrrln -->\n<g id=\"node60\" class=\"node\">\n<title>lrlrrln</title>\n<polygon fill=\"#ea0800\" fill-opacity=\"0.501961\" stroke=\"black\" points=\"2172.5,-578.5 2008.5,-578.5 2008.5,-525.5 2172.5,-525.5 2172.5,-578.5\"/>\n<text text-anchor=\"middle\" x=\"2090.5\" y=\"-563.3\" font-family=\"Times,serif\" font-size=\"14.00\">bottom&#45;left&#45;square: x</text>\n<text text-anchor=\"middle\" x=\"2090.5\" y=\"-548.3\" font-family=\"Times,serif\" font-size=\"14.00\">n=13</text>\n<text text-anchor=\"middle\" x=\"2090.5\" y=\"-533.3\" font-family=\"Times,serif\" font-size=\"14.00\">{&#39;positive&#39;: 7, &#39;negative&#39;: 6}</text>\n</g>\n<!-- lrlrrn&#45;&gt;lrlrrln -->\n<g id=\"edge58\" class=\"edge\">\n<title>lrlrrn&#45;&gt;lrlrrln</title>\n<path fill=\"none\" stroke=\"black\" d=\"M2090.5,-630.27C2090.5,-617.74 2090.5,-602.46 2090.5,-588.81\"/>\n<polygon fill=\"black\" stroke=\"black\" points=\"2094,-588.75 2090.5,-578.75 2087,-588.75 2094,-588.75\"/>\n<text text-anchor=\"middle\" x=\"2103.5\" y=\"-600.8\" font-family=\"Times,serif\" font-size=\"14.00\">True</text>\n</g>\n<!-- lrlrrrn -->\n<g id=\"node65\" class=\"node\">\n<title>lrlrrrn</title>\n<polygon fill=\"#ea0800\" fill-opacity=\"0.501961\" stroke=\"black\" points=\"2360.5,-578.5 2190.5,-578.5 2190.5,-525.5 2360.5,-525.5 2360.5,-578.5\"/>\n<text text-anchor=\"middle\" x=\"2275.5\" y=\"-563.3\" font-family=\"Times,serif\" font-size=\"14.00\">middle&#45;right&#45;square: o</text>\n<text text-anchor=\"middle\" x=\"2275.5\" y=\"-548.3\" font-family=\"Times,serif\" font-size=\"14.00\">n=33</text>\n<text text-anchor=\"middle\" x=\"2275.5\" y=\"-533.3\" font-family=\"Times,serif\" font-size=\"14.00\">{&#39;positive&#39;: 31, &#39;negative&#39;: 2}</text>\n</g>\n<!-- lrlrrn&#45;&gt;lrlrrrn -->\n<g id=\"edge63\" class=\"edge\">\n<title>lrlrrn&#45;&gt;lrlrrrn</title>\n<path fill=\"none\" stroke=\"black\" d=\"M2136.71,-630.27C2162.19,-616.09 2193.98,-598.39 2220.71,-583.51\"/>\n<polygon fill=\"black\" stroke=\"black\" points=\"2222.53,-586.5 2229.56,-578.58 2219.12,-580.38 2222.53,-586.5\"/>\n<text text-anchor=\"middle\" x=\"2209\" y=\"-600.8\" font-family=\"Times,serif\" font-size=\"14.00\">False</text>\n</g>\n<!-- lrlrrlln -->\n<g id=\"node61\" class=\"node\">\n<title>lrlrrlln</title>\n<polygon fill=\"#ea0800\" fill-opacity=\"0.501961\" stroke=\"black\" points=\"2024.5,-473.5 1860.5,-473.5 1860.5,-420.5 2024.5,-420.5 2024.5,-473.5\"/>\n<text text-anchor=\"middle\" x=\"1942.5\" y=\"-458.3\" font-family=\"Times,serif\" font-size=\"14.00\">bottom&#45;middle&#45;square: b</text>\n<text text-anchor=\"middle\" x=\"1942.5\" y=\"-443.3\" font-family=\"Times,serif\" font-size=\"14.00\">n=8</text>\n<text text-anchor=\"middle\" x=\"1942.5\" y=\"-428.3\" font-family=\"Times,serif\" font-size=\"14.00\">{&#39;positive&#39;: 7, &#39;negative&#39;: 1}</text>\n</g>\n<!-- lrlrrln&#45;&gt;lrlrrlln -->\n<g id=\"edge56\" class=\"edge\">\n<title>lrlrrln&#45;&gt;lrlrrlln</title>\n<path fill=\"none\" stroke=\"black\" d=\"M2053.54,-525.27C2033.59,-511.4 2008.82,-494.15 1987.73,-479.48\"/>\n<polygon fill=\"black\" stroke=\"black\" points=\"1989.46,-476.42 1979.25,-473.58 1985.46,-482.16 1989.46,-476.42\"/>\n<text text-anchor=\"middle\" x=\"2038.5\" y=\"-495.8\" font-family=\"Times,serif\" font-size=\"14.00\">True</text>\n</g>\n<!-- lrlrrlrn -->\n<g id=\"node64\" class=\"node\">\n<title>lrlrrlrn</title>\n<polygon fill=\"#ea0800\" fill-opacity=\"0.501961\" stroke=\"black\" points=\"2138,-474 2043,-474 2043,-420 2138,-420 2138,-474\"/>\n<text text-anchor=\"middle\" x=\"2090.5\" y=\"-442.8\" font-family=\"Times,serif\" font-size=\"14.00\">n=5</text>\n<text text-anchor=\"middle\" x=\"2090.5\" y=\"-427.8\" font-family=\"Times,serif\" font-size=\"14.00\">{&#39;negative&#39;: 5}</text>\n</g>\n<!-- lrlrrln&#45;&gt;lrlrrlrn -->\n<g id=\"edge57\" class=\"edge\">\n<title>lrlrrln&#45;&gt;lrlrrlrn</title>\n<path fill=\"none\" stroke=\"black\" d=\"M2090.5,-525.27C2090.5,-512.83 2090.5,-497.69 2090.5,-484.12\"/>\n<polygon fill=\"black\" stroke=\"black\" points=\"2094,-484.11 2090.5,-474.11 2087,-484.11 2094,-484.11\"/>\n<text text-anchor=\"middle\" x=\"2105\" y=\"-495.8\" font-family=\"Times,serif\" font-size=\"14.00\">False</text>\n</g>\n<!-- lrlrrllln -->\n<g id=\"node62\" class=\"node\">\n<title>lrlrrllln</title>\n<polygon fill=\"#ea0800\" fill-opacity=\"0.501961\" stroke=\"black\" points=\"1934,-369 1839,-369 1839,-315 1934,-315 1934,-369\"/>\n<text text-anchor=\"middle\" x=\"1886.5\" y=\"-337.8\" font-family=\"Times,serif\" font-size=\"14.00\">n=1</text>\n<text text-anchor=\"middle\" x=\"1886.5\" y=\"-322.8\" font-family=\"Times,serif\" font-size=\"14.00\">{&#39;negative&#39;: 1}</text>\n</g>\n<!-- lrlrrlln&#45;&gt;lrlrrllln -->\n<g id=\"edge54\" class=\"edge\">\n<title>lrlrrlln&#45;&gt;lrlrrllln</title>\n<path fill=\"none\" stroke=\"black\" d=\"M1928.51,-420.27C1921.55,-407.47 1913.03,-391.8 1905.49,-377.92\"/>\n<polygon fill=\"black\" stroke=\"black\" points=\"1908.55,-376.23 1900.7,-369.11 1902.4,-379.57 1908.55,-376.23\"/>\n<text text-anchor=\"middle\" x=\"1931.5\" y=\"-390.8\" font-family=\"Times,serif\" font-size=\"14.00\">True</text>\n</g>\n<!-- lrlrrllrn -->\n<g id=\"node63\" class=\"node\">\n<title>lrlrrllrn</title>\n<polygon fill=\"#ea0800\" fill-opacity=\"0.501961\" stroke=\"black\" points=\"2044.5,-369 1952.5,-369 1952.5,-315 2044.5,-315 2044.5,-369\"/>\n<text text-anchor=\"middle\" x=\"1998.5\" y=\"-337.8\" font-family=\"Times,serif\" font-size=\"14.00\">n=7</text>\n<text text-anchor=\"middle\" x=\"1998.5\" y=\"-322.8\" font-family=\"Times,serif\" font-size=\"14.00\">{&#39;positive&#39;: 7}</text>\n</g>\n<!-- lrlrrlln&#45;&gt;lrlrrllrn -->\n<g id=\"edge55\" class=\"edge\">\n<title>lrlrrlln&#45;&gt;lrlrrllrn</title>\n<path fill=\"none\" stroke=\"black\" d=\"M1956.49,-420.27C1963.45,-407.47 1971.97,-391.8 1979.51,-377.92\"/>\n<polygon fill=\"black\" stroke=\"black\" points=\"1982.6,-379.57 1984.3,-369.11 1976.45,-376.23 1982.6,-379.57\"/>\n<text text-anchor=\"middle\" x=\"1989\" y=\"-390.8\" font-family=\"Times,serif\" font-size=\"14.00\">False</text>\n</g>\n<!-- lrlrrrln -->\n<g id=\"node66\" class=\"node\">\n<title>lrlrrrln</title>\n<polygon fill=\"#ea0800\" fill-opacity=\"0.501961\" stroke=\"black\" points=\"2320.5,-473.5 2156.5,-473.5 2156.5,-420.5 2320.5,-420.5 2320.5,-473.5\"/>\n<text text-anchor=\"middle\" x=\"2238.5\" y=\"-458.3\" font-family=\"Times,serif\" font-size=\"14.00\">middle&#45;left&#45;square: o</text>\n<text text-anchor=\"middle\" x=\"2238.5\" y=\"-443.3\" font-family=\"Times,serif\" font-size=\"14.00\">n=7</text>\n<text text-anchor=\"middle\" x=\"2238.5\" y=\"-428.3\" font-family=\"Times,serif\" font-size=\"14.00\">{&#39;positive&#39;: 5, &#39;negative&#39;: 2}</text>\n</g>\n<!-- lrlrrrn&#45;&gt;lrlrrrln -->\n<g id=\"edge61\" class=\"edge\">\n<title>lrlrrrn&#45;&gt;lrlrrrln</title>\n<path fill=\"none\" stroke=\"black\" d=\"M2266.26,-525.27C2261.71,-512.62 2256.16,-497.16 2251.22,-483.4\"/>\n<polygon fill=\"black\" stroke=\"black\" points=\"2254.43,-481.98 2247.75,-473.75 2247.84,-484.35 2254.43,-481.98\"/>\n<text text-anchor=\"middle\" x=\"2272.5\" y=\"-495.8\" font-family=\"Times,serif\" font-size=\"14.00\">True</text>\n</g>\n<!-- lrlrrrrn -->\n<g id=\"node69\" class=\"node\">\n<title>lrlrrrrn</title>\n<polygon fill=\"#ea0800\" fill-opacity=\"0.501961\" stroke=\"black\" points=\"2436.5,-474 2338.5,-474 2338.5,-420 2436.5,-420 2436.5,-474\"/>\n<text text-anchor=\"middle\" x=\"2387.5\" y=\"-442.8\" font-family=\"Times,serif\" font-size=\"14.00\">n=26</text>\n<text text-anchor=\"middle\" x=\"2387.5\" y=\"-427.8\" font-family=\"Times,serif\" font-size=\"14.00\">{&#39;positive&#39;: 26}</text>\n</g>\n<!-- lrlrrrn&#45;&gt;lrlrrrrn -->\n<g id=\"edge62\" class=\"edge\">\n<title>lrlrrrn&#45;&gt;lrlrrrrn</title>\n<path fill=\"none\" stroke=\"black\" d=\"M2303.47,-525.27C2318.06,-511.86 2336.07,-495.3 2351.67,-480.95\"/>\n<polygon fill=\"black\" stroke=\"black\" points=\"2354.11,-483.46 2359.11,-474.11 2349.38,-478.31 2354.11,-483.46\"/>\n<text text-anchor=\"middle\" x=\"2353\" y=\"-495.8\" font-family=\"Times,serif\" font-size=\"14.00\">False</text>\n</g>\n<!-- lrlrrrlln -->\n<g id=\"node67\" class=\"node\">\n<title>lrlrrrlln</title>\n<polygon fill=\"#ea0800\" fill-opacity=\"0.501961\" stroke=\"black\" points=\"2230,-369 2135,-369 2135,-315 2230,-315 2230,-369\"/>\n<text text-anchor=\"middle\" x=\"2182.5\" y=\"-337.8\" font-family=\"Times,serif\" font-size=\"14.00\">n=2</text>\n<text text-anchor=\"middle\" x=\"2182.5\" y=\"-322.8\" font-family=\"Times,serif\" font-size=\"14.00\">{&#39;negative&#39;: 2}</text>\n</g>\n<!-- lrlrrrln&#45;&gt;lrlrrrlln -->\n<g id=\"edge59\" class=\"edge\">\n<title>lrlrrrln&#45;&gt;lrlrrrlln</title>\n<path fill=\"none\" stroke=\"black\" d=\"M2224.51,-420.27C2217.55,-407.47 2209.03,-391.8 2201.49,-377.92\"/>\n<polygon fill=\"black\" stroke=\"black\" points=\"2204.55,-376.23 2196.7,-369.11 2198.4,-379.57 2204.55,-376.23\"/>\n<text text-anchor=\"middle\" x=\"2227.5\" y=\"-390.8\" font-family=\"Times,serif\" font-size=\"14.00\">True</text>\n</g>\n<!-- lrlrrrlrn -->\n<g id=\"node68\" class=\"node\">\n<title>lrlrrrlrn</title>\n<polygon fill=\"#ea0800\" fill-opacity=\"0.501961\" stroke=\"black\" points=\"2340.5,-369 2248.5,-369 2248.5,-315 2340.5,-315 2340.5,-369\"/>\n<text text-anchor=\"middle\" x=\"2294.5\" y=\"-337.8\" font-family=\"Times,serif\" font-size=\"14.00\">n=5</text>\n<text text-anchor=\"middle\" x=\"2294.5\" y=\"-322.8\" font-family=\"Times,serif\" font-size=\"14.00\">{&#39;positive&#39;: 5}</text>\n</g>\n<!-- lrlrrrln&#45;&gt;lrlrrrlrn -->\n<g id=\"edge60\" class=\"edge\">\n<title>lrlrrrln&#45;&gt;lrlrrrlrn</title>\n<path fill=\"none\" stroke=\"black\" d=\"M2252.49,-420.27C2259.45,-407.47 2267.97,-391.8 2275.51,-377.92\"/>\n<polygon fill=\"black\" stroke=\"black\" points=\"2278.6,-379.57 2280.3,-369.11 2272.45,-376.23 2278.6,-379.57\"/>\n<text text-anchor=\"middle\" x=\"2285\" y=\"-390.8\" font-family=\"Times,serif\" font-size=\"14.00\">False</text>\n</g>\n<!-- rln -->\n<g id=\"node72\" class=\"node\">\n<title>rln</title>\n<polygon fill=\"#ea0800\" fill-opacity=\"0.501961\" stroke=\"black\" points=\"2805.5,-998 2621.5,-998 2621.5,-945 2805.5,-945 2805.5,-998\"/>\n<text text-anchor=\"middle\" x=\"2713.5\" y=\"-982.8\" font-family=\"Times,serif\" font-size=\"14.00\">top&#45;left&#45;square: o</text>\n<text text-anchor=\"middle\" x=\"2713.5\" y=\"-967.8\" font-family=\"Times,serif\" font-size=\"14.00\">n=207</text>\n<text text-anchor=\"middle\" x=\"2713.5\" y=\"-952.8\" font-family=\"Times,serif\" font-size=\"14.00\">{&#39;positive&#39;: 137, &#39;negative&#39;: 70}</text>\n</g>\n<!-- rn&#45;&gt;rln -->\n<g id=\"edge106\" class=\"edge\">\n<title>rn&#45;&gt;rln</title>\n<path fill=\"none\" stroke=\"black\" d=\"M2713.5,-1048.76C2713.5,-1036.56 2713.5,-1021.78 2713.5,-1008.49\"/>\n<polygon fill=\"black\" stroke=\"black\" points=\"2717,-1008.23 2713.5,-998.23 2710,-1008.23 2717,-1008.23\"/>\n<text text-anchor=\"middle\" x=\"2726.5\" y=\"-1019.8\" font-family=\"Times,serif\" font-size=\"14.00\">True</text>\n</g>\n<!-- rrn -->\n<g id=\"node109\" class=\"node\">\n<title>rrn</title>\n<polygon fill=\"#ea0800\" fill-opacity=\"0.501961\" stroke=\"black\" points=\"3641.5,-998 3457.5,-998 3457.5,-945 3641.5,-945 3641.5,-998\"/>\n<text text-anchor=\"middle\" x=\"3549.5\" y=\"-982.8\" font-family=\"Times,serif\" font-size=\"14.00\">top&#45;right&#45;square: o</text>\n<text text-anchor=\"middle\" x=\"3549.5\" y=\"-967.8\" font-family=\"Times,serif\" font-size=\"14.00\">n=349</text>\n<text text-anchor=\"middle\" x=\"3549.5\" y=\"-952.8\" font-family=\"Times,serif\" font-size=\"14.00\">{&#39;positive&#39;: 296, &#39;negative&#39;: 53}</text>\n</g>\n<!-- rn&#45;&gt;rrn -->\n<g id=\"edge131\" class=\"edge\">\n<title>rn&#45;&gt;rrn</title>\n<path fill=\"none\" stroke=\"black\" d=\"M2809.4,-1062.8C2968.19,-1043.42 3284.35,-1004.85 3447.24,-984.98\"/>\n<polygon fill=\"black\" stroke=\"black\" points=\"3447.76,-988.44 3457.27,-983.75 3446.92,-981.49 3447.76,-988.44\"/>\n<text text-anchor=\"middle\" x=\"3197\" y=\"-1019.8\" font-family=\"Times,serif\" font-size=\"14.00\">False</text>\n</g>\n<!-- rlln -->\n<g id=\"node73\" class=\"node\">\n<title>rlln</title>\n<polygon fill=\"#ea0800\" fill-opacity=\"0.501961\" stroke=\"black\" points=\"2709,-893.5 2532,-893.5 2532,-840.5 2709,-840.5 2709,-893.5\"/>\n<text text-anchor=\"middle\" x=\"2620.5\" y=\"-878.3\" font-family=\"Times,serif\" font-size=\"14.00\">middle&#45;left&#45;square: o</text>\n<text text-anchor=\"middle\" x=\"2620.5\" y=\"-863.3\" font-family=\"Times,serif\" font-size=\"14.00\">n=71</text>\n<text text-anchor=\"middle\" x=\"2620.5\" y=\"-848.3\" font-family=\"Times,serif\" font-size=\"14.00\">{&#39;negative&#39;: 39, &#39;positive&#39;: 32}</text>\n</g>\n<!-- rln&#45;&gt;rlln -->\n<g id=\"edge90\" class=\"edge\">\n<title>rln&#45;&gt;rlln</title>\n<path fill=\"none\" stroke=\"black\" d=\"M2690.27,-944.9C2678.29,-931.69 2663.53,-915.42 2650.67,-901.25\"/>\n<polygon fill=\"black\" stroke=\"black\" points=\"2653.07,-898.68 2643.75,-893.63 2647.88,-903.39 2653.07,-898.68\"/>\n<text text-anchor=\"middle\" x=\"2686.5\" y=\"-915.8\" font-family=\"Times,serif\" font-size=\"14.00\">True</text>\n</g>\n<!-- rlrn -->\n<g id=\"node94\" class=\"node\">\n<title>rlrn</title>\n<polygon fill=\"#ea0800\" fill-opacity=\"0.501961\" stroke=\"black\" points=\"2911.5,-893.5 2727.5,-893.5 2727.5,-840.5 2911.5,-840.5 2911.5,-893.5\"/>\n<text text-anchor=\"middle\" x=\"2819.5\" y=\"-878.3\" font-family=\"Times,serif\" font-size=\"14.00\">bottom&#45;right&#45;square: o</text>\n<text text-anchor=\"middle\" x=\"2819.5\" y=\"-863.3\" font-family=\"Times,serif\" font-size=\"14.00\">n=136</text>\n<text text-anchor=\"middle\" x=\"2819.5\" y=\"-848.3\" font-family=\"Times,serif\" font-size=\"14.00\">{&#39;positive&#39;: 105, &#39;negative&#39;: 31}</text>\n</g>\n<!-- rln&#45;&gt;rlrn -->\n<g id=\"edge105\" class=\"edge\">\n<title>rln&#45;&gt;rlrn</title>\n<path fill=\"none\" stroke=\"black\" d=\"M2739.97,-944.9C2753.76,-931.57 2770.77,-915.12 2785.52,-900.86\"/>\n<polygon fill=\"black\" stroke=\"black\" points=\"2788.24,-903.1 2793,-893.63 2783.37,-898.06 2788.24,-903.1\"/>\n<text text-anchor=\"middle\" x=\"2788\" y=\"-915.8\" font-family=\"Times,serif\" font-size=\"14.00\">False</text>\n</g>\n<!-- rllln -->\n<g id=\"node74\" class=\"node\">\n<title>rllln</title>\n<polygon fill=\"#ea0800\" fill-opacity=\"0.501961\" stroke=\"black\" points=\"2520,-789 2419,-789 2419,-735 2520,-735 2520,-789\"/>\n<text text-anchor=\"middle\" x=\"2469.5\" y=\"-757.8\" font-family=\"Times,serif\" font-size=\"14.00\">n=31</text>\n<text text-anchor=\"middle\" x=\"2469.5\" y=\"-742.8\" font-family=\"Times,serif\" font-size=\"14.00\">{&#39;negative&#39;: 31}</text>\n</g>\n<!-- rlln&#45;&gt;rllln -->\n<g id=\"edge70\" class=\"edge\">\n<title>rlln&#45;&gt;rllln</title>\n<path fill=\"none\" stroke=\"black\" d=\"M2582.79,-840.27C2562.58,-826.49 2537.51,-809.39 2516.1,-794.78\"/>\n<polygon fill=\"black\" stroke=\"black\" points=\"2518.02,-791.86 2507.78,-789.11 2514.07,-797.64 2518.02,-791.86\"/>\n<text text-anchor=\"middle\" x=\"2567.5\" y=\"-810.8\" font-family=\"Times,serif\" font-size=\"14.00\">True</text>\n</g>\n<!-- rllrn -->\n<g id=\"node75\" class=\"node\">\n<title>rllrn</title>\n<polygon fill=\"#ea0800\" fill-opacity=\"0.501961\" stroke=\"black\" points=\"2708.5,-788.5 2538.5,-788.5 2538.5,-735.5 2708.5,-735.5 2708.5,-788.5\"/>\n<text text-anchor=\"middle\" x=\"2623.5\" y=\"-773.3\" font-family=\"Times,serif\" font-size=\"14.00\">bottom&#45;right&#45;square: b</text>\n<text text-anchor=\"middle\" x=\"2623.5\" y=\"-758.3\" font-family=\"Times,serif\" font-size=\"14.00\">n=40</text>\n<text text-anchor=\"middle\" x=\"2623.5\" y=\"-743.3\" font-family=\"Times,serif\" font-size=\"14.00\">{&#39;positive&#39;: 32, &#39;negative&#39;: 8}</text>\n</g>\n<!-- rlln&#45;&gt;rllrn -->\n<g id=\"edge89\" class=\"edge\">\n<title>rlln&#45;&gt;rllrn</title>\n<path fill=\"none\" stroke=\"black\" d=\"M2621.25,-840.27C2621.61,-827.74 2622.06,-812.46 2622.46,-798.81\"/>\n<polygon fill=\"black\" stroke=\"black\" points=\"2625.96,-798.85 2622.75,-788.75 2618.96,-798.65 2625.96,-798.85\"/>\n<text text-anchor=\"middle\" x=\"2637\" y=\"-810.8\" font-family=\"Times,serif\" font-size=\"14.00\">False</text>\n</g>\n<!-- rllrln -->\n<g id=\"node76\" class=\"node\">\n<title>rllrln</title>\n<polygon fill=\"#ea0800\" fill-opacity=\"0.501961\" stroke=\"black\" points=\"2524.5,-684 2426.5,-684 2426.5,-630 2524.5,-630 2524.5,-684\"/>\n<text text-anchor=\"middle\" x=\"2475.5\" y=\"-652.8\" font-family=\"Times,serif\" font-size=\"14.00\">n=12</text>\n<text text-anchor=\"middle\" x=\"2475.5\" y=\"-637.8\" font-family=\"Times,serif\" font-size=\"14.00\">{&#39;positive&#39;: 12}</text>\n</g>\n<!-- rllrn&#45;&gt;rllrln -->\n<g id=\"edge71\" class=\"edge\">\n<title>rllrn&#45;&gt;rllrln</title>\n<path fill=\"none\" stroke=\"black\" d=\"M2586.54,-735.27C2566.82,-721.55 2542.38,-704.54 2521.45,-689.98\"/>\n<polygon fill=\"black\" stroke=\"black\" points=\"2523.23,-686.95 2513.02,-684.11 2519.23,-692.7 2523.23,-686.95\"/>\n<text text-anchor=\"middle\" x=\"2571.5\" y=\"-705.8\" font-family=\"Times,serif\" font-size=\"14.00\">True</text>\n</g>\n<!-- rllrrn -->\n<g id=\"node77\" class=\"node\">\n<title>rllrrn</title>\n<polygon fill=\"#ea0800\" fill-opacity=\"0.501961\" stroke=\"black\" points=\"2712.5,-683.5 2542.5,-683.5 2542.5,-630.5 2712.5,-630.5 2712.5,-683.5\"/>\n<text text-anchor=\"middle\" x=\"2627.5\" y=\"-668.3\" font-family=\"Times,serif\" font-size=\"14.00\">top&#45;right&#45;square: b</text>\n<text text-anchor=\"middle\" x=\"2627.5\" y=\"-653.3\" font-family=\"Times,serif\" font-size=\"14.00\">n=28</text>\n<text text-anchor=\"middle\" x=\"2627.5\" y=\"-638.3\" font-family=\"Times,serif\" font-size=\"14.00\">{&#39;positive&#39;: 20, &#39;negative&#39;: 8}</text>\n</g>\n<!-- rllrn&#45;&gt;rllrrn -->\n<g id=\"edge88\" class=\"edge\">\n<title>rllrn&#45;&gt;rllrrn</title>\n<path fill=\"none\" stroke=\"black\" d=\"M2624.5,-735.27C2624.99,-722.74 2625.58,-707.46 2626.11,-693.81\"/>\n<polygon fill=\"black\" stroke=\"black\" points=\"2629.61,-693.88 2626.5,-683.75 2622.61,-693.61 2629.61,-693.88\"/>\n<text text-anchor=\"middle\" x=\"2641\" y=\"-705.8\" font-family=\"Times,serif\" font-size=\"14.00\">False</text>\n</g>\n<!-- rllrrln -->\n<g id=\"node78\" class=\"node\">\n<title>rllrrln</title>\n<polygon fill=\"#ea0800\" fill-opacity=\"0.501961\" stroke=\"black\" points=\"2539.5,-579 2447.5,-579 2447.5,-525 2539.5,-525 2539.5,-579\"/>\n<text text-anchor=\"middle\" x=\"2493.5\" y=\"-547.8\" font-family=\"Times,serif\" font-size=\"14.00\">n=6</text>\n<text text-anchor=\"middle\" x=\"2493.5\" y=\"-532.8\" font-family=\"Times,serif\" font-size=\"14.00\">{&#39;positive&#39;: 6}</text>\n</g>\n<!-- rllrrn&#45;&gt;rllrrln -->\n<g id=\"edge72\" class=\"edge\">\n<title>rllrrn&#45;&gt;rllrrln</title>\n<path fill=\"none\" stroke=\"black\" d=\"M2594.03,-630.27C2576.34,-616.68 2554.45,-599.85 2535.61,-585.37\"/>\n<polygon fill=\"black\" stroke=\"black\" points=\"2537.53,-582.43 2527.47,-579.11 2533.27,-587.98 2537.53,-582.43\"/>\n<text text-anchor=\"middle\" x=\"2582.5\" y=\"-600.8\" font-family=\"Times,serif\" font-size=\"14.00\">True</text>\n</g>\n<!-- rllrrrn -->\n<g id=\"node79\" class=\"node\">\n<title>rllrrrn</title>\n<polygon fill=\"#ea0800\" fill-opacity=\"0.501961\" stroke=\"black\" points=\"2727.5,-578.5 2557.5,-578.5 2557.5,-525.5 2727.5,-525.5 2727.5,-578.5\"/>\n<text text-anchor=\"middle\" x=\"2642.5\" y=\"-563.3\" font-family=\"Times,serif\" font-size=\"14.00\">top&#45;middle&#45;square: b</text>\n<text text-anchor=\"middle\" x=\"2642.5\" y=\"-548.3\" font-family=\"Times,serif\" font-size=\"14.00\">n=22</text>\n<text text-anchor=\"middle\" x=\"2642.5\" y=\"-533.3\" font-family=\"Times,serif\" font-size=\"14.00\">{&#39;negative&#39;: 8, &#39;positive&#39;: 14}</text>\n</g>\n<!-- rllrrn&#45;&gt;rllrrrn -->\n<g id=\"edge87\" class=\"edge\">\n<title>rllrrn&#45;&gt;rllrrrn</title>\n<path fill=\"none\" stroke=\"black\" d=\"M2631.25,-630.27C2633.07,-617.74 2635.3,-602.46 2637.29,-588.81\"/>\n<polygon fill=\"black\" stroke=\"black\" points=\"2640.77,-589.15 2638.75,-578.75 2633.84,-588.15 2640.77,-589.15\"/>\n<text text-anchor=\"middle\" x=\"2651\" y=\"-600.8\" font-family=\"Times,serif\" font-size=\"14.00\">False</text>\n</g>\n<!-- rllrrrln -->\n<g id=\"node80\" class=\"node\">\n<title>rllrrrln</title>\n<polygon fill=\"#ea0800\" fill-opacity=\"0.501961\" stroke=\"black\" points=\"2546.5,-474 2454.5,-474 2454.5,-420 2546.5,-420 2546.5,-474\"/>\n<text text-anchor=\"middle\" x=\"2500.5\" y=\"-442.8\" font-family=\"Times,serif\" font-size=\"14.00\">n=3</text>\n<text text-anchor=\"middle\" x=\"2500.5\" y=\"-427.8\" font-family=\"Times,serif\" font-size=\"14.00\">{&#39;positive&#39;: 3}</text>\n</g>\n<!-- rllrrrn&#45;&gt;rllrrrln -->\n<g id=\"edge73\" class=\"edge\">\n<title>rllrrrn&#45;&gt;rllrrrln</title>\n<path fill=\"none\" stroke=\"black\" d=\"M2607.03,-525.27C2588.2,-511.61 2564.88,-494.69 2544.86,-480.17\"/>\n<polygon fill=\"black\" stroke=\"black\" points=\"2546.65,-477.15 2536.5,-474.11 2542.54,-482.82 2546.65,-477.15\"/>\n<text text-anchor=\"middle\" x=\"2593.5\" y=\"-495.8\" font-family=\"Times,serif\" font-size=\"14.00\">True</text>\n</g>\n<!-- rllrrrrn -->\n<g id=\"node81\" class=\"node\">\n<title>rllrrrrn</title>\n<polygon fill=\"#ea0800\" fill-opacity=\"0.501961\" stroke=\"black\" points=\"2734.5,-473.5 2564.5,-473.5 2564.5,-420.5 2734.5,-420.5 2734.5,-473.5\"/>\n<text text-anchor=\"middle\" x=\"2649.5\" y=\"-458.3\" font-family=\"Times,serif\" font-size=\"14.00\">bottom&#45;middle&#45;square: o</text>\n<text text-anchor=\"middle\" x=\"2649.5\" y=\"-443.3\" font-family=\"Times,serif\" font-size=\"14.00\">n=19</text>\n<text text-anchor=\"middle\" x=\"2649.5\" y=\"-428.3\" font-family=\"Times,serif\" font-size=\"14.00\">{&#39;negative&#39;: 8, &#39;positive&#39;: 11}</text>\n</g>\n<!-- rllrrrn&#45;&gt;rllrrrrn -->\n<g id=\"edge86\" class=\"edge\">\n<title>rllrrrn&#45;&gt;rllrrrrn</title>\n<path fill=\"none\" stroke=\"black\" d=\"M2644.25,-525.27C2645.1,-512.74 2646.14,-497.46 2647.07,-483.81\"/>\n<polygon fill=\"black\" stroke=\"black\" points=\"2650.56,-483.97 2647.75,-473.75 2643.58,-483.49 2650.56,-483.97\"/>\n<text text-anchor=\"middle\" x=\"2661\" y=\"-495.8\" font-family=\"Times,serif\" font-size=\"14.00\">False</text>\n</g>\n<!-- rllrrrrln -->\n<g id=\"node82\" class=\"node\">\n<title>rllrrrrln</title>\n<polygon fill=\"#ea0800\" fill-opacity=\"0.501961\" stroke=\"black\" points=\"2600.5,-368.5 2436.5,-368.5 2436.5,-315.5 2600.5,-315.5 2600.5,-368.5\"/>\n<text text-anchor=\"middle\" x=\"2518.5\" y=\"-353.3\" font-family=\"Times,serif\" font-size=\"14.00\">bottom&#45;right&#45;square: o</text>\n<text text-anchor=\"middle\" x=\"2518.5\" y=\"-338.3\" font-family=\"Times,serif\" font-size=\"14.00\">n=7</text>\n<text text-anchor=\"middle\" x=\"2518.5\" y=\"-323.3\" font-family=\"Times,serif\" font-size=\"14.00\">{&#39;negative&#39;: 4, &#39;positive&#39;: 3}</text>\n</g>\n<!-- rllrrrrn&#45;&gt;rllrrrrln -->\n<g id=\"edge78\" class=\"edge\">\n<title>rllrrrrn&#45;&gt;rllrrrrln</title>\n<path fill=\"none\" stroke=\"black\" d=\"M2616.78,-420.27C2599.43,-406.63 2577.95,-389.74 2559.49,-375.23\"/>\n<polygon fill=\"black\" stroke=\"black\" points=\"2561.28,-372.18 2551.26,-368.75 2556.95,-377.69 2561.28,-372.18\"/>\n<text text-anchor=\"middle\" x=\"2605.5\" y=\"-390.8\" font-family=\"Times,serif\" font-size=\"14.00\">True</text>\n</g>\n<!-- rllrrrrrn -->\n<g id=\"node87\" class=\"node\">\n<title>rllrrrrrn</title>\n<polygon fill=\"#ea0800\" fill-opacity=\"0.501961\" stroke=\"black\" points=\"2782.5,-368.5 2618.5,-368.5 2618.5,-315.5 2782.5,-315.5 2782.5,-368.5\"/>\n<text text-anchor=\"middle\" x=\"2700.5\" y=\"-353.3\" font-family=\"Times,serif\" font-size=\"14.00\">top&#45;middle&#45;square: o</text>\n<text text-anchor=\"middle\" x=\"2700.5\" y=\"-338.3\" font-family=\"Times,serif\" font-size=\"14.00\">n=12</text>\n<text text-anchor=\"middle\" x=\"2700.5\" y=\"-323.3\" font-family=\"Times,serif\" font-size=\"14.00\">{&#39;positive&#39;: 8, &#39;negative&#39;: 4}</text>\n</g>\n<!-- rllrrrrn&#45;&gt;rllrrrrrn -->\n<g id=\"edge85\" class=\"edge\">\n<title>rllrrrrn&#45;&gt;rllrrrrrn</title>\n<path fill=\"none\" stroke=\"black\" d=\"M2662.24,-420.27C2668.57,-407.49 2676.31,-391.86 2683.17,-378\"/>\n<polygon fill=\"black\" stroke=\"black\" points=\"2686.45,-379.27 2687.75,-368.75 2680.17,-376.16 2686.45,-379.27\"/>\n<text text-anchor=\"middle\" x=\"2693\" y=\"-390.8\" font-family=\"Times,serif\" font-size=\"14.00\">False</text>\n</g>\n<!-- rllrrrrlln -->\n<g id=\"node83\" class=\"node\">\n<title>rllrrrrlln</title>\n<polygon fill=\"#ea0800\" fill-opacity=\"0.501961\" stroke=\"black\" points=\"2418,-264 2323,-264 2323,-210 2418,-210 2418,-264\"/>\n<text text-anchor=\"middle\" x=\"2370.5\" y=\"-232.8\" font-family=\"Times,serif\" font-size=\"14.00\">n=3</text>\n<text text-anchor=\"middle\" x=\"2370.5\" y=\"-217.8\" font-family=\"Times,serif\" font-size=\"14.00\">{&#39;negative&#39;: 3}</text>\n</g>\n<!-- rllrrrrln&#45;&gt;rllrrrrlln -->\n<g id=\"edge74\" class=\"edge\">\n<title>rllrrrrln&#45;&gt;rllrrrrlln</title>\n<path fill=\"none\" stroke=\"black\" d=\"M2481.54,-315.27C2461.82,-301.55 2437.38,-284.54 2416.45,-269.98\"/>\n<polygon fill=\"black\" stroke=\"black\" points=\"2418.23,-266.95 2408.02,-264.11 2414.23,-272.7 2418.23,-266.95\"/>\n<text text-anchor=\"middle\" x=\"2466.5\" y=\"-285.8\" font-family=\"Times,serif\" font-size=\"14.00\">True</text>\n</g>\n<!-- rllrrrrlrn -->\n<g id=\"node84\" class=\"node\">\n<title>rllrrrrlrn</title>\n<polygon fill=\"#ea0800\" fill-opacity=\"0.501961\" stroke=\"black\" points=\"2600.5,-263.5 2436.5,-263.5 2436.5,-210.5 2600.5,-210.5 2600.5,-263.5\"/>\n<text text-anchor=\"middle\" x=\"2518.5\" y=\"-248.3\" font-family=\"Times,serif\" font-size=\"14.00\">middle&#45;right&#45;square: o</text>\n<text text-anchor=\"middle\" x=\"2518.5\" y=\"-233.3\" font-family=\"Times,serif\" font-size=\"14.00\">n=4</text>\n<text text-anchor=\"middle\" x=\"2518.5\" y=\"-218.3\" font-family=\"Times,serif\" font-size=\"14.00\">{&#39;positive&#39;: 3, &#39;negative&#39;: 1}</text>\n</g>\n<!-- rllrrrrln&#45;&gt;rllrrrrlrn -->\n<g id=\"edge77\" class=\"edge\">\n<title>rllrrrrln&#45;&gt;rllrrrrlrn</title>\n<path fill=\"none\" stroke=\"black\" d=\"M2518.5,-315.27C2518.5,-302.74 2518.5,-287.46 2518.5,-273.81\"/>\n<polygon fill=\"black\" stroke=\"black\" points=\"2522,-273.75 2518.5,-263.75 2515,-273.75 2522,-273.75\"/>\n<text text-anchor=\"middle\" x=\"2533\" y=\"-285.8\" font-family=\"Times,serif\" font-size=\"14.00\">False</text>\n</g>\n<!-- rllrrrrlrln -->\n<g id=\"node85\" class=\"node\">\n<title>rllrrrrlrln</title>\n<polygon fill=\"#ea0800\" fill-opacity=\"0.501961\" stroke=\"black\" points=\"2489,-159 2394,-159 2394,-105 2489,-105 2489,-159\"/>\n<text text-anchor=\"middle\" x=\"2441.5\" y=\"-127.8\" font-family=\"Times,serif\" font-size=\"14.00\">n=1</text>\n<text text-anchor=\"middle\" x=\"2441.5\" y=\"-112.8\" font-family=\"Times,serif\" font-size=\"14.00\">{&#39;negative&#39;: 1}</text>\n</g>\n<!-- rllrrrrlrn&#45;&gt;rllrrrrlrln -->\n<g id=\"edge75\" class=\"edge\">\n<title>rllrrrrlrn&#45;&gt;rllrrrrlrln</title>\n<path fill=\"none\" stroke=\"black\" d=\"M2499.27,-210.27C2489.51,-197.22 2477.53,-181.2 2467.02,-167.13\"/>\n<polygon fill=\"black\" stroke=\"black\" points=\"2469.81,-165.03 2461.02,-159.11 2464.21,-169.22 2469.81,-165.03\"/>\n<text text-anchor=\"middle\" x=\"2498.5\" y=\"-180.8\" font-family=\"Times,serif\" font-size=\"14.00\">True</text>\n</g>\n<!-- rllrrrrlrrn -->\n<g id=\"node86\" class=\"node\">\n<title>rllrrrrlrrn</title>\n<polygon fill=\"#ea0800\" fill-opacity=\"0.501961\" stroke=\"black\" points=\"2599.5,-159 2507.5,-159 2507.5,-105 2599.5,-105 2599.5,-159\"/>\n<text text-anchor=\"middle\" x=\"2553.5\" y=\"-127.8\" font-family=\"Times,serif\" font-size=\"14.00\">n=3</text>\n<text text-anchor=\"middle\" x=\"2553.5\" y=\"-112.8\" font-family=\"Times,serif\" font-size=\"14.00\">{&#39;positive&#39;: 3}</text>\n</g>\n<!-- rllrrrrlrn&#45;&gt;rllrrrrlrrn -->\n<g id=\"edge76\" class=\"edge\">\n<title>rllrrrrlrn&#45;&gt;rllrrrrlrrn</title>\n<path fill=\"none\" stroke=\"black\" d=\"M2527.24,-210.27C2531.51,-197.71 2536.72,-182.39 2541.36,-168.72\"/>\n<polygon fill=\"black\" stroke=\"black\" points=\"2544.72,-169.71 2544.63,-159.11 2538.1,-167.46 2544.72,-169.71\"/>\n<text text-anchor=\"middle\" x=\"2553\" y=\"-180.8\" font-family=\"Times,serif\" font-size=\"14.00\">False</text>\n</g>\n<!-- rllrrrrrln -->\n<g id=\"node88\" class=\"node\">\n<title>rllrrrrrln</title>\n<polygon fill=\"#ea0800\" fill-opacity=\"0.501961\" stroke=\"black\" points=\"2782.5,-263.5 2618.5,-263.5 2618.5,-210.5 2782.5,-210.5 2782.5,-263.5\"/>\n<text text-anchor=\"middle\" x=\"2700.5\" y=\"-248.3\" font-family=\"Times,serif\" font-size=\"14.00\">top&#45;right&#45;square: o</text>\n<text text-anchor=\"middle\" x=\"2700.5\" y=\"-233.3\" font-family=\"Times,serif\" font-size=\"14.00\">n=7</text>\n<text text-anchor=\"middle\" x=\"2700.5\" y=\"-218.3\" font-family=\"Times,serif\" font-size=\"14.00\">{&#39;positive&#39;: 3, &#39;negative&#39;: 4}</text>\n</g>\n<!-- rllrrrrrn&#45;&gt;rllrrrrrln -->\n<g id=\"edge83\" class=\"edge\">\n<title>rllrrrrrn&#45;&gt;rllrrrrrln</title>\n<path fill=\"none\" stroke=\"black\" d=\"M2700.5,-315.27C2700.5,-302.74 2700.5,-287.46 2700.5,-273.81\"/>\n<polygon fill=\"black\" stroke=\"black\" points=\"2704,-273.75 2700.5,-263.75 2697,-273.75 2704,-273.75\"/>\n<text text-anchor=\"middle\" x=\"2713.5\" y=\"-285.8\" font-family=\"Times,serif\" font-size=\"14.00\">True</text>\n</g>\n<!-- rllrrrrrrn -->\n<g id=\"node93\" class=\"node\">\n<title>rllrrrrrrn</title>\n<polygon fill=\"#ea0800\" fill-opacity=\"0.501961\" stroke=\"black\" points=\"2892.5,-264 2800.5,-264 2800.5,-210 2892.5,-210 2892.5,-264\"/>\n<text text-anchor=\"middle\" x=\"2846.5\" y=\"-232.8\" font-family=\"Times,serif\" font-size=\"14.00\">n=5</text>\n<text text-anchor=\"middle\" x=\"2846.5\" y=\"-217.8\" font-family=\"Times,serif\" font-size=\"14.00\">{&#39;positive&#39;: 5}</text>\n</g>\n<!-- rllrrrrrn&#45;&gt;rllrrrrrrn -->\n<g id=\"edge84\" class=\"edge\">\n<title>rllrrrrrn&#45;&gt;rllrrrrrrn</title>\n<path fill=\"none\" stroke=\"black\" d=\"M2736.97,-315.27C2756.41,-301.55 2780.53,-284.54 2801.17,-269.98\"/>\n<polygon fill=\"black\" stroke=\"black\" points=\"2803.33,-272.74 2809.49,-264.11 2799.3,-267.02 2803.33,-272.74\"/>\n<text text-anchor=\"middle\" x=\"2797\" y=\"-285.8\" font-family=\"Times,serif\" font-size=\"14.00\">False</text>\n</g>\n<!-- rllrrrrrlln -->\n<g id=\"node89\" class=\"node\">\n<title>rllrrrrrlln</title>\n<polygon fill=\"#ea0800\" fill-opacity=\"0.501961\" stroke=\"black\" points=\"2718,-159 2623,-159 2623,-105 2718,-105 2718,-159\"/>\n<text text-anchor=\"middle\" x=\"2670.5\" y=\"-127.8\" font-family=\"Times,serif\" font-size=\"14.00\">n=3</text>\n<text text-anchor=\"middle\" x=\"2670.5\" y=\"-112.8\" font-family=\"Times,serif\" font-size=\"14.00\">{&#39;negative&#39;: 3}</text>\n</g>\n<!-- rllrrrrrln&#45;&gt;rllrrrrrlln -->\n<g id=\"edge79\" class=\"edge\">\n<title>rllrrrrrln&#45;&gt;rllrrrrrlln</title>\n<path fill=\"none\" stroke=\"black\" d=\"M2688.27,-210.3C2685.77,-204.38 2683.34,-198.05 2681.5,-192 2679.29,-184.74 2677.44,-176.83 2675.93,-169.23\"/>\n<polygon fill=\"black\" stroke=\"black\" points=\"2679.33,-168.35 2674.09,-159.15 2672.45,-169.62 2679.33,-168.35\"/>\n<text text-anchor=\"middle\" x=\"2694.5\" y=\"-180.8\" font-family=\"Times,serif\" font-size=\"14.00\">True</text>\n</g>\n<!-- rllrrrrrlrn -->\n<g id=\"node90\" class=\"node\">\n<title>rllrrrrrlrn</title>\n<polygon fill=\"#ea0800\" fill-opacity=\"0.501961\" stroke=\"black\" points=\"2900.5,-158.5 2736.5,-158.5 2736.5,-105.5 2900.5,-105.5 2900.5,-158.5\"/>\n<text text-anchor=\"middle\" x=\"2818.5\" y=\"-143.3\" font-family=\"Times,serif\" font-size=\"14.00\">middle&#45;right&#45;square: o</text>\n<text text-anchor=\"middle\" x=\"2818.5\" y=\"-128.3\" font-family=\"Times,serif\" font-size=\"14.00\">n=4</text>\n<text text-anchor=\"middle\" x=\"2818.5\" y=\"-113.3\" font-family=\"Times,serif\" font-size=\"14.00\">{&#39;positive&#39;: 3, &#39;negative&#39;: 1}</text>\n</g>\n<!-- rllrrrrrln&#45;&gt;rllrrrrrlrn -->\n<g id=\"edge82\" class=\"edge\">\n<title>rllrrrrrln&#45;&gt;rllrrrrrlrn</title>\n<path fill=\"none\" stroke=\"black\" d=\"M2729.97,-210.27C2745.46,-196.76 2764.6,-180.05 2781.12,-165.63\"/>\n<polygon fill=\"black\" stroke=\"black\" points=\"2783.76,-167.97 2788.99,-158.75 2779.16,-162.69 2783.76,-167.97\"/>\n<text text-anchor=\"middle\" x=\"2782\" y=\"-180.8\" font-family=\"Times,serif\" font-size=\"14.00\">False</text>\n</g>\n<!-- rllrrrrrlrln -->\n<g id=\"node91\" class=\"node\">\n<title>rllrrrrrlrln</title>\n<polygon fill=\"#ea0800\" fill-opacity=\"0.501961\" stroke=\"black\" points=\"2810,-54 2715,-54 2715,0 2810,0 2810,-54\"/>\n<text text-anchor=\"middle\" x=\"2762.5\" y=\"-22.8\" font-family=\"Times,serif\" font-size=\"14.00\">n=1</text>\n<text text-anchor=\"middle\" x=\"2762.5\" y=\"-7.8\" font-family=\"Times,serif\" font-size=\"14.00\">{&#39;negative&#39;: 1}</text>\n</g>\n<!-- rllrrrrrlrn&#45;&gt;rllrrrrrlrln -->\n<g id=\"edge80\" class=\"edge\">\n<title>rllrrrrrlrn&#45;&gt;rllrrrrrlrln</title>\n<path fill=\"none\" stroke=\"black\" d=\"M2804.51,-105.27C2797.55,-92.47 2789.03,-76.8 2781.49,-62.92\"/>\n<polygon fill=\"black\" stroke=\"black\" points=\"2784.55,-61.23 2776.7,-54.11 2778.4,-64.57 2784.55,-61.23\"/>\n<text text-anchor=\"middle\" x=\"2807.5\" y=\"-75.8\" font-family=\"Times,serif\" font-size=\"14.00\">True</text>\n</g>\n<!-- rllrrrrrlrrn -->\n<g id=\"node92\" class=\"node\">\n<title>rllrrrrrlrrn</title>\n<polygon fill=\"#ea0800\" fill-opacity=\"0.501961\" stroke=\"black\" points=\"2920.5,-54 2828.5,-54 2828.5,0 2920.5,0 2920.5,-54\"/>\n<text text-anchor=\"middle\" x=\"2874.5\" y=\"-22.8\" font-family=\"Times,serif\" font-size=\"14.00\">n=3</text>\n<text text-anchor=\"middle\" x=\"2874.5\" y=\"-7.8\" font-family=\"Times,serif\" font-size=\"14.00\">{&#39;positive&#39;: 3}</text>\n</g>\n<!-- rllrrrrrlrn&#45;&gt;rllrrrrrlrrn -->\n<g id=\"edge81\" class=\"edge\">\n<title>rllrrrrrlrn&#45;&gt;rllrrrrrlrrn</title>\n<path fill=\"none\" stroke=\"black\" d=\"M2832.49,-105.27C2839.45,-92.47 2847.97,-76.8 2855.51,-62.92\"/>\n<polygon fill=\"black\" stroke=\"black\" points=\"2858.6,-64.57 2860.3,-54.11 2852.45,-61.23 2858.6,-64.57\"/>\n<text text-anchor=\"middle\" x=\"2865\" y=\"-75.8\" font-family=\"Times,serif\" font-size=\"14.00\">False</text>\n</g>\n<!-- rlrln -->\n<g id=\"node95\" class=\"node\">\n<title>rlrln</title>\n<polygon fill=\"#ea0800\" fill-opacity=\"0.501961\" stroke=\"black\" points=\"2905,-788.5 2728,-788.5 2728,-735.5 2905,-735.5 2905,-788.5\"/>\n<text text-anchor=\"middle\" x=\"2816.5\" y=\"-773.3\" font-family=\"Times,serif\" font-size=\"14.00\">bottom&#45;middle&#45;square: o</text>\n<text text-anchor=\"middle\" x=\"2816.5\" y=\"-758.3\" font-family=\"Times,serif\" font-size=\"14.00\">n=54</text>\n<text text-anchor=\"middle\" x=\"2816.5\" y=\"-743.3\" font-family=\"Times,serif\" font-size=\"14.00\">{&#39;positive&#39;: 23, &#39;negative&#39;: 31}</text>\n</g>\n<!-- rlrn&#45;&gt;rlrln -->\n<g id=\"edge103\" class=\"edge\">\n<title>rlrn&#45;&gt;rlrln</title>\n<path fill=\"none\" stroke=\"black\" d=\"M2818.75,-840.27C2818.39,-827.74 2817.94,-812.46 2817.54,-798.81\"/>\n<polygon fill=\"black\" stroke=\"black\" points=\"2821.04,-798.65 2817.25,-788.75 2814.04,-798.85 2821.04,-798.65\"/>\n<text text-anchor=\"middle\" x=\"2831.5\" y=\"-810.8\" font-family=\"Times,serif\" font-size=\"14.00\">True</text>\n</g>\n<!-- rlrrn -->\n<g id=\"node108\" class=\"node\">\n<title>rlrrn</title>\n<polygon fill=\"#ea0800\" fill-opacity=\"0.501961\" stroke=\"black\" points=\"3020.5,-789 2922.5,-789 2922.5,-735 3020.5,-735 3020.5,-789\"/>\n<text text-anchor=\"middle\" x=\"2971.5\" y=\"-757.8\" font-family=\"Times,serif\" font-size=\"14.00\">n=82</text>\n<text text-anchor=\"middle\" x=\"2971.5\" y=\"-742.8\" font-family=\"Times,serif\" font-size=\"14.00\">{&#39;positive&#39;: 82}</text>\n</g>\n<!-- rlrn&#45;&gt;rlrrn -->\n<g id=\"edge104\" class=\"edge\">\n<title>rlrn&#45;&gt;rlrrn</title>\n<path fill=\"none\" stroke=\"black\" d=\"M2857.46,-840.27C2877.8,-826.49 2903.04,-809.39 2924.59,-794.78\"/>\n<polygon fill=\"black\" stroke=\"black\" points=\"2926.65,-797.62 2932.96,-789.11 2922.72,-791.83 2926.65,-797.62\"/>\n<text text-anchor=\"middle\" x=\"2920\" y=\"-810.8\" font-family=\"Times,serif\" font-size=\"14.00\">False</text>\n</g>\n<!-- rlrlln -->\n<g id=\"node96\" class=\"node\">\n<title>rlrlln</title>\n<polygon fill=\"#ea0800\" fill-opacity=\"0.501961\" stroke=\"black\" points=\"2846,-684 2745,-684 2745,-630 2846,-630 2846,-684\"/>\n<text text-anchor=\"middle\" x=\"2795.5\" y=\"-652.8\" font-family=\"Times,serif\" font-size=\"14.00\">n=26</text>\n<text text-anchor=\"middle\" x=\"2795.5\" y=\"-637.8\" font-family=\"Times,serif\" font-size=\"14.00\">{&#39;negative&#39;: 26}</text>\n</g>\n<!-- rlrln&#45;&gt;rlrlln -->\n<g id=\"edge91\" class=\"edge\">\n<title>rlrln&#45;&gt;rlrlln</title>\n<path fill=\"none\" stroke=\"black\" d=\"M2811.25,-735.27C2808.72,-722.83 2805.63,-707.69 2802.86,-694.12\"/>\n<polygon fill=\"black\" stroke=\"black\" points=\"2806.25,-693.21 2800.82,-684.11 2799.39,-694.61 2806.25,-693.21\"/>\n<text text-anchor=\"middle\" x=\"2820.5\" y=\"-705.8\" font-family=\"Times,serif\" font-size=\"14.00\">True</text>\n</g>\n<!-- rlrlrn -->\n<g id=\"node97\" class=\"node\">\n<title>rlrlrn</title>\n<polygon fill=\"#ea0800\" fill-opacity=\"0.501961\" stroke=\"black\" points=\"3034.5,-683.5 2864.5,-683.5 2864.5,-630.5 3034.5,-630.5 3034.5,-683.5\"/>\n<text text-anchor=\"middle\" x=\"2949.5\" y=\"-668.3\" font-family=\"Times,serif\" font-size=\"14.00\">middle&#45;right&#45;square: o</text>\n<text text-anchor=\"middle\" x=\"2949.5\" y=\"-653.3\" font-family=\"Times,serif\" font-size=\"14.00\">n=28</text>\n<text text-anchor=\"middle\" x=\"2949.5\" y=\"-638.3\" font-family=\"Times,serif\" font-size=\"14.00\">{&#39;positive&#39;: 23, &#39;negative&#39;: 5}</text>\n</g>\n<!-- rlrln&#45;&gt;rlrlrn -->\n<g id=\"edge102\" class=\"edge\">\n<title>rlrln&#45;&gt;rlrlrn</title>\n<path fill=\"none\" stroke=\"black\" d=\"M2849.72,-735.27C2867.41,-721.57 2889.34,-704.59 2908.13,-690.04\"/>\n<polygon fill=\"black\" stroke=\"black\" points=\"2910.48,-692.64 2916.24,-683.75 2906.19,-687.11 2910.48,-692.64\"/>\n<text text-anchor=\"middle\" x=\"2906\" y=\"-705.8\" font-family=\"Times,serif\" font-size=\"14.00\">False</text>\n</g>\n<!-- rlrlrln -->\n<g id=\"node98\" class=\"node\">\n<title>rlrlrln</title>\n<polygon fill=\"#ea0800\" fill-opacity=\"0.501961\" stroke=\"black\" points=\"3028.5,-578.5 2864.5,-578.5 2864.5,-525.5 3028.5,-525.5 3028.5,-578.5\"/>\n<text text-anchor=\"middle\" x=\"2946.5\" y=\"-563.3\" font-family=\"Times,serif\" font-size=\"14.00\">top&#45;right&#45;square: o</text>\n<text text-anchor=\"middle\" x=\"2946.5\" y=\"-548.3\" font-family=\"Times,serif\" font-size=\"14.00\">n=10</text>\n<text text-anchor=\"middle\" x=\"2946.5\" y=\"-533.3\" font-family=\"Times,serif\" font-size=\"14.00\">{&#39;positive&#39;: 6, &#39;negative&#39;: 4}</text>\n</g>\n<!-- rlrlrn&#45;&gt;rlrlrln -->\n<g id=\"edge96\" class=\"edge\">\n<title>rlrlrn&#45;&gt;rlrlrln</title>\n<path fill=\"none\" stroke=\"black\" d=\"M2948.75,-630.27C2948.39,-617.74 2947.94,-602.46 2947.54,-588.81\"/>\n<polygon fill=\"black\" stroke=\"black\" points=\"2951.04,-588.65 2947.25,-578.75 2944.04,-588.85 2951.04,-588.65\"/>\n<text text-anchor=\"middle\" x=\"2961.5\" y=\"-600.8\" font-family=\"Times,serif\" font-size=\"14.00\">True</text>\n</g>\n<!-- rlrlrrn -->\n<g id=\"node103\" class=\"node\">\n<title>rlrlrrn</title>\n<polygon fill=\"#ea0800\" fill-opacity=\"0.501961\" stroke=\"black\" points=\"3216.5,-578.5 3046.5,-578.5 3046.5,-525.5 3216.5,-525.5 3216.5,-578.5\"/>\n<text text-anchor=\"middle\" x=\"3131.5\" y=\"-563.3\" font-family=\"Times,serif\" font-size=\"14.00\">top&#45;middle&#45;square: o</text>\n<text text-anchor=\"middle\" x=\"3131.5\" y=\"-548.3\" font-family=\"Times,serif\" font-size=\"14.00\">n=18</text>\n<text text-anchor=\"middle\" x=\"3131.5\" y=\"-533.3\" font-family=\"Times,serif\" font-size=\"14.00\">{&#39;positive&#39;: 17, &#39;negative&#39;: 1}</text>\n</g>\n<!-- rlrlrn&#45;&gt;rlrlrrn -->\n<g id=\"edge101\" class=\"edge\">\n<title>rlrlrn&#45;&gt;rlrlrrn</title>\n<path fill=\"none\" stroke=\"black\" d=\"M2994.96,-630.27C3020.02,-616.09 3051.3,-598.39 3077.6,-583.51\"/>\n<polygon fill=\"black\" stroke=\"black\" points=\"3079.33,-586.55 3086.31,-578.58 3075.88,-580.46 3079.33,-586.55\"/>\n<text text-anchor=\"middle\" x=\"3066\" y=\"-600.8\" font-family=\"Times,serif\" font-size=\"14.00\">False</text>\n</g>\n<!-- rlrlrlln -->\n<g id=\"node99\" class=\"node\">\n<title>rlrlrlln</title>\n<polygon fill=\"#ea0800\" fill-opacity=\"0.501961\" stroke=\"black\" points=\"2848,-474 2753,-474 2753,-420 2848,-420 2848,-474\"/>\n<text text-anchor=\"middle\" x=\"2800.5\" y=\"-442.8\" font-family=\"Times,serif\" font-size=\"14.00\">n=3</text>\n<text text-anchor=\"middle\" x=\"2800.5\" y=\"-427.8\" font-family=\"Times,serif\" font-size=\"14.00\">{&#39;negative&#39;: 3}</text>\n</g>\n<!-- rlrlrln&#45;&gt;rlrlrlln -->\n<g id=\"edge92\" class=\"edge\">\n<title>rlrlrln&#45;&gt;rlrlrlln</title>\n<path fill=\"none\" stroke=\"black\" d=\"M2910.03,-525.27C2890.59,-511.55 2866.47,-494.54 2845.83,-479.98\"/>\n<polygon fill=\"black\" stroke=\"black\" points=\"2847.7,-477.02 2837.51,-474.11 2843.67,-482.74 2847.7,-477.02\"/>\n<text text-anchor=\"middle\" x=\"2895.5\" y=\"-495.8\" font-family=\"Times,serif\" font-size=\"14.00\">True</text>\n</g>\n<!-- rlrlrlrn -->\n<g id=\"node100\" class=\"node\">\n<title>rlrlrlrn</title>\n<polygon fill=\"#ea0800\" fill-opacity=\"0.501961\" stroke=\"black\" points=\"3030.5,-473.5 2866.5,-473.5 2866.5,-420.5 3030.5,-420.5 3030.5,-473.5\"/>\n<text text-anchor=\"middle\" x=\"2948.5\" y=\"-458.3\" font-family=\"Times,serif\" font-size=\"14.00\">top&#45;middle&#45;square: o</text>\n<text text-anchor=\"middle\" x=\"2948.5\" y=\"-443.3\" font-family=\"Times,serif\" font-size=\"14.00\">n=7</text>\n<text text-anchor=\"middle\" x=\"2948.5\" y=\"-428.3\" font-family=\"Times,serif\" font-size=\"14.00\">{&#39;positive&#39;: 6, &#39;negative&#39;: 1}</text>\n</g>\n<!-- rlrlrln&#45;&gt;rlrlrlrn -->\n<g id=\"edge95\" class=\"edge\">\n<title>rlrlrln&#45;&gt;rlrlrlrn</title>\n<path fill=\"none\" stroke=\"black\" d=\"M2947,-525.27C2947.24,-512.74 2947.54,-497.46 2947.8,-483.81\"/>\n<polygon fill=\"black\" stroke=\"black\" points=\"2951.31,-483.82 2948,-473.75 2944.31,-483.68 2951.31,-483.82\"/>\n<text text-anchor=\"middle\" x=\"2963\" y=\"-495.8\" font-family=\"Times,serif\" font-size=\"14.00\">False</text>\n</g>\n<!-- rlrlrlrln -->\n<g id=\"node101\" class=\"node\">\n<title>rlrlrlrln</title>\n<polygon fill=\"#ea0800\" fill-opacity=\"0.501961\" stroke=\"black\" points=\"2901,-369 2806,-369 2806,-315 2901,-315 2901,-369\"/>\n<text text-anchor=\"middle\" x=\"2853.5\" y=\"-337.8\" font-family=\"Times,serif\" font-size=\"14.00\">n=1</text>\n<text text-anchor=\"middle\" x=\"2853.5\" y=\"-322.8\" font-family=\"Times,serif\" font-size=\"14.00\">{&#39;negative&#39;: 1}</text>\n</g>\n<!-- rlrlrlrn&#45;&gt;rlrlrlrln -->\n<g id=\"edge93\" class=\"edge\">\n<title>rlrlrlrn&#45;&gt;rlrlrlrln</title>\n<path fill=\"none\" stroke=\"black\" d=\"M2924.77,-420.27C2912.62,-407.1 2897.68,-390.9 2884.62,-376.74\"/>\n<polygon fill=\"black\" stroke=\"black\" points=\"2886.94,-374.09 2877.58,-369.11 2881.79,-378.84 2886.94,-374.09\"/>\n<text text-anchor=\"middle\" x=\"2920.5\" y=\"-390.8\" font-family=\"Times,serif\" font-size=\"14.00\">True</text>\n</g>\n<!-- rlrlrlrrn -->\n<g id=\"node102\" class=\"node\">\n<title>rlrlrlrrn</title>\n<polygon fill=\"#ea0800\" fill-opacity=\"0.501961\" stroke=\"black\" points=\"3011.5,-369 2919.5,-369 2919.5,-315 3011.5,-315 3011.5,-369\"/>\n<text text-anchor=\"middle\" x=\"2965.5\" y=\"-337.8\" font-family=\"Times,serif\" font-size=\"14.00\">n=6</text>\n<text text-anchor=\"middle\" x=\"2965.5\" y=\"-322.8\" font-family=\"Times,serif\" font-size=\"14.00\">{&#39;positive&#39;: 6}</text>\n</g>\n<!-- rlrlrlrn&#45;&gt;rlrlrlrrn -->\n<g id=\"edge94\" class=\"edge\">\n<title>rlrlrlrn&#45;&gt;rlrlrlrrn</title>\n<path fill=\"none\" stroke=\"black\" d=\"M2952.75,-420.27C2954.8,-407.83 2957.3,-392.69 2959.54,-379.12\"/>\n<polygon fill=\"black\" stroke=\"black\" points=\"2963.01,-379.55 2961.19,-369.11 2956.11,-378.41 2963.01,-379.55\"/>\n<text text-anchor=\"middle\" x=\"2973\" y=\"-390.8\" font-family=\"Times,serif\" font-size=\"14.00\">False</text>\n</g>\n<!-- rlrlrrln -->\n<g id=\"node104\" class=\"node\">\n<title>rlrlrrln</title>\n<polygon fill=\"#ea0800\" fill-opacity=\"0.501961\" stroke=\"black\" points=\"3212.5,-473.5 3048.5,-473.5 3048.5,-420.5 3212.5,-420.5 3212.5,-473.5\"/>\n<text text-anchor=\"middle\" x=\"3130.5\" y=\"-458.3\" font-family=\"Times,serif\" font-size=\"14.00\">middle&#45;left&#45;square: o</text>\n<text text-anchor=\"middle\" x=\"3130.5\" y=\"-443.3\" font-family=\"Times,serif\" font-size=\"14.00\">n=5</text>\n<text text-anchor=\"middle\" x=\"3130.5\" y=\"-428.3\" font-family=\"Times,serif\" font-size=\"14.00\">{&#39;positive&#39;: 4, &#39;negative&#39;: 1}</text>\n</g>\n<!-- rlrlrrn&#45;&gt;rlrlrrln -->\n<g id=\"edge99\" class=\"edge\">\n<title>rlrlrrn&#45;&gt;rlrlrrln</title>\n<path fill=\"none\" stroke=\"black\" d=\"M3131.25,-525.27C3131.13,-512.74 3130.98,-497.46 3130.85,-483.81\"/>\n<polygon fill=\"black\" stroke=\"black\" points=\"3134.35,-483.72 3130.75,-473.75 3127.35,-483.79 3134.35,-483.72\"/>\n<text text-anchor=\"middle\" x=\"3144.5\" y=\"-495.8\" font-family=\"Times,serif\" font-size=\"14.00\">True</text>\n</g>\n<!-- rlrlrrrn -->\n<g id=\"node107\" class=\"node\">\n<title>rlrlrrrn</title>\n<polygon fill=\"#ea0800\" fill-opacity=\"0.501961\" stroke=\"black\" points=\"3328.5,-474 3230.5,-474 3230.5,-420 3328.5,-420 3328.5,-474\"/>\n<text text-anchor=\"middle\" x=\"3279.5\" y=\"-442.8\" font-family=\"Times,serif\" font-size=\"14.00\">n=13</text>\n<text text-anchor=\"middle\" x=\"3279.5\" y=\"-427.8\" font-family=\"Times,serif\" font-size=\"14.00\">{&#39;positive&#39;: 13}</text>\n</g>\n<!-- rlrlrrn&#45;&gt;rlrlrrrn -->\n<g id=\"edge100\" class=\"edge\">\n<title>rlrlrrn&#45;&gt;rlrlrrrn</title>\n<path fill=\"none\" stroke=\"black\" d=\"M3168.46,-525.27C3188.18,-511.55 3212.62,-494.54 3233.55,-479.98\"/>\n<polygon fill=\"black\" stroke=\"black\" points=\"3235.77,-482.7 3241.98,-474.11 3231.77,-476.95 3235.77,-482.7\"/>\n<text text-anchor=\"middle\" x=\"3229\" y=\"-495.8\" font-family=\"Times,serif\" font-size=\"14.00\">False</text>\n</g>\n<!-- rlrlrrlln -->\n<g id=\"node105\" class=\"node\">\n<title>rlrlrrlln</title>\n<polygon fill=\"#ea0800\" fill-opacity=\"0.501961\" stroke=\"black\" points=\"3160,-369 3065,-369 3065,-315 3160,-315 3160,-369\"/>\n<text text-anchor=\"middle\" x=\"3112.5\" y=\"-337.8\" font-family=\"Times,serif\" font-size=\"14.00\">n=1</text>\n<text text-anchor=\"middle\" x=\"3112.5\" y=\"-322.8\" font-family=\"Times,serif\" font-size=\"14.00\">{&#39;negative&#39;: 1}</text>\n</g>\n<!-- rlrlrrln&#45;&gt;rlrlrrlln -->\n<g id=\"edge97\" class=\"edge\">\n<title>rlrlrrln&#45;&gt;rlrlrrlln</title>\n<path fill=\"none\" stroke=\"black\" d=\"M3126,-420.27C3123.83,-407.83 3121.18,-392.69 3118.81,-379.12\"/>\n<polygon fill=\"black\" stroke=\"black\" points=\"3122.23,-378.36 3117.06,-369.11 3115.34,-379.57 3122.23,-378.36\"/>\n<text text-anchor=\"middle\" x=\"3136.5\" y=\"-390.8\" font-family=\"Times,serif\" font-size=\"14.00\">True</text>\n</g>\n<!-- rlrlrrlrn -->\n<g id=\"node106\" class=\"node\">\n<title>rlrlrrlrn</title>\n<polygon fill=\"#ea0800\" fill-opacity=\"0.501961\" stroke=\"black\" points=\"3270.5,-369 3178.5,-369 3178.5,-315 3270.5,-315 3270.5,-369\"/>\n<text text-anchor=\"middle\" x=\"3224.5\" y=\"-337.8\" font-family=\"Times,serif\" font-size=\"14.00\">n=4</text>\n<text text-anchor=\"middle\" x=\"3224.5\" y=\"-322.8\" font-family=\"Times,serif\" font-size=\"14.00\">{&#39;positive&#39;: 4}</text>\n</g>\n<!-- rlrlrrln&#45;&gt;rlrlrrlrn -->\n<g id=\"edge98\" class=\"edge\">\n<title>rlrlrrln&#45;&gt;rlrlrrlrn</title>\n<path fill=\"none\" stroke=\"black\" d=\"M3153.98,-420.27C3166,-407.1 3180.79,-390.9 3193.71,-376.74\"/>\n<polygon fill=\"black\" stroke=\"black\" points=\"3196.51,-378.86 3200.67,-369.11 3191.34,-374.14 3196.51,-378.86\"/>\n<text text-anchor=\"middle\" x=\"3198\" y=\"-390.8\" font-family=\"Times,serif\" font-size=\"14.00\">False</text>\n</g>\n<!-- rrln -->\n<g id=\"node110\" class=\"node\">\n<title>rrln</title>\n<polygon fill=\"#ea0800\" fill-opacity=\"0.501961\" stroke=\"black\" points=\"3638,-893.5 3461,-893.5 3461,-840.5 3638,-840.5 3638,-893.5\"/>\n<text text-anchor=\"middle\" x=\"3549.5\" y=\"-878.3\" font-family=\"Times,serif\" font-size=\"14.00\">top&#45;left&#45;square: o</text>\n<text text-anchor=\"middle\" x=\"3549.5\" y=\"-863.3\" font-family=\"Times,serif\" font-size=\"14.00\">n=145</text>\n<text text-anchor=\"middle\" x=\"3549.5\" y=\"-848.3\" font-family=\"Times,serif\" font-size=\"14.00\">{&#39;negative&#39;: 53, &#39;positive&#39;: 92}</text>\n</g>\n<!-- rrn&#45;&gt;rrln -->\n<g id=\"edge129\" class=\"edge\">\n<title>rrn&#45;&gt;rrln</title>\n<path fill=\"none\" stroke=\"black\" d=\"M3549.5,-944.9C3549.5,-932.42 3549.5,-917.22 3549.5,-903.63\"/>\n<polygon fill=\"black\" stroke=\"black\" points=\"3553,-903.63 3549.5,-893.63 3546,-903.63 3553,-903.63\"/>\n<text text-anchor=\"middle\" x=\"3562.5\" y=\"-915.8\" font-family=\"Times,serif\" font-size=\"14.00\">True</text>\n</g>\n<!-- rrrn -->\n<g id=\"node133\" class=\"node\">\n<title>rrrn</title>\n<polygon fill=\"#ea0800\" fill-opacity=\"0.501961\" stroke=\"black\" points=\"3761,-894 3656,-894 3656,-840 3761,-840 3761,-894\"/>\n<text text-anchor=\"middle\" x=\"3708.5\" y=\"-862.8\" font-family=\"Times,serif\" font-size=\"14.00\">n=204</text>\n<text text-anchor=\"middle\" x=\"3708.5\" y=\"-847.8\" font-family=\"Times,serif\" font-size=\"14.00\">{&#39;positive&#39;: 204}</text>\n</g>\n<!-- rrn&#45;&gt;rrrn -->\n<g id=\"edge130\" class=\"edge\">\n<title>rrn&#45;&gt;rrrn</title>\n<path fill=\"none\" stroke=\"black\" d=\"M3589.21,-944.9C3610.5,-931.18 3636.92,-914.15 3659.47,-899.6\"/>\n<polygon fill=\"black\" stroke=\"black\" points=\"3661.4,-902.53 3667.91,-894.17 3657.61,-896.64 3661.4,-902.53\"/>\n<text text-anchor=\"middle\" x=\"3654\" y=\"-915.8\" font-family=\"Times,serif\" font-size=\"14.00\">False</text>\n</g>\n<!-- rrlln -->\n<g id=\"node111\" class=\"node\">\n<title>rrlln</title>\n<polygon fill=\"#ea0800\" fill-opacity=\"0.501961\" stroke=\"black\" points=\"3638,-788.5 3461,-788.5 3461,-735.5 3638,-735.5 3638,-788.5\"/>\n<text text-anchor=\"middle\" x=\"3549.5\" y=\"-773.3\" font-family=\"Times,serif\" font-size=\"14.00\">top&#45;middle&#45;square: o</text>\n<text text-anchor=\"middle\" x=\"3549.5\" y=\"-758.3\" font-family=\"Times,serif\" font-size=\"14.00\">n=55</text>\n<text text-anchor=\"middle\" x=\"3549.5\" y=\"-743.3\" font-family=\"Times,serif\" font-size=\"14.00\">{&#39;negative&#39;: 32, &#39;positive&#39;: 23}</text>\n</g>\n<!-- rrln&#45;&gt;rrlln -->\n<g id=\"edge119\" class=\"edge\">\n<title>rrln&#45;&gt;rrlln</title>\n<path fill=\"none\" stroke=\"black\" d=\"M3549.5,-840.27C3549.5,-827.74 3549.5,-812.46 3549.5,-798.81\"/>\n<polygon fill=\"black\" stroke=\"black\" points=\"3553,-798.75 3549.5,-788.75 3546,-798.75 3553,-798.75\"/>\n<text text-anchor=\"middle\" x=\"3562.5\" y=\"-810.8\" font-family=\"Times,serif\" font-size=\"14.00\">True</text>\n</g>\n<!-- rrlrn -->\n<g id=\"node124\" class=\"node\">\n<title>rrlrn</title>\n<polygon fill=\"#ea0800\" fill-opacity=\"0.501961\" stroke=\"black\" points=\"3967,-788.5 3790,-788.5 3790,-735.5 3967,-735.5 3967,-788.5\"/>\n<text text-anchor=\"middle\" x=\"3878.5\" y=\"-773.3\" font-family=\"Times,serif\" font-size=\"14.00\">bottom&#45;right&#45;square: o</text>\n<text text-anchor=\"middle\" x=\"3878.5\" y=\"-758.3\" font-family=\"Times,serif\" font-size=\"14.00\">n=90</text>\n<text text-anchor=\"middle\" x=\"3878.5\" y=\"-743.3\" font-family=\"Times,serif\" font-size=\"14.00\">{&#39;positive&#39;: 69, &#39;negative&#39;: 21}</text>\n</g>\n<!-- rrln&#45;&gt;rrlrn -->\n<g id=\"edge128\" class=\"edge\">\n<title>rrln&#45;&gt;rrlrn</title>\n<path fill=\"none\" stroke=\"black\" d=\"M3631.25,-840.41C3678.62,-825.58 3738.36,-806.87 3787.26,-791.56\"/>\n<polygon fill=\"black\" stroke=\"black\" points=\"3788.39,-794.88 3796.89,-788.55 3786.3,-788.2 3788.39,-794.88\"/>\n<text text-anchor=\"middle\" x=\"3749\" y=\"-810.8\" font-family=\"Times,serif\" font-size=\"14.00\">False</text>\n</g>\n<!-- rrllln -->\n<g id=\"node112\" class=\"node\">\n<title>rrllln</title>\n<polygon fill=\"#ea0800\" fill-opacity=\"0.501961\" stroke=\"black\" points=\"3523,-684 3422,-684 3422,-630 3523,-630 3523,-684\"/>\n<text text-anchor=\"middle\" x=\"3472.5\" y=\"-652.8\" font-family=\"Times,serif\" font-size=\"14.00\">n=27</text>\n<text text-anchor=\"middle\" x=\"3472.5\" y=\"-637.8\" font-family=\"Times,serif\" font-size=\"14.00\">{&#39;negative&#39;: 27}</text>\n</g>\n<!-- rrlln&#45;&gt;rrllln -->\n<g id=\"edge107\" class=\"edge\">\n<title>rrlln&#45;&gt;rrllln</title>\n<path fill=\"none\" stroke=\"black\" d=\"M3530.27,-735.27C3520.51,-722.22 3508.53,-706.2 3498.02,-692.13\"/>\n<polygon fill=\"black\" stroke=\"black\" points=\"3500.81,-690.03 3492.02,-684.11 3495.21,-694.22 3500.81,-690.03\"/>\n<text text-anchor=\"middle\" x=\"3529.5\" y=\"-705.8\" font-family=\"Times,serif\" font-size=\"14.00\">True</text>\n</g>\n<!-- rrllrn -->\n<g id=\"node113\" class=\"node\">\n<title>rrllrn</title>\n<polygon fill=\"#ea0800\" fill-opacity=\"0.501961\" stroke=\"black\" points=\"3711.5,-683.5 3541.5,-683.5 3541.5,-630.5 3711.5,-630.5 3711.5,-683.5\"/>\n<text text-anchor=\"middle\" x=\"3626.5\" y=\"-668.3\" font-family=\"Times,serif\" font-size=\"14.00\">middle&#45;right&#45;square: o</text>\n<text text-anchor=\"middle\" x=\"3626.5\" y=\"-653.3\" font-family=\"Times,serif\" font-size=\"14.00\">n=28</text>\n<text text-anchor=\"middle\" x=\"3626.5\" y=\"-638.3\" font-family=\"Times,serif\" font-size=\"14.00\">{&#39;positive&#39;: 23, &#39;negative&#39;: 5}</text>\n</g>\n<!-- rrlln&#45;&gt;rrllrn -->\n<g id=\"edge118\" class=\"edge\">\n<title>rrlln&#45;&gt;rrllrn</title>\n<path fill=\"none\" stroke=\"black\" d=\"M3568.73,-735.27C3578.56,-722.12 3590.65,-705.95 3601.22,-691.81\"/>\n<polygon fill=\"black\" stroke=\"black\" points=\"3604.06,-693.86 3607.25,-683.75 3598.46,-689.67 3604.06,-693.86\"/>\n<text text-anchor=\"middle\" x=\"3608\" y=\"-705.8\" font-family=\"Times,serif\" font-size=\"14.00\">False</text>\n</g>\n<!-- rrllrln -->\n<g id=\"node114\" class=\"node\">\n<title>rrllrln</title>\n<polygon fill=\"#ea0800\" fill-opacity=\"0.501961\" stroke=\"black\" points=\"3621.5,-578.5 3457.5,-578.5 3457.5,-525.5 3621.5,-525.5 3621.5,-578.5\"/>\n<text text-anchor=\"middle\" x=\"3539.5\" y=\"-563.3\" font-family=\"Times,serif\" font-size=\"14.00\">bottom&#45;right&#45;square: o</text>\n<text text-anchor=\"middle\" x=\"3539.5\" y=\"-548.3\" font-family=\"Times,serif\" font-size=\"14.00\">n=11</text>\n<text text-anchor=\"middle\" x=\"3539.5\" y=\"-533.3\" font-family=\"Times,serif\" font-size=\"14.00\">{&#39;positive&#39;: 7, &#39;negative&#39;: 4}</text>\n</g>\n<!-- rrllrn&#45;&gt;rrllrln -->\n<g id=\"edge112\" class=\"edge\">\n<title>rrllrn&#45;&gt;rrllrln</title>\n<path fill=\"none\" stroke=\"black\" d=\"M3604.77,-630.27C3593.56,-617 3579.75,-600.65 3567.72,-586.41\"/>\n<polygon fill=\"black\" stroke=\"black\" points=\"3570.38,-584.14 3561.25,-578.75 3565.03,-588.65 3570.38,-584.14\"/>\n<text text-anchor=\"middle\" x=\"3601.5\" y=\"-600.8\" font-family=\"Times,serif\" font-size=\"14.00\">True</text>\n</g>\n<!-- rrllrrn -->\n<g id=\"node119\" class=\"node\">\n<title>rrllrrn</title>\n<polygon fill=\"#ea0800\" fill-opacity=\"0.501961\" stroke=\"black\" points=\"3809.5,-578.5 3639.5,-578.5 3639.5,-525.5 3809.5,-525.5 3809.5,-578.5\"/>\n<text text-anchor=\"middle\" x=\"3724.5\" y=\"-563.3\" font-family=\"Times,serif\" font-size=\"14.00\">bottom&#45;middle&#45;square: o</text>\n<text text-anchor=\"middle\" x=\"3724.5\" y=\"-548.3\" font-family=\"Times,serif\" font-size=\"14.00\">n=17</text>\n<text text-anchor=\"middle\" x=\"3724.5\" y=\"-533.3\" font-family=\"Times,serif\" font-size=\"14.00\">{&#39;positive&#39;: 16, &#39;negative&#39;: 1}</text>\n</g>\n<!-- rrllrn&#45;&gt;rrllrrn -->\n<g id=\"edge117\" class=\"edge\">\n<title>rrllrn&#45;&gt;rrllrrn</title>\n<path fill=\"none\" stroke=\"black\" d=\"M3650.98,-630.27C3663.72,-616.88 3679.45,-600.35 3693.08,-586.02\"/>\n<polygon fill=\"black\" stroke=\"black\" points=\"3695.64,-588.41 3700,-578.75 3690.57,-583.59 3695.64,-588.41\"/>\n<text text-anchor=\"middle\" x=\"3696\" y=\"-600.8\" font-family=\"Times,serif\" font-size=\"14.00\">False</text>\n</g>\n<!-- rrllrlln -->\n<g id=\"node115\" class=\"node\">\n<title>rrllrlln</title>\n<polygon fill=\"#ea0800\" fill-opacity=\"0.501961\" stroke=\"black\" points=\"3442,-474 3347,-474 3347,-420 3442,-420 3442,-474\"/>\n<text text-anchor=\"middle\" x=\"3394.5\" y=\"-442.8\" font-family=\"Times,serif\" font-size=\"14.00\">n=3</text>\n<text text-anchor=\"middle\" x=\"3394.5\" y=\"-427.8\" font-family=\"Times,serif\" font-size=\"14.00\">{&#39;negative&#39;: 3}</text>\n</g>\n<!-- rrllrln&#45;&gt;rrllrlln -->\n<g id=\"edge108\" class=\"edge\">\n<title>rrllrln&#45;&gt;rrllrlln</title>\n<path fill=\"none\" stroke=\"black\" d=\"M3503.28,-525.27C3483.97,-511.55 3460.02,-494.54 3439.52,-479.98\"/>\n<polygon fill=\"black\" stroke=\"black\" points=\"3441.44,-477.05 3431.26,-474.11 3437.39,-482.76 3441.44,-477.05\"/>\n<text text-anchor=\"middle\" x=\"3489.5\" y=\"-495.8\" font-family=\"Times,serif\" font-size=\"14.00\">True</text>\n</g>\n<!-- rrllrlrn -->\n<g id=\"node116\" class=\"node\">\n<title>rrllrlrn</title>\n<polygon fill=\"#ea0800\" fill-opacity=\"0.501961\" stroke=\"black\" points=\"3624.5,-473.5 3460.5,-473.5 3460.5,-420.5 3624.5,-420.5 3624.5,-473.5\"/>\n<text text-anchor=\"middle\" x=\"3542.5\" y=\"-458.3\" font-family=\"Times,serif\" font-size=\"14.00\">bottom&#45;middle&#45;square: o</text>\n<text text-anchor=\"middle\" x=\"3542.5\" y=\"-443.3\" font-family=\"Times,serif\" font-size=\"14.00\">n=8</text>\n<text text-anchor=\"middle\" x=\"3542.5\" y=\"-428.3\" font-family=\"Times,serif\" font-size=\"14.00\">{&#39;positive&#39;: 7, &#39;negative&#39;: 1}</text>\n</g>\n<!-- rrllrln&#45;&gt;rrllrlrn -->\n<g id=\"edge111\" class=\"edge\">\n<title>rrllrln&#45;&gt;rrllrlrn</title>\n<path fill=\"none\" stroke=\"black\" d=\"M3540.25,-525.27C3540.61,-512.74 3541.06,-497.46 3541.46,-483.81\"/>\n<polygon fill=\"black\" stroke=\"black\" points=\"3544.96,-483.85 3541.75,-473.75 3537.96,-483.65 3544.96,-483.85\"/>\n<text text-anchor=\"middle\" x=\"3556\" y=\"-495.8\" font-family=\"Times,serif\" font-size=\"14.00\">False</text>\n</g>\n<!-- rrllrlrln -->\n<g id=\"node117\" class=\"node\">\n<title>rrllrlrln</title>\n<polygon fill=\"#ea0800\" fill-opacity=\"0.501961\" stroke=\"black\" points=\"3511,-369 3416,-369 3416,-315 3511,-315 3511,-369\"/>\n<text text-anchor=\"middle\" x=\"3463.5\" y=\"-337.8\" font-family=\"Times,serif\" font-size=\"14.00\">n=1</text>\n<text text-anchor=\"middle\" x=\"3463.5\" y=\"-322.8\" font-family=\"Times,serif\" font-size=\"14.00\">{&#39;negative&#39;: 1}</text>\n</g>\n<!-- rrllrlrn&#45;&gt;rrllrlrln -->\n<g id=\"edge109\" class=\"edge\">\n<title>rrllrlrn&#45;&gt;rrllrlrln</title>\n<path fill=\"none\" stroke=\"black\" d=\"M3522.77,-420.27C3512.76,-407.22 3500.47,-391.2 3489.68,-377.13\"/>\n<polygon fill=\"black\" stroke=\"black\" points=\"3492.39,-374.92 3483.53,-369.11 3486.84,-379.18 3492.39,-374.92\"/>\n<text text-anchor=\"middle\" x=\"3521.5\" y=\"-390.8\" font-family=\"Times,serif\" font-size=\"14.00\">True</text>\n</g>\n<!-- rrllrlrrn -->\n<g id=\"node118\" class=\"node\">\n<title>rrllrlrrn</title>\n<polygon fill=\"#ea0800\" fill-opacity=\"0.501961\" stroke=\"black\" points=\"3621.5,-369 3529.5,-369 3529.5,-315 3621.5,-315 3621.5,-369\"/>\n<text text-anchor=\"middle\" x=\"3575.5\" y=\"-337.8\" font-family=\"Times,serif\" font-size=\"14.00\">n=7</text>\n<text text-anchor=\"middle\" x=\"3575.5\" y=\"-322.8\" font-family=\"Times,serif\" font-size=\"14.00\">{&#39;positive&#39;: 7}</text>\n</g>\n<!-- rrllrlrn&#45;&gt;rrllrlrrn -->\n<g id=\"edge110\" class=\"edge\">\n<title>rrllrlrn&#45;&gt;rrllrlrrn</title>\n<path fill=\"none\" stroke=\"black\" d=\"M3550.74,-420.27C3554.77,-407.71 3559.68,-392.39 3564.06,-378.72\"/>\n<polygon fill=\"black\" stroke=\"black\" points=\"3567.42,-379.7 3567.13,-369.11 3560.75,-377.57 3567.42,-379.7\"/>\n<text text-anchor=\"middle\" x=\"3576\" y=\"-390.8\" font-family=\"Times,serif\" font-size=\"14.00\">False</text>\n</g>\n<!-- rrllrrln -->\n<g id=\"node120\" class=\"node\">\n<title>rrllrrln</title>\n<polygon fill=\"#ea0800\" fill-opacity=\"0.501961\" stroke=\"black\" points=\"3806.5,-473.5 3642.5,-473.5 3642.5,-420.5 3806.5,-420.5 3806.5,-473.5\"/>\n<text text-anchor=\"middle\" x=\"3724.5\" y=\"-458.3\" font-family=\"Times,serif\" font-size=\"14.00\">middle&#45;left&#45;square: o</text>\n<text text-anchor=\"middle\" x=\"3724.5\" y=\"-443.3\" font-family=\"Times,serif\" font-size=\"14.00\">n=5</text>\n<text text-anchor=\"middle\" x=\"3724.5\" y=\"-428.3\" font-family=\"Times,serif\" font-size=\"14.00\">{&#39;positive&#39;: 4, &#39;negative&#39;: 1}</text>\n</g>\n<!-- rrllrrn&#45;&gt;rrllrrln -->\n<g id=\"edge115\" class=\"edge\">\n<title>rrllrrn&#45;&gt;rrllrrln</title>\n<path fill=\"none\" stroke=\"black\" d=\"M3724.5,-525.27C3724.5,-512.74 3724.5,-497.46 3724.5,-483.81\"/>\n<polygon fill=\"black\" stroke=\"black\" points=\"3728,-483.75 3724.5,-473.75 3721,-483.75 3728,-483.75\"/>\n<text text-anchor=\"middle\" x=\"3737.5\" y=\"-495.8\" font-family=\"Times,serif\" font-size=\"14.00\">True</text>\n</g>\n<!-- rrllrrrn -->\n<g id=\"node123\" class=\"node\">\n<title>rrllrrrn</title>\n<polygon fill=\"#ea0800\" fill-opacity=\"0.501961\" stroke=\"black\" points=\"3922.5,-474 3824.5,-474 3824.5,-420 3922.5,-420 3922.5,-474\"/>\n<text text-anchor=\"middle\" x=\"3873.5\" y=\"-442.8\" font-family=\"Times,serif\" font-size=\"14.00\">n=12</text>\n<text text-anchor=\"middle\" x=\"3873.5\" y=\"-427.8\" font-family=\"Times,serif\" font-size=\"14.00\">{&#39;positive&#39;: 12}</text>\n</g>\n<!-- rrllrrn&#45;&gt;rrllrrrn -->\n<g id=\"edge116\" class=\"edge\">\n<title>rrllrrn&#45;&gt;rrllrrrn</title>\n<path fill=\"none\" stroke=\"black\" d=\"M3761.71,-525.27C3781.56,-511.55 3806.17,-494.54 3827.24,-479.98\"/>\n<polygon fill=\"black\" stroke=\"black\" points=\"3829.49,-482.68 3835.72,-474.11 3825.51,-476.92 3829.49,-482.68\"/>\n<text text-anchor=\"middle\" x=\"3823\" y=\"-495.8\" font-family=\"Times,serif\" font-size=\"14.00\">False</text>\n</g>\n<!-- rrllrrlln -->\n<g id=\"node121\" class=\"node\">\n<title>rrllrrlln</title>\n<polygon fill=\"#ea0800\" fill-opacity=\"0.501961\" stroke=\"black\" points=\"3751,-369 3656,-369 3656,-315 3751,-315 3751,-369\"/>\n<text text-anchor=\"middle\" x=\"3703.5\" y=\"-337.8\" font-family=\"Times,serif\" font-size=\"14.00\">n=1</text>\n<text text-anchor=\"middle\" x=\"3703.5\" y=\"-322.8\" font-family=\"Times,serif\" font-size=\"14.00\">{&#39;negative&#39;: 1}</text>\n</g>\n<!-- rrllrrln&#45;&gt;rrllrrlln -->\n<g id=\"edge113\" class=\"edge\">\n<title>rrllrrln&#45;&gt;rrllrrlln</title>\n<path fill=\"none\" stroke=\"black\" d=\"M3719.25,-420.27C3716.72,-407.83 3713.63,-392.69 3710.86,-379.12\"/>\n<polygon fill=\"black\" stroke=\"black\" points=\"3714.25,-378.21 3708.82,-369.11 3707.39,-379.61 3714.25,-378.21\"/>\n<text text-anchor=\"middle\" x=\"3728.5\" y=\"-390.8\" font-family=\"Times,serif\" font-size=\"14.00\">True</text>\n</g>\n<!-- rrllrrlrn -->\n<g id=\"node122\" class=\"node\">\n<title>rrllrrlrn</title>\n<polygon fill=\"#ea0800\" fill-opacity=\"0.501961\" stroke=\"black\" points=\"3861.5,-369 3769.5,-369 3769.5,-315 3861.5,-315 3861.5,-369\"/>\n<text text-anchor=\"middle\" x=\"3815.5\" y=\"-337.8\" font-family=\"Times,serif\" font-size=\"14.00\">n=4</text>\n<text text-anchor=\"middle\" x=\"3815.5\" y=\"-322.8\" font-family=\"Times,serif\" font-size=\"14.00\">{&#39;positive&#39;: 4}</text>\n</g>\n<!-- rrllrrln&#45;&gt;rrllrrlrn -->\n<g id=\"edge114\" class=\"edge\">\n<title>rrllrrln&#45;&gt;rrllrrlrn</title>\n<path fill=\"none\" stroke=\"black\" d=\"M3747.23,-420.27C3758.87,-407.1 3773.18,-390.9 3785.69,-376.74\"/>\n<polygon fill=\"black\" stroke=\"black\" points=\"3788.43,-378.92 3792.43,-369.11 3783.19,-374.29 3788.43,-378.92\"/>\n<text text-anchor=\"middle\" x=\"3790\" y=\"-390.8\" font-family=\"Times,serif\" font-size=\"14.00\">False</text>\n</g>\n<!-- rrlrln -->\n<g id=\"node125\" class=\"node\">\n<title>rrlrln</title>\n<polygon fill=\"#ea0800\" fill-opacity=\"0.501961\" stroke=\"black\" points=\"3967,-683.5 3790,-683.5 3790,-630.5 3967,-630.5 3967,-683.5\"/>\n<text text-anchor=\"middle\" x=\"3878.5\" y=\"-668.3\" font-family=\"Times,serif\" font-size=\"14.00\">middle&#45;right&#45;square: o</text>\n<text text-anchor=\"middle\" x=\"3878.5\" y=\"-653.3\" font-family=\"Times,serif\" font-size=\"14.00\">n=37</text>\n<text text-anchor=\"middle\" x=\"3878.5\" y=\"-638.3\" font-family=\"Times,serif\" font-size=\"14.00\">{&#39;positive&#39;: 16, &#39;negative&#39;: 21}</text>\n</g>\n<!-- rrlrn&#45;&gt;rrlrln -->\n<g id=\"edge126\" class=\"edge\">\n<title>rrlrn&#45;&gt;rrlrln</title>\n<path fill=\"none\" stroke=\"black\" d=\"M3878.5,-735.27C3878.5,-722.74 3878.5,-707.46 3878.5,-693.81\"/>\n<polygon fill=\"black\" stroke=\"black\" points=\"3882,-693.75 3878.5,-683.75 3875,-693.75 3882,-693.75\"/>\n<text text-anchor=\"middle\" x=\"3891.5\" y=\"-705.8\" font-family=\"Times,serif\" font-size=\"14.00\">True</text>\n</g>\n<!-- rrlrrn -->\n<g id=\"node132\" class=\"node\">\n<title>rrlrrn</title>\n<polygon fill=\"#ea0800\" fill-opacity=\"0.501961\" stroke=\"black\" points=\"4082.5,-684 3984.5,-684 3984.5,-630 4082.5,-630 4082.5,-684\"/>\n<text text-anchor=\"middle\" x=\"4033.5\" y=\"-652.8\" font-family=\"Times,serif\" font-size=\"14.00\">n=53</text>\n<text text-anchor=\"middle\" x=\"4033.5\" y=\"-637.8\" font-family=\"Times,serif\" font-size=\"14.00\">{&#39;positive&#39;: 53}</text>\n</g>\n<!-- rrlrn&#45;&gt;rrlrrn -->\n<g id=\"edge127\" class=\"edge\">\n<title>rrlrn&#45;&gt;rrlrrn</title>\n<path fill=\"none\" stroke=\"black\" d=\"M3917.21,-735.27C3937.95,-721.49 3963.69,-704.39 3985.67,-689.78\"/>\n<polygon fill=\"black\" stroke=\"black\" points=\"3987.81,-692.56 3994.2,-684.11 3983.94,-686.73 3987.81,-692.56\"/>\n<text text-anchor=\"middle\" x=\"3980\" y=\"-705.8\" font-family=\"Times,serif\" font-size=\"14.00\">False</text>\n</g>\n<!-- rrlrlln -->\n<g id=\"node126\" class=\"node\">\n<title>rrlrlln</title>\n<polygon fill=\"#ea0800\" fill-opacity=\"0.501961\" stroke=\"black\" points=\"3929,-579 3828,-579 3828,-525 3929,-525 3929,-579\"/>\n<text text-anchor=\"middle\" x=\"3878.5\" y=\"-547.8\" font-family=\"Times,serif\" font-size=\"14.00\">n=20</text>\n<text text-anchor=\"middle\" x=\"3878.5\" y=\"-532.8\" font-family=\"Times,serif\" font-size=\"14.00\">{&#39;negative&#39;: 20}</text>\n</g>\n<!-- rrlrln&#45;&gt;rrlrlln -->\n<g id=\"edge120\" class=\"edge\">\n<title>rrlrln&#45;&gt;rrlrlln</title>\n<path fill=\"none\" stroke=\"black\" d=\"M3878.5,-630.27C3878.5,-617.83 3878.5,-602.69 3878.5,-589.12\"/>\n<polygon fill=\"black\" stroke=\"black\" points=\"3882,-589.11 3878.5,-579.11 3875,-589.11 3882,-589.11\"/>\n<text text-anchor=\"middle\" x=\"3891.5\" y=\"-600.8\" font-family=\"Times,serif\" font-size=\"14.00\">True</text>\n</g>\n<!-- rrlrlrn -->\n<g id=\"node127\" class=\"node\">\n<title>rrlrlrn</title>\n<polygon fill=\"#ea0800\" fill-opacity=\"0.501961\" stroke=\"black\" points=\"4117.5,-578.5 3947.5,-578.5 3947.5,-525.5 4117.5,-525.5 4117.5,-578.5\"/>\n<text text-anchor=\"middle\" x=\"4032.5\" y=\"-563.3\" font-family=\"Times,serif\" font-size=\"14.00\">middle&#45;left&#45;square: o</text>\n<text text-anchor=\"middle\" x=\"4032.5\" y=\"-548.3\" font-family=\"Times,serif\" font-size=\"14.00\">n=17</text>\n<text text-anchor=\"middle\" x=\"4032.5\" y=\"-533.3\" font-family=\"Times,serif\" font-size=\"14.00\">{&#39;positive&#39;: 16, &#39;negative&#39;: 1}</text>\n</g>\n<!-- rrlrln&#45;&gt;rrlrlrn -->\n<g id=\"edge125\" class=\"edge\">\n<title>rrlrln&#45;&gt;rrlrlrn</title>\n<path fill=\"none\" stroke=\"black\" d=\"M3916.96,-630.27C3937.81,-616.33 3963.72,-599 3985.73,-584.28\"/>\n<polygon fill=\"black\" stroke=\"black\" points=\"3987.89,-587.04 3994.26,-578.58 3984,-581.23 3987.89,-587.04\"/>\n<text text-anchor=\"middle\" x=\"3980\" y=\"-600.8\" font-family=\"Times,serif\" font-size=\"14.00\">False</text>\n</g>\n<!-- rrlrlrln -->\n<g id=\"node128\" class=\"node\">\n<title>rrlrlrln</title>\n<polygon fill=\"#ea0800\" fill-opacity=\"0.501961\" stroke=\"black\" points=\"4109.5,-473.5 3945.5,-473.5 3945.5,-420.5 4109.5,-420.5 4109.5,-473.5\"/>\n<text text-anchor=\"middle\" x=\"4027.5\" y=\"-458.3\" font-family=\"Times,serif\" font-size=\"14.00\">bottom&#45;middle&#45;square: o</text>\n<text text-anchor=\"middle\" x=\"4027.5\" y=\"-443.3\" font-family=\"Times,serif\" font-size=\"14.00\">n=4</text>\n<text text-anchor=\"middle\" x=\"4027.5\" y=\"-428.3\" font-family=\"Times,serif\" font-size=\"14.00\">{&#39;negative&#39;: 1, &#39;positive&#39;: 3}</text>\n</g>\n<!-- rrlrlrn&#45;&gt;rrlrlrln -->\n<g id=\"edge123\" class=\"edge\">\n<title>rrlrlrn&#45;&gt;rrlrlrln</title>\n<path fill=\"none\" stroke=\"black\" d=\"M4031.25,-525.27C4030.64,-512.74 4029.9,-497.46 4029.24,-483.81\"/>\n<polygon fill=\"black\" stroke=\"black\" points=\"4032.73,-483.57 4028.75,-473.75 4025.74,-483.91 4032.73,-483.57\"/>\n<text text-anchor=\"middle\" x=\"4043.5\" y=\"-495.8\" font-family=\"Times,serif\" font-size=\"14.00\">True</text>\n</g>\n<!-- rrlrlrrn -->\n<g id=\"node131\" class=\"node\">\n<title>rrlrlrrn</title>\n<polygon fill=\"#ea0800\" fill-opacity=\"0.501961\" stroke=\"black\" points=\"4225.5,-474 4127.5,-474 4127.5,-420 4225.5,-420 4225.5,-474\"/>\n<text text-anchor=\"middle\" x=\"4176.5\" y=\"-442.8\" font-family=\"Times,serif\" font-size=\"14.00\">n=13</text>\n<text text-anchor=\"middle\" x=\"4176.5\" y=\"-427.8\" font-family=\"Times,serif\" font-size=\"14.00\">{&#39;positive&#39;: 13}</text>\n</g>\n<!-- rrlrlrn&#45;&gt;rrlrlrrn -->\n<g id=\"edge124\" class=\"edge\">\n<title>rrlrlrn&#45;&gt;rrlrlrrn</title>\n<path fill=\"none\" stroke=\"black\" d=\"M4068.47,-525.27C4087.65,-511.55 4111.43,-494.54 4131.79,-479.98\"/>\n<polygon fill=\"black\" stroke=\"black\" points=\"4133.9,-482.78 4139.99,-474.11 4129.82,-477.08 4133.9,-482.78\"/>\n<text text-anchor=\"middle\" x=\"4128\" y=\"-495.8\" font-family=\"Times,serif\" font-size=\"14.00\">False</text>\n</g>\n<!-- rrlrlrlln -->\n<g id=\"node129\" class=\"node\">\n<title>rrlrlrlln</title>\n<polygon fill=\"#ea0800\" fill-opacity=\"0.501961\" stroke=\"black\" points=\"3983,-369 3888,-369 3888,-315 3983,-315 3983,-369\"/>\n<text text-anchor=\"middle\" x=\"3935.5\" y=\"-337.8\" font-family=\"Times,serif\" font-size=\"14.00\">n=1</text>\n<text text-anchor=\"middle\" x=\"3935.5\" y=\"-322.8\" font-family=\"Times,serif\" font-size=\"14.00\">{&#39;negative&#39;: 1}</text>\n</g>\n<!-- rrlrlrln&#45;&gt;rrlrlrlln -->\n<g id=\"edge121\" class=\"edge\">\n<title>rrlrlrln&#45;&gt;rrlrlrlln</title>\n<path fill=\"none\" stroke=\"black\" d=\"M4004.52,-420.27C3992.76,-407.1 3978.28,-390.9 3965.63,-376.74\"/>\n<polygon fill=\"black\" stroke=\"black\" points=\"3968.1,-374.24 3958.82,-369.11 3962.88,-378.9 3968.1,-374.24\"/>\n<text text-anchor=\"middle\" x=\"4000.5\" y=\"-390.8\" font-family=\"Times,serif\" font-size=\"14.00\">True</text>\n</g>\n<!-- rrlrlrlrn -->\n<g id=\"node130\" class=\"node\">\n<title>rrlrlrlrn</title>\n<polygon fill=\"#ea0800\" fill-opacity=\"0.501961\" stroke=\"black\" points=\"4093.5,-369 4001.5,-369 4001.5,-315 4093.5,-315 4093.5,-369\"/>\n<text text-anchor=\"middle\" x=\"4047.5\" y=\"-337.8\" font-family=\"Times,serif\" font-size=\"14.00\">n=3</text>\n<text text-anchor=\"middle\" x=\"4047.5\" y=\"-322.8\" font-family=\"Times,serif\" font-size=\"14.00\">{&#39;positive&#39;: 3}</text>\n</g>\n<!-- rrlrlrln&#45;&gt;rrlrlrlrn -->\n<g id=\"edge122\" class=\"edge\">\n<title>rrlrlrln&#45;&gt;rrlrlrlrn</title>\n<path fill=\"none\" stroke=\"black\" d=\"M4032.5,-420.27C4034.91,-407.83 4037.85,-392.69 4040.49,-379.12\"/>\n<polygon fill=\"black\" stroke=\"black\" points=\"4043.96,-379.6 4042.43,-369.11 4037.09,-378.26 4043.96,-379.6\"/>\n<text text-anchor=\"middle\" x=\"4054\" y=\"-390.8\" font-family=\"Times,serif\" font-size=\"14.00\">False</text>\n</g>\n</g>\n</svg>\n",
            "text/plain": [
              "<graphviz.graphs.Digraph at 0x79ec63971ee0>"
            ]
          },
          "metadata": {},
          "execution_count": 11
        }
      ],
      "source": [
        "arbol = Tree()\n",
        "arbol.fit(X_train, y_train)\n",
        "print(arbol)\n",
        "arbol.render()"
      ]
    },
    {
      "cell_type": "markdown",
      "metadata": {
        "id": "wDi6SsRay0LD"
      },
      "source": [
        "Para evaluar instancias en el árbol podemos elegir alguna del conjunto de testeo y evaluarlas de la siguiente manera:"
      ]
    },
    {
      "cell_type": "code",
      "execution_count": 12,
      "metadata": {
        "id": "4_-W4EySy0LD",
        "outputId": "a222dcf4-0995-4926-c1cb-ff65678a2b44",
        "colab": {
          "base_uri": "https://localhost:8080/"
        }
      },
      "outputs": [
        {
          "output_type": "stream",
          "name": "stdout",
          "text": [
            "Para una instancia {'top-left-square': 'x', 'top-middle-square': 'x', 'top-right-square': 'o', 'middle-left-square': 'x', 'middle-middle-square': 'x', 'middle-right-square': 'b', 'bottom-left-square': 'o', 'bottom-middle-square': 'o', 'bottom-right-square': 'o'} obtuve negative\n",
            "Para una instancia {'top-left-square': 'o', 'top-middle-square': 'b', 'top-right-square': 'x', 'middle-left-square': 'o', 'middle-middle-square': 'x', 'middle-right-square': 'x', 'bottom-left-square': 'o', 'bottom-middle-square': 'b', 'bottom-right-square': 'b'} obtuve negative\n",
            "Para una instancia {'top-left-square': 'b', 'top-middle-square': 'o', 'top-right-square': 'b', 'middle-left-square': 'x', 'middle-middle-square': 'o', 'middle-right-square': 'b', 'bottom-left-square': 'x', 'bottom-middle-square': 'o', 'bottom-right-square': 'x'} obtuve negative\n",
            "Para una instancia {'top-left-square': 'x', 'top-middle-square': 'x', 'top-right-square': 'x', 'middle-left-square': 'b', 'middle-middle-square': 'b', 'middle-right-square': 'o', 'bottom-left-square': 'o', 'bottom-middle-square': 'b', 'bottom-right-square': 'b'} obtuve positive\n"
          ]
        }
      ],
      "source": [
        "xs_nuevo = X_test.head(4).to_dict(orient='records')\n",
        "\n",
        "for instancia in xs_nuevo:\n",
        "    res = arbol.predict(instancia)\n",
        "    print(f\"Para una instancia {instancia} obtuve {res}\")"
      ]
    },
    {
      "cell_type": "markdown",
      "metadata": {
        "id": "7mCnJlO4y0LE"
      },
      "source": [
        "¿Se obtuvieron los valores esperados? Explorar al menos 1 caso por cada rama del árbol."
      ]
    },
    {
      "cell_type": "markdown",
      "metadata": {
        "id": "7BVpldLny0LE"
      },
      "source": [
        "## Importancia de los atributos"
      ]
    },
    {
      "cell_type": "markdown",
      "metadata": {
        "id": "hfQg1AA0y0LE"
      },
      "source": [
        "A continuación, implementaremos dos métodos distintos para medir la importancia de los atributos en nuestro árbol de decisión. Estos métodos nos permitirán entender mejor qué variables tienen mayor influencia en las predicciones del modelo. El primer método que implementaremos es la Importancia Gini, que se basa en la reducción de la impureza Gini en cada nodo del árbol. El segundo método es la Importancia por Permutación, que evalúa cuánto empeora el rendimiento del modelo cuando los valores de una característica se permutan aleatoriamente."
      ]
    },
    {
      "cell_type": "markdown",
      "metadata": {
        "id": "q9yAn_Puy0LE"
      },
      "source": [
        "*Gini importance*"
      ]
    },
    {
      "cell_type": "code",
      "execution_count": 14,
      "metadata": {
        "id": "y_30s9F_y0LE"
      },
      "outputs": [],
      "source": [
        "def gini_importance(tree: Tree) -> dict:\n",
        "    \"\"\"\n",
        "    Calcula la Disminución Media en la Impureza (Importancia Gini) para un árbol de decisión entrenado.\n",
        "\n",
        "    Argumentos:\n",
        "    - arbol: Una instancia de Tree entrenada\n",
        "\n",
        "    Retorna:\n",
        "    - Un diccionario que asocia los nombres de los atributos con sus puntajes de importancia Gini\n",
        "    \"\"\"\n",
        "\n",
        "    importance = {}\n",
        "\n",
        "    def recorrer_arbol(node: Tree, parent_samples: int):\n",
        "        # Si es una hoja termina la recursión\n",
        "        if node.decision is None:\n",
        "            return\n",
        "\n",
        "        # Qué atributo se uso en ese nodo\n",
        "        feature = node.decision.feature\n",
        "\n",
        "        # Si todavia no habiamos usado ese atributo para partir un nodo\n",
        "        if feature not in importance:\n",
        "            importance[feature] = 0\n",
        "\n",
        "        # Calculamos Gini gain del corte\n",
        "        gini_gain = ganancia_gini(node.left.data, node.right.data)\n",
        "\n",
        "\n",
        "        # Actualizamos el valor de ese atributo\n",
        "        importance[feature] = importance[feature] + gini_gain / parent_samples\n",
        "\n",
        "        # Recorrer recursivamente los subárboles\n",
        "        recorrer_arbol(node.left, parent_samples)\n",
        "        recorrer_arbol(node.right, parent_samples)\n",
        "\n",
        "    # Arrancamos el recorrido desde la raíz\n",
        "    cantidad_total = sum(tree.data.values())\n",
        "    recorrer_arbol(tree, cantidad_total)\n",
        "\n",
        "    return importance"
      ]
    },
    {
      "cell_type": "code",
      "execution_count": 15,
      "metadata": {
        "id": "eE9pQsFry0LF",
        "outputId": "cd8b686d-2fe6-418f-e092-159a0578f000",
        "colab": {
          "base_uri": "https://localhost:8080/",
          "height": 287
        }
      },
      "outputs": [
        {
          "output_type": "error",
          "ename": "ValueError",
          "evalue": "zero-dimensional arrays cannot be concatenated",
          "traceback": [
            "\u001b[0;31m---------------------------------------------------------------------------\u001b[0m",
            "\u001b[0;31mValueError\u001b[0m                                Traceback (most recent call last)",
            "\u001b[0;32m/tmp/ipython-input-3070301365.py\u001b[0m in \u001b[0;36m<cell line: 0>\u001b[0;34m()\u001b[0m\n\u001b[0;32m----> 1\u001b[0;31m \u001b[0mgini_importance\u001b[0m\u001b[0;34m(\u001b[0m\u001b[0marbol\u001b[0m\u001b[0;34m)\u001b[0m\u001b[0;34m\u001b[0m\u001b[0;34m\u001b[0m\u001b[0m\n\u001b[0m",
            "\u001b[0;32m/tmp/ipython-input-2497661908.py\u001b[0m in \u001b[0;36mgini_importance\u001b[0;34m(tree)\u001b[0m\n\u001b[1;32m     37\u001b[0m     \u001b[0;31m# Arrancamos el recorrido desde la raíz\u001b[0m\u001b[0;34m\u001b[0m\u001b[0;34m\u001b[0m\u001b[0m\n\u001b[1;32m     38\u001b[0m     \u001b[0mcantidad_total\u001b[0m \u001b[0;34m=\u001b[0m \u001b[0msum\u001b[0m\u001b[0;34m(\u001b[0m\u001b[0mtree\u001b[0m\u001b[0;34m.\u001b[0m\u001b[0mdata\u001b[0m\u001b[0;34m.\u001b[0m\u001b[0mvalues\u001b[0m\u001b[0;34m(\u001b[0m\u001b[0;34m)\u001b[0m\u001b[0;34m)\u001b[0m\u001b[0;34m\u001b[0m\u001b[0;34m\u001b[0m\u001b[0m\n\u001b[0;32m---> 39\u001b[0;31m     \u001b[0mrecorrer_arbol\u001b[0m\u001b[0;34m(\u001b[0m\u001b[0mtree\u001b[0m\u001b[0;34m,\u001b[0m \u001b[0mcantidad_total\u001b[0m\u001b[0;34m)\u001b[0m\u001b[0;34m\u001b[0m\u001b[0;34m\u001b[0m\u001b[0m\n\u001b[0m\u001b[1;32m     40\u001b[0m \u001b[0;34m\u001b[0m\u001b[0m\n\u001b[1;32m     41\u001b[0m     \u001b[0;32mreturn\u001b[0m \u001b[0mimportance\u001b[0m\u001b[0;34m\u001b[0m\u001b[0;34m\u001b[0m\u001b[0m\n",
            "\u001b[0;32m/tmp/ipython-input-2497661908.py\u001b[0m in \u001b[0;36mrecorrer_arbol\u001b[0;34m(node, parent_samples)\u001b[0m\n\u001b[1;32m     25\u001b[0m \u001b[0;34m\u001b[0m\u001b[0m\n\u001b[1;32m     26\u001b[0m         \u001b[0;31m# Calculamos Gini gain del corte\u001b[0m\u001b[0;34m\u001b[0m\u001b[0;34m\u001b[0m\u001b[0m\n\u001b[0;32m---> 27\u001b[0;31m         \u001b[0mgini_gain\u001b[0m \u001b[0;34m=\u001b[0m \u001b[0mganancia_gini\u001b[0m\u001b[0;34m(\u001b[0m\u001b[0mnode\u001b[0m\u001b[0;34m.\u001b[0m\u001b[0mleft\u001b[0m\u001b[0;34m.\u001b[0m\u001b[0mdata\u001b[0m\u001b[0;34m,\u001b[0m \u001b[0mnode\u001b[0m\u001b[0;34m.\u001b[0m\u001b[0mright\u001b[0m\u001b[0;34m.\u001b[0m\u001b[0mdata\u001b[0m\u001b[0;34m)\u001b[0m\u001b[0;34m\u001b[0m\u001b[0;34m\u001b[0m\u001b[0m\n\u001b[0m\u001b[1;32m     28\u001b[0m \u001b[0;34m\u001b[0m\u001b[0m\n\u001b[1;32m     29\u001b[0m \u001b[0;34m\u001b[0m\u001b[0m\n",
            "\u001b[0;32m/tmp/ipython-input-62877529.py\u001b[0m in \u001b[0;36mganancia_gini\u001b[0;34m(etiquetas_rama_izquierda, etiquetas_rama_derecha)\u001b[0m\n\u001b[1;32m      1\u001b[0m \u001b[0;32mdef\u001b[0m \u001b[0mganancia_gini\u001b[0m\u001b[0;34m(\u001b[0m\u001b[0metiquetas_rama_izquierda\u001b[0m\u001b[0;34m:\u001b[0m \u001b[0mnp\u001b[0m\u001b[0;34m.\u001b[0m\u001b[0mndarray\u001b[0m\u001b[0;34m,\u001b[0m \u001b[0metiquetas_rama_derecha\u001b[0m\u001b[0;34m:\u001b[0m \u001b[0mnp\u001b[0m\u001b[0;34m.\u001b[0m\u001b[0mndarray\u001b[0m\u001b[0;34m)\u001b[0m \u001b[0;34m->\u001b[0m \u001b[0mfloat\u001b[0m\u001b[0;34m:\u001b[0m\u001b[0;34m\u001b[0m\u001b[0;34m\u001b[0m\u001b[0m\n\u001b[1;32m      2\u001b[0m     \u001b[0;31m# COMPLETAR\u001b[0m\u001b[0;34m\u001b[0m\u001b[0;34m\u001b[0m\u001b[0m\n\u001b[0;32m----> 3\u001b[0;31m     \u001b[0metiquetas\u001b[0m \u001b[0;34m=\u001b[0m \u001b[0mnp\u001b[0m\u001b[0;34m.\u001b[0m\u001b[0mconcatenate\u001b[0m\u001b[0;34m(\u001b[0m\u001b[0;34m[\u001b[0m\u001b[0metiquetas_rama_izquierda\u001b[0m\u001b[0;34m,\u001b[0m \u001b[0metiquetas_rama_derecha\u001b[0m\u001b[0;34m]\u001b[0m\u001b[0;34m)\u001b[0m\u001b[0;34m\u001b[0m\u001b[0;34m\u001b[0m\u001b[0m\n\u001b[0m\u001b[1;32m      4\u001b[0m     \u001b[0mgini_total\u001b[0m \u001b[0;34m=\u001b[0m \u001b[0mgini\u001b[0m\u001b[0;34m(\u001b[0m\u001b[0metiquetas\u001b[0m\u001b[0;34m)\u001b[0m\u001b[0;34m\u001b[0m\u001b[0;34m\u001b[0m\u001b[0m\n\u001b[1;32m      5\u001b[0m     \u001b[0mgini_rama_izquierda\u001b[0m \u001b[0;34m=\u001b[0m \u001b[0mgini\u001b[0m\u001b[0;34m(\u001b[0m\u001b[0metiquetas_rama_izquierda\u001b[0m\u001b[0;34m)\u001b[0m\u001b[0;34m\u001b[0m\u001b[0;34m\u001b[0m\u001b[0m\n",
            "\u001b[0;31mValueError\u001b[0m: zero-dimensional arrays cannot be concatenated"
          ]
        }
      ],
      "source": [
        "gini_importance(arbol)"
      ]
    },
    {
      "cell_type": "markdown",
      "metadata": {
        "id": "_-TgZpLdy0LF"
      },
      "source": [
        "*Permutation importance*"
      ]
    },
    {
      "cell_type": "code",
      "execution_count": 16,
      "metadata": {
        "id": "EIgmO8dgy0LF",
        "outputId": "5c06264a-b629-48bf-cfe6-c1920f8cec4e",
        "colab": {
          "base_uri": "https://localhost:8080/",
          "height": 106
        }
      },
      "outputs": [
        {
          "output_type": "error",
          "ename": "SyntaxError",
          "evalue": "invalid syntax (ipython-input-1022792276.py, line 36)",
          "traceback": [
            "\u001b[0;36m  File \u001b[0;32m\"/tmp/ipython-input-1022792276.py\"\u001b[0;36m, line \u001b[0;32m36\u001b[0m\n\u001b[0;31m    X_corrupted = #COMPLETAR\u001b[0m\n\u001b[0m                  ^\u001b[0m\n\u001b[0;31mSyntaxError\u001b[0m\u001b[0;31m:\u001b[0m invalid syntax\n"
          ]
        }
      ],
      "source": [
        "from typing import Callable\n",
        "\n",
        "def permutation_importance(\n",
        "    tree: Tree,\n",
        "    X: pd.DataFrame,\n",
        "    y: np.ndarray,\n",
        "    score_func: Callable,\n",
        "    n_repeats: int = 10\n",
        ") -> dict:\n",
        "    \"\"\"\n",
        "    Calcula la importancia por permutación para los atributos en un árbol entrenado.\n",
        "\n",
        "    Argumentos:\n",
        "    - tree: Instancia de Tree entrenada\n",
        "    - X: DataFrame de atributos\n",
        "    - y: Vector de etiquetas\n",
        "    - score_func: Función para calcular el puntaje (por ejemplo, accuracy_score, r2_score)\n",
        "    - n_repeats: Número de veces para repetir el proceso de permutación\n",
        "\n",
        "    Retorna:\n",
        "    - Diccionario de importancias de los atributos\n",
        "    \"\"\"\n",
        "\n",
        "    # Calcular el puntaje de referencia\n",
        "    y_pred = np.array([tree.predict(x) for _, x in X.iterrows()])\n",
        "    reference_score = score_func(y, y_pred)\n",
        "\n",
        "    n_samples, n_features = X.shape\n",
        "    importances = {}\n",
        "\n",
        "    for feature in X.columns:\n",
        "        feature_importance = []\n",
        "\n",
        "        for _ in range(n_repeats):\n",
        "            # Crear una copia de los datos\n",
        "            X_corrupted = #COMPLETAR\n",
        "\n",
        "            # Permutar aleatoriamente los valores en la columna feature\n",
        "            X_corrupted[feature] = #COMPLETAR\n",
        "\n",
        "            # Calcular el nuevo score usando los datos corrompidos\n",
        "            corrupted_score = #COMPLETAR\n",
        "\n",
        "            feature_importance.append(corrupted_score)\n",
        "\n",
        "        # Calcular la importancia para este atributo según el algoritmo\n",
        "        importances[feature] = #COMPLETAR\n",
        "\n",
        "    return importances"
      ]
    },
    {
      "cell_type": "code",
      "execution_count": null,
      "metadata": {
        "id": "A7B0Gfnay0LF"
      },
      "outputs": [],
      "source": [
        "from sklearn.metrics import accuracy_score\n",
        "\n",
        "permutation_importance(arbol, X_train, y_train, accuracy_score)"
      ]
    },
    {
      "cell_type": "markdown",
      "metadata": {
        "id": "jq2vqJJ7y0LF"
      },
      "source": [
        "¿Se obtienen los mismos valores cuando se calcula sobre el conjunto de testeo?"
      ]
    },
    {
      "cell_type": "markdown",
      "metadata": {
        "id": "40JEoiMny0LG"
      },
      "source": [
        "# Opcional: Atributos continuos"
      ]
    },
    {
      "cell_type": "markdown",
      "metadata": {
        "id": "zZGVhTjLy0LG"
      },
      "source": [
        "La implementación anterior permite construir árboles partiendo de un dataset cuyos atributos no son continuos. Modificar dicha implementación para que soporte este tipo de atributos.\n",
        "¿Qué funciones hay que modificar?"
      ]
    }
  ],
  "metadata": {
    "celltoolbar": "Tags",
    "kernelspec": {
      "display_name": "Python 3 (ipykernel)",
      "language": "python",
      "name": "python3"
    },
    "language_info": {
      "codemirror_mode": {
        "name": "ipython",
        "version": 3
      },
      "file_extension": ".py",
      "mimetype": "text/x-python",
      "name": "python",
      "nbconvert_exporter": "python",
      "pygments_lexer": "ipython3",
      "version": "3.10.12"
    },
    "colab": {
      "provenance": [],
      "include_colab_link": true
    }
  },
  "nbformat": 4,
  "nbformat_minor": 0
}